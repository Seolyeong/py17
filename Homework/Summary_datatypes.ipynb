{
  "nbformat": 4,
  "nbformat_minor": 0,
  "metadata": {
    "colab": {
      "name": "Summary_datatypes.ipynb",
      "version": "0.3.2",
      "provenance": [],
      "collapsed_sections": [],
      "include_colab_link": true
    },
    "kernelspec": {
      "name": "python3",
      "display_name": "Python 3"
    }
  },
  "cells": [
    {
      "cell_type": "markdown",
      "metadata": {
        "id": "view-in-github",
        "colab_type": "text"
      },
      "source": [
        "[View in Colaboratory](https://colab.research.google.com/github/Seolyeong/py17/blob/master/Summary_datatypes.ipynb)"
      ]
    },
    {
      "metadata": {
        "id": "fso4xZWx6DRp",
        "colab_type": "text"
      },
      "cell_type": "markdown",
      "source": [
        "##  Summary of datatype in Python\n",
        "\n",
        "- list\n",
        "- dictionary\n",
        "- tuple\n",
        "- set\n",
        "- string\n",
        "\n"
      ]
    },
    {
      "metadata": {
        "id": "YW-za68x6VOR",
        "colab_type": "text"
      },
      "cell_type": "markdown",
      "source": [
        "### 리스트 생성 및 항목 추가"
      ]
    },
    {
      "metadata": {
        "id": "ZqliYVag51ah",
        "colab_type": "code",
        "colab": {}
      },
      "cell_type": "code",
      "source": [
        "a= [10, 20, 30, 40, 50] "
      ],
      "execution_count": 0,
      "outputs": []
    },
    {
      "metadata": {
        "id": "_CygrXqV7Ttw",
        "colab_type": "code",
        "colab": {
          "base_uri": "https://localhost:8080/",
          "height": 53
        },
        "outputId": "13b4812a-6754-405e-fce7-db20acd160f5"
      },
      "cell_type": "code",
      "source": [
        "# 0,1,2,... 인덱스는 리스트 처음부터 시작\n",
        "# -1, -2, ... 인덱스는 리스트 마지막부터 시작\n",
        "print(\"a[0]==\", a[0], \", a[2] ==\", a[2], \", a[4] ==\", a[4])\n",
        "print(\"a[-1]==\", a[-1], \", a[-2] ==\", a[-2], \", a[-5] ==\", a[-5])"
      ],
      "execution_count": 2,
      "outputs": [
        {
          "output_type": "stream",
          "text": [
            "a[0]== 10 , a[2] == 30 , a[4] == 50\n",
            "a[-1]== 50 , a[-2] == 40 , a[-5] == 10\n"
          ],
          "name": "stdout"
        }
      ]
    },
    {
      "metadata": {
        "id": "NU5iZaJB8Cnp",
        "colab_type": "code",
        "colab": {}
      },
      "cell_type": "code",
      "source": [
        "b= [10, 20, \"Hello\", [True, 3.14]]"
      ],
      "execution_count": 0,
      "outputs": []
    },
    {
      "metadata": {
        "id": "Ua0NCa5j8L-7",
        "colab_type": "code",
        "colab": {
          "base_uri": "https://localhost:8080/",
          "height": 53
        },
        "outputId": "d7a4eba9-561e-48a3-abc2-26cad61c6417"
      },
      "cell_type": "code",
      "source": [
        "# b[3] 또는 b[-1] 값은 [True, 3.14] 리스트 전체임\n",
        "print(\"b[0]==\", b[0], \", b[2] ==\", b[2], \", b[3] ==\", a[3])\n",
        "print(\"b[-1]==\", b[-1], \", b[-2] ==\", b[-2], \", a[-4] ==\", a[-4])"
      ],
      "execution_count": 4,
      "outputs": [
        {
          "output_type": "stream",
          "text": [
            "b[0]== 10 , b[2] == Hello , b[3] == 40\n",
            "b[-1]== [True, 3.14] , b[-2] == Hello , a[-4] == 20\n"
          ],
          "name": "stdout"
        }
      ]
    },
    {
      "metadata": {
        "id": "hf9K5puz8nMa",
        "colab_type": "code",
        "colab": {
          "base_uri": "https://localhost:8080/",
          "height": 53
        },
        "outputId": "071b5302-fe6e-4c4c-de2a-a993110fc8eb"
      },
      "cell_type": "code",
      "source": [
        "# 2차원 배열 b[3][0] 네번째 value값에서 첫번째 value값\n",
        "# 즉, 3이라는 인덱스에서 0이라는 인덱스 값을 가진다\n",
        "print(\"b[3][0]==\", b[3][0], \", b[3][1] ==\", b[3][1])\n",
        "print(\"b[-1][-1]==\", b[-1][-1], \", b[-1][-2] ==\", b[-1][-2])"
      ],
      "execution_count": 5,
      "outputs": [
        {
          "output_type": "stream",
          "text": [
            "b[3][0]== True , b[3][1] == 3.14\n",
            "b[-1][-1]== 3.14 , b[-1][-2] == True\n"
          ],
          "name": "stdout"
        }
      ]
    },
    {
      "metadata": {
        "id": "FRnVL0Wu9Oqt",
        "colab_type": "code",
        "colab": {
          "base_uri": "https://localhost:8080/",
          "height": 35
        },
        "outputId": "a68d7fc9-e480-4caf-cf91-f32725a7a3b8"
      },
      "cell_type": "code",
      "source": [
        "b[-2][-2]\n",
        "# 문자'l'이 출력되는 이유는 'Hello'에서 끝에서 두번째인 'l'이 출력된다."
      ],
      "execution_count": 6,
      "outputs": [
        {
          "output_type": "execute_result",
          "data": {
            "text/plain": [
              "'l'"
            ]
          },
          "metadata": {
            "tags": []
          },
          "execution_count": 6
        }
      ]
    },
    {
      "metadata": {
        "id": "jtYjmsPA9_L_",
        "colab_type": "code",
        "colab": {
          "base_uri": "https://localhost:8080/",
          "height": 71
        },
        "outputId": "9b526587-0af2-4e18-b941-eeb236475490"
      },
      "cell_type": "code",
      "source": [
        "# a[0:2] => 인덱스 0부터 1(2 - 1)까지, a[1:] => 인덱스 1부터 끝까지\n",
        "# a[:3] => 인덱스 처음부터 2(3 - 1)까지 , a[:-2] => 인덱스 처음부터  -3(-2 -1)까지\n",
        "# a[:] => 인덱스 처음부터 끝까지\n",
        "\n",
        "print(\"a[0:2] ==\", a[0:2], \", a[1:] ==\", a[1:])\n",
        "print(\"a[:3] ==\", a[:3], \", a[:-2] ==\", a[:-2])\n",
        "print(\"a[:] ==\", a[:])"
      ],
      "execution_count": 7,
      "outputs": [
        {
          "output_type": "stream",
          "text": [
            "a[0:2] == [10, 20] , a[1:] == [20, 30, 40, 50]\n",
            "a[:3] == [10, 20, 30] , a[:-2] == [10, 20, 30]\n",
            "a[:] == [10, 20, 30, 40, 50]\n"
          ],
          "name": "stdout"
        }
      ]
    },
    {
      "metadata": {
        "id": "Ek0V2D_FB2EH",
        "colab_type": "text"
      },
      "cell_type": "markdown",
      "source": [
        "### Tuple 데이터타입 \n",
        "- 리스트 내의 원소를 변경할 수 있지만 튜플은 변경할 수 없다.\n",
        "- 리스트는 [ ]으로 둘러싸지만 튜플은 ( )으로 둘러싼다."
      ]
    },
    {
      "metadata": {
        "id": "eZsOBu0q_rKJ",
        "colab_type": "code",
        "colab": {}
      },
      "cell_type": "code",
      "source": [
        "a= (10, 20, 30, 40, 50)"
      ],
      "execution_count": 0,
      "outputs": []
    },
    {
      "metadata": {
        "id": "1cR8bQteCao_",
        "colab_type": "code",
        "colab": {
          "base_uri": "https://localhost:8080/",
          "height": 53
        },
        "outputId": "9313a21a-da82-4f91-b976-3e124b61ae35"
      },
      "cell_type": "code",
      "source": [
        "print(\"a[0]==\", a[0], \", a[-2] ==\", a[-2], \", a[:] ==\", a[:])\n",
        "print(\"a[0:2]==\", a[0:2], \", a[1:] ==\", a[1:])"
      ],
      "execution_count": 9,
      "outputs": [
        {
          "output_type": "stream",
          "text": [
            "a[0]== 10 , a[-2] == 40 , a[:] == (10, 20, 30, 40, 50)\n",
            "a[0:2]== (10, 20) , a[1:] == (20, 30, 40, 50)\n"
          ],
          "name": "stdout"
        }
      ]
    },
    {
      "metadata": {
        "id": "CxtjicCaCsH6",
        "colab_type": "code",
        "colab": {
          "base_uri": "https://localhost:8080/",
          "height": 172
        },
        "outputId": "2bf839d4-ba75-43ef-bffa-c8257c63e27b"
      },
      "cell_type": "code",
      "source": [
        "a[0] = 100 # a[0]값을 100으로 변경하려하기 때문에 에러발생"
      ],
      "execution_count": 10,
      "outputs": [
        {
          "output_type": "error",
          "ename": "TypeError",
          "evalue": "ignored",
          "traceback": [
            "\u001b[0;31m---------------------------------------------------------------------------\u001b[0m",
            "\u001b[0;31mTypeError\u001b[0m                                 Traceback (most recent call last)",
            "\u001b[0;32m<ipython-input-10-d16276e41c45>\u001b[0m in \u001b[0;36m<module>\u001b[0;34m()\u001b[0m\n\u001b[0;32m----> 1\u001b[0;31m \u001b[0ma\u001b[0m\u001b[0;34m[\u001b[0m\u001b[0;36m0\u001b[0m\u001b[0;34m]\u001b[0m \u001b[0;34m=\u001b[0m \u001b[0;36m100\u001b[0m \u001b[0;31m# a[0]값을 100으로 변경하려하기 때문에 에러발생\u001b[0m\u001b[0;34m\u001b[0m\u001b[0m\n\u001b[0m",
            "\u001b[0;31mTypeError\u001b[0m: 'tuple' object does not support item assignment"
          ]
        }
      ]
    },
    {
      "metadata": {
        "id": "RtlAp9FIC0q-",
        "colab_type": "text"
      },
      "cell_type": "markdown",
      "source": [
        "### Dictionary 데이터타입\n",
        "- 키(key)와 값(value)을 한 쌍으로 해서 데이터를 저장한다."
      ]
    },
    {
      "metadata": {
        "id": "hcAMe9BFCzNy",
        "colab_type": "code",
        "colab": {}
      },
      "cell_type": "code",
      "source": [
        "score = {\"KIM\":90, \"LEE\":85, \"JUN\":95}"
      ],
      "execution_count": 0,
      "outputs": []
    },
    {
      "metadata": {
        "id": "ZepIXUPPDmB6",
        "colab_type": "code",
        "colab": {
          "base_uri": "https://localhost:8080/",
          "height": 35
        },
        "outputId": "188fedb2-6b3b-446a-e2f7-53fae430249f"
      },
      "cell_type": "code",
      "source": [
        "print(\"score['KIM'] ==\", score['KIM'])"
      ],
      "execution_count": 12,
      "outputs": [
        {
          "output_type": "stream",
          "text": [
            "score['KIM'] == 90\n"
          ],
          "name": "stdout"
        }
      ]
    },
    {
      "metadata": {
        "id": "TvFhrCV8Dv3M",
        "colab_type": "code",
        "colab": {
          "base_uri": "https://localhost:8080/",
          "height": 35
        },
        "outputId": "2cc14fb4-5099-4f23-d04f-64c3a4c684af"
      },
      "cell_type": "code",
      "source": [
        "score['HAN']=100 # 새 원소 추가\n",
        "# Dictionary는 입력한 순서대로 데이터가 들어가는 것이 아니므로 주의\n",
        "print(score)"
      ],
      "execution_count": 13,
      "outputs": [
        {
          "output_type": "stream",
          "text": [
            "{'KIM': 90, 'LEE': 85, 'JUN': 95, 'HAN': 100}\n"
          ],
          "name": "stdout"
        }
      ]
    },
    {
      "metadata": {
        "id": "p5mH8y1zEQME",
        "colab_type": "code",
        "colab": {
          "base_uri": "https://localhost:8080/",
          "height": 71
        },
        "outputId": "6c89b30e-17b5-4da7-cee7-95f24716845f"
      },
      "cell_type": "code",
      "source": [
        "# Dictionary key, value, (key, value)\n",
        "\n",
        "print(\"score key ==\", score.keys())\n",
        "print(\"score value ==\", score.values())\n",
        "print(\"score items ==\", score.items())"
      ],
      "execution_count": 14,
      "outputs": [
        {
          "output_type": "stream",
          "text": [
            "score key == dict_keys(['KIM', 'LEE', 'JUN', 'HAN'])\n",
            "score value == dict_values([90, 85, 95, 100])\n",
            "score items == dict_items([('KIM', 90), ('LEE', 85), ('JUN', 95), ('HAN', 100)])\n"
          ],
          "name": "stdout"
        }
      ]
    },
    {
      "metadata": {
        "id": "uJqhCLrkEyI2",
        "colab_type": "text"
      },
      "cell_type": "markdown",
      "source": [
        "### String 데이터타입\n",
        "- 문자열 내의 각각의 값 또한 문자열로 인식된다.\n",
        "- list로 반환하는 split() 함수는 머신러닝 코드에서 문자열 데이터 전처리 하기 위해 중요!"
      ]
    },
    {
      "metadata": {
        "id": "shd1C6WCEsDR",
        "colab_type": "code",
        "colab": {}
      },
      "cell_type": "code",
      "source": [
        "a= 'A73,CD'"
      ],
      "execution_count": 0,
      "outputs": []
    },
    {
      "metadata": {
        "id": "48f5vZDlFWqz",
        "colab_type": "code",
        "colab": {
          "base_uri": "https://localhost:8080/",
          "height": 35
        },
        "outputId": "318876fd-6da5-45c3-da66-3c8fd102f9cc"
      },
      "cell_type": "code",
      "source": [
        "a[1] # a[1]은 숫자 7이 아닌 문자열 7"
      ],
      "execution_count": 16,
      "outputs": [
        {
          "output_type": "execute_result",
          "data": {
            "text/plain": [
              "'7'"
            ]
          },
          "metadata": {
            "tags": []
          },
          "execution_count": 16
        }
      ]
    },
    {
      "metadata": {
        "id": "INJQAUMCFZX5",
        "colab_type": "code",
        "colab": {
          "base_uri": "https://localhost:8080/",
          "height": 35
        },
        "outputId": "a274a1e5-6957-4e0d-88d8-471dcd553eb9"
      },
      "cell_type": "code",
      "source": [
        "a = a + ', EFG'  # + 연산자 사용\n",
        "a"
      ],
      "execution_count": 17,
      "outputs": [
        {
          "output_type": "execute_result",
          "data": {
            "text/plain": [
              "'A73,CD, EFG'"
            ]
          },
          "metadata": {
            "tags": []
          },
          "execution_count": 17
        }
      ]
    },
    {
      "metadata": {
        "id": "gsEE_ov4Fexu",
        "colab_type": "code",
        "colab": {
          "base_uri": "https://localhost:8080/",
          "height": 35
        },
        "outputId": "c633a431-c6e7-4879-cdbf-04db94f216f2"
      },
      "cell_type": "code",
      "source": [
        "# split() 메서드는 특정 separator를 기준으로 문자열을 분리하여 list 리턴\n",
        "b = a.split(',')\n",
        "print(b)"
      ],
      "execution_count": 18,
      "outputs": [
        {
          "output_type": "stream",
          "text": [
            "['A73', 'CD', ' EFG']\n"
          ],
          "name": "stdout"
        }
      ]
    },
    {
      "metadata": {
        "id": "GLp_XbX_GXm2",
        "colab_type": "text"
      },
      "cell_type": "markdown",
      "source": [
        "### useful function: type(), len(), size()\n",
        "- type(): 입력 데이터의 데이터타입을 알려주는 함수\n",
        "- len(): 입력 데이터의 길이(요소의 개수)를 알려주는 함수\n",
        "- size(): 모든 원소의 개수를 알려주는 함수"
      ]
    },
    {
      "metadata": {
        "id": "tgrhleXOF_XJ",
        "colab_type": "code",
        "colab": {}
      },
      "cell_type": "code",
      "source": [
        "a= [10, 20, 30, 40, 50]   # List\n",
        "b= (10, 20, 30, 40, 50)   # Tuple\n",
        "c = {\"KIM\":90, \"LEE\":80}   # Dictionary\n",
        "d = 'Seoul, Korea'   # String\n",
        "e = [[100, 200], [300, 400], [500, 600]]   # 2차원 List"
      ],
      "execution_count": 0,
      "outputs": []
    },
    {
      "metadata": {
        "id": "AQU97rBeHan9",
        "colab_type": "code",
        "colab": {
          "base_uri": "https://localhost:8080/",
          "height": 35
        },
        "outputId": "7d13808b-30ae-41e7-cd47-4210c8865453"
      },
      "cell_type": "code",
      "source": [
        "print(type(a), type(b), type(c), type(d), type(e))"
      ],
      "execution_count": 20,
      "outputs": [
        {
          "output_type": "stream",
          "text": [
            "<class 'list'> <class 'tuple'> <class 'dict'> <class 'str'> <class 'list'>\n"
          ],
          "name": "stdout"
        }
      ]
    },
    {
      "metadata": {
        "id": "5mMDYljJHnUh",
        "colab_type": "code",
        "colab": {
          "base_uri": "https://localhost:8080/",
          "height": 35
        },
        "outputId": "c1bc4201-a7fd-464b-99f6-bbd119ee0bae"
      },
      "cell_type": "code",
      "source": [
        "print(len(a), len(b), len(c), len(d), len(e))"
      ],
      "execution_count": 21,
      "outputs": [
        {
          "output_type": "stream",
          "text": [
            "5 5 2 12 3\n"
          ],
          "name": "stdout"
        }
      ]
    },
    {
      "metadata": {
        "id": "yrlyMUZ_HtE1",
        "colab_type": "code",
        "colab": {
          "base_uri": "https://localhost:8080/",
          "height": 172
        },
        "outputId": "b59809cf-17ae-48c5-9c3b-e6060646465d"
      },
      "cell_type": "code",
      "source": [
        "print(size(e))"
      ],
      "execution_count": 22,
      "outputs": [
        {
          "output_type": "error",
          "ename": "NameError",
          "evalue": "ignored",
          "traceback": [
            "\u001b[0;31m---------------------------------------------------------------------------\u001b[0m",
            "\u001b[0;31mNameError\u001b[0m                                 Traceback (most recent call last)",
            "\u001b[0;32m<ipython-input-22-034bf5a03726>\u001b[0m in \u001b[0;36m<module>\u001b[0;34m()\u001b[0m\n\u001b[0;32m----> 1\u001b[0;31m \u001b[0mprint\u001b[0m\u001b[0;34m(\u001b[0m\u001b[0msize\u001b[0m\u001b[0;34m(\u001b[0m\u001b[0me\u001b[0m\u001b[0;34m)\u001b[0m\u001b[0;34m)\u001b[0m\u001b[0;34m\u001b[0m\u001b[0m\n\u001b[0m",
            "\u001b[0;31mNameError\u001b[0m: name 'size' is not defined"
          ]
        }
      ]
    },
    {
      "metadata": {
        "id": "x3OeJdxBIAvO",
        "colab_type": "text"
      },
      "cell_type": "markdown",
      "source": [
        "### useful function: list(), str(), int()\n",
        "- list(): 입력데이터를 리스트로 만들어 리턴하는 함수\n",
        "- str(): 입력되는 데이터를 문자열로 변환하여 리턴하는 함수\n",
        "- int(): 문자열 형태로 입력되는 숫자나 소수점이 있는 숫자 등을 정수 형태로 리턴하는 함수"
      ]
    },
    {
      "metadata": {
        "id": "lGnJuCGGHw9I",
        "colab_type": "code",
        "colab": {
          "base_uri": "https://localhost:8080/",
          "height": 35
        },
        "outputId": "ecabd41f-4e90-4c77-adbb-afcc58db5432"
      },
      "cell_type": "code",
      "source": [
        "a= 'Hello'\n",
        "b= {\"KIM\":90, \"LEE\":80}\n",
        "\n",
        "print(list(a), list(b.keys()), list(b.values()), list(b.items()))"
      ],
      "execution_count": 23,
      "outputs": [
        {
          "output_type": "stream",
          "text": [
            "['H', 'e', 'l', 'l', 'o'] ['KIM', 'LEE'] [90, 80] [('KIM', 90), ('LEE', 80)]\n"
          ],
          "name": "stdout"
        }
      ]
    },
    {
      "metadata": {
        "id": "8ab8HAwoIw1k",
        "colab_type": "code",
        "colab": {
          "base_uri": "https://localhost:8080/",
          "height": 35
        },
        "outputId": "a32f761c-1206-48fa-96e1-754a7fd93228"
      },
      "cell_type": "code",
      "source": [
        "str(3.14)"
      ],
      "execution_count": 25,
      "outputs": [
        {
          "output_type": "execute_result",
          "data": {
            "text/plain": [
              "'3.14'"
            ]
          },
          "metadata": {
            "tags": []
          },
          "execution_count": 25
        }
      ]
    },
    {
      "metadata": {
        "id": "HMksALL6I5HC",
        "colab_type": "code",
        "colab": {
          "base_uri": "https://localhost:8080/",
          "height": 35
        },
        "outputId": "c08351a2-1ac1-4b86-9a4b-e02939a2fd7d"
      },
      "cell_type": "code",
      "source": [
        "str('100')"
      ],
      "execution_count": 26,
      "outputs": [
        {
          "output_type": "execute_result",
          "data": {
            "text/plain": [
              "'100'"
            ]
          },
          "metadata": {
            "tags": []
          },
          "execution_count": 26
        }
      ]
    },
    {
      "metadata": {
        "id": "exHAoCjYJD72",
        "colab_type": "code",
        "colab": {
          "base_uri": "https://localhost:8080/",
          "height": 35
        },
        "outputId": "aff7ae3b-c6de-49ec-c64c-6f0a4a10f8fd"
      },
      "cell_type": "code",
      "source": [
        "str([1, 2, 3])"
      ],
      "execution_count": 27,
      "outputs": [
        {
          "output_type": "execute_result",
          "data": {
            "text/plain": [
              "'[1, 2, 3]'"
            ]
          },
          "metadata": {
            "tags": []
          },
          "execution_count": 27
        }
      ]
    },
    {
      "metadata": {
        "id": "YTL25HCXJHd-",
        "colab_type": "code",
        "colab": {
          "base_uri": "https://localhost:8080/",
          "height": 35
        },
        "outputId": "b637eb2b-d70f-456b-ad14-216f71096655"
      },
      "cell_type": "code",
      "source": [
        "int('100')"
      ],
      "execution_count": 28,
      "outputs": [
        {
          "output_type": "execute_result",
          "data": {
            "text/plain": [
              "100"
            ]
          },
          "metadata": {
            "tags": []
          },
          "execution_count": 28
        }
      ]
    },
    {
      "metadata": {
        "id": "ksxB2jfiJJZx",
        "colab_type": "code",
        "colab": {
          "base_uri": "https://localhost:8080/",
          "height": 35
        },
        "outputId": "3fc26dc2-79a1-41d9-e3c4-ab4332457161"
      },
      "cell_type": "code",
      "source": [
        "int(3.14)"
      ],
      "execution_count": 29,
      "outputs": [
        {
          "output_type": "execute_result",
          "data": {
            "text/plain": [
              "3"
            ]
          },
          "metadata": {
            "tags": []
          },
          "execution_count": 29
        }
      ]
    },
    {
      "metadata": {
        "id": "efVt8OHOJKi2",
        "colab_type": "code",
        "colab": {}
      },
      "cell_type": "code",
      "source": [
        ""
      ],
      "execution_count": 0,
      "outputs": []
    }
  ]
}
