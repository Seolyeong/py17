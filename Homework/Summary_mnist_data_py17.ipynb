{
  "nbformat": 4,
  "nbformat_minor": 0,
  "metadata": {
    "colab": {
      "name": "Summary_mnist_data_py17.ipynb",
      "version": "0.3.2",
      "provenance": [],
      "collapsed_sections": [],
      "include_colab_link": true
    },
    "kernelspec": {
      "name": "python3",
      "display_name": "Python 3"
    }
  },
  "cells": [
    {
      "cell_type": "markdown",
      "metadata": {
        "id": "view-in-github",
        "colab_type": "text"
      },
      "source": [
        "<a href=\"https://colab.research.google.com/github/Seolyeong/py17/blob/master/Summary_mnist_data_py17.ipynb\" target=\"_parent\"><img src=\"https://colab.research.google.com/assets/colab-badge.svg\" alt=\"Open In Colab\"/></a>"
      ]
    },
    {
      "metadata": {
        "id": "lqnBISOFFSrE",
        "colab_type": "text"
      },
      "cell_type": "markdown",
      "source": [
        "### Please run in Google colab"
      ]
    },
    {
      "metadata": {
        "id": "AqzPzj2XoupD",
        "colab_type": "toc"
      },
      "cell_type": "markdown",
      "source": [
        ">>>[Please run in Google colab](#scrollTo=lqnBISOFFSrE)\n",
        "\n",
        ">>[Tips about reshape()](#scrollTo=BY7GkE4AqeCQ)\n",
        "\n",
        ">>>[reshape(-1,1) & reshape(1,-1)](#scrollTo=cSQNAPYHqoXI)\n",
        "\n",
        ">>>>[열벡터 (column vector)로 변환](#scrollTo=jrBbiVoor14k)\n",
        "\n",
        ">>>[행벡터와 열벡터](#scrollTo=ohGedoxis96c)\n",
        "\n",
        ">>>[2차원 배열 만들기](#scrollTo=ZfGNl4Kstjmr)\n",
        "\n",
        ">>>[reshape of a list](#scrollTo=HPksuy_tpfp8)\n",
        "\n",
        ">>>[2차원 배열(2-d array)](#scrollTo=xrAsEwcLTcdo)\n",
        "\n",
        ">>[응용: 손글씨 데이터 처리](#scrollTo=VogQ62Cvuqek)\n",
        "\n",
        ">>>[Upload data of 100 hand-wriiten digits (digits100.csv)](#scrollTo=mit7a1JN6Ul8)\n",
        "\n",
        ">>>[행벡터(1X784)를 이미지 배열 (28X28)로 재구성](#scrollTo=HVmKVrN-CCBN)\n",
        "\n",
        ">>>[모든 숫자 보기](#scrollTo=dOel4Jb_ECE0)\n",
        "\n",
        ">>[[wk12] Homework](#scrollTo=FwUZkIJlqM9K)\n",
        "\n",
        ">>>>[github 업로드 파일명: Summary_mnist_data_pynn.ipynb](#scrollTo=FwUZkIJlqM9K)\n",
        "\n",
        ">>>>[================== 마감: 2018.11.25(일). 24:00](#scrollTo=FwUZkIJlqM9K)\n",
        "\n"
      ]
    },
    {
      "metadata": {
        "id": "BY7GkE4AqeCQ",
        "colab_type": "text"
      },
      "cell_type": "markdown",
      "source": [
        "## Tips about reshape()\n",
        "\n",
        "> reshape() 함수는 numpy의 ndarray의 구조를 변경한다."
      ]
    },
    {
      "metadata": {
        "id": "cSQNAPYHqoXI",
        "colab_type": "text"
      },
      "cell_type": "markdown",
      "source": [
        "### reshape(-1,1) & reshape(1,-1)"
      ]
    },
    {
      "metadata": {
        "id": "WEDCW1oFqaw6",
        "colab_type": "code",
        "outputId": "9e58c8e7-d865-4e79-c6be-d7a3dfc4f353",
        "colab": {
          "base_uri": "https://localhost:8080/",
          "height": 35
        }
      },
      "cell_type": "code",
      "source": [
        "import numpy as np\n",
        "ar = np.arange(1,11)\n",
        "ar"
      ],
      "execution_count": 118,
      "outputs": [
        {
          "output_type": "execute_result",
          "data": {
            "text/plain": [
              "array([ 1,  2,  3,  4,  5,  6,  7,  8,  9, 10])"
            ]
          },
          "metadata": {
            "tags": []
          },
          "execution_count": 118
        }
      ]
    },
    {
      "metadata": {
        "id": "A4tXzZN12lpE",
        "colab_type": "code",
        "outputId": "17530507-d98d-4f7a-94e5-73df026f4cb9",
        "colab": {
          "base_uri": "https://localhost:8080/",
          "height": 35
        }
      },
      "cell_type": "code",
      "source": [
        "ar.shape  # numpy의 기본 벡터로 정의된 ar은 열벡터와 유사함."
      ],
      "execution_count": 119,
      "outputs": [
        {
          "output_type": "execute_result",
          "data": {
            "text/plain": [
              "(10,)"
            ]
          },
          "metadata": {
            "tags": []
          },
          "execution_count": 119
        }
      ]
    },
    {
      "metadata": {
        "id": "jrBbiVoor14k",
        "colab_type": "text"
      },
      "cell_type": "markdown",
      "source": [
        "#### 열벡터 (column vector)로 변환"
      ]
    },
    {
      "metadata": {
        "id": "ALEDJNeIqbua",
        "colab_type": "code",
        "outputId": "2e98926b-9050-46b4-9e79-ab6ec5e9958a",
        "colab": {
          "base_uri": "https://localhost:8080/",
          "height": 197
        }
      },
      "cell_type": "code",
      "source": [
        "ar.reshape(-1,1)"
      ],
      "execution_count": 120,
      "outputs": [
        {
          "output_type": "execute_result",
          "data": {
            "text/plain": [
              "array([[ 1],\n",
              "       [ 2],\n",
              "       [ 3],\n",
              "       [ 4],\n",
              "       [ 5],\n",
              "       [ 6],\n",
              "       [ 7],\n",
              "       [ 8],\n",
              "       [ 9],\n",
              "       [10]])"
            ]
          },
          "metadata": {
            "tags": []
          },
          "execution_count": 120
        }
      ]
    },
    {
      "metadata": {
        "id": "hKmZCz2Lxldd",
        "colab_type": "code",
        "outputId": "0bd2e39b-8b5f-479e-b13d-c91bb90cf10f",
        "colab": {
          "base_uri": "https://localhost:8080/",
          "height": 35
        }
      },
      "cell_type": "code",
      "source": [
        "ar.shape"
      ],
      "execution_count": 121,
      "outputs": [
        {
          "output_type": "execute_result",
          "data": {
            "text/plain": [
              "(10,)"
            ]
          },
          "metadata": {
            "tags": []
          },
          "execution_count": 121
        }
      ]
    },
    {
      "metadata": {
        "id": "2tCt0NS62tod",
        "colab_type": "code",
        "outputId": "8d5ca36a-f31f-4056-cc3f-899fbf6d89f8",
        "colab": {
          "base_uri": "https://localhost:8080/",
          "height": 35
        }
      },
      "cell_type": "code",
      "source": [
        "ar1=ar.reshape(-1,1)  # 열벡터, column vector\n",
        "ar1.shape"
      ],
      "execution_count": 122,
      "outputs": [
        {
          "output_type": "execute_result",
          "data": {
            "text/plain": [
              "(10, 1)"
            ]
          },
          "metadata": {
            "tags": []
          },
          "execution_count": 122
        }
      ]
    },
    {
      "metadata": {
        "id": "ohGedoxis96c",
        "colab_type": "text"
      },
      "cell_type": "markdown",
      "source": [
        "### 행벡터와 열벡터"
      ]
    },
    {
      "metadata": {
        "id": "3tHu9XzhsmcF",
        "colab_type": "text"
      },
      "cell_type": "markdown",
      "source": [
        "![행벡터와 열벡터](https://t1.daumcdn.net/cfile/tistory/2263234756624EC625)"
      ]
    },
    {
      "metadata": {
        "id": "ZfGNl4Kstjmr",
        "colab_type": "text"
      },
      "cell_type": "markdown",
      "source": [
        "### 2차원 배열 만들기"
      ]
    },
    {
      "metadata": {
        "id": "ez9haRJS18Pk",
        "colab_type": "code",
        "outputId": "a05ae355-375c-43cb-d45d-6bcaa8be91af",
        "colab": {
          "base_uri": "https://localhost:8080/",
          "height": 107
        }
      },
      "cell_type": "code",
      "source": [
        "ar.reshape(-1,5,2)  # 5행2열 (5 X 2) 행렬"
      ],
      "execution_count": 123,
      "outputs": [
        {
          "output_type": "execute_result",
          "data": {
            "text/plain": [
              "array([[[ 1,  2],\n",
              "        [ 3,  4],\n",
              "        [ 5,  6],\n",
              "        [ 7,  8],\n",
              "        [ 9, 10]]])"
            ]
          },
          "metadata": {
            "tags": []
          },
          "execution_count": 123
        }
      ]
    },
    {
      "metadata": {
        "id": "H1YNqaa12Kel",
        "colab_type": "code",
        "outputId": "b8d65d1d-f8c3-49cd-8115-0aceb70571fb",
        "colab": {
          "base_uri": "https://localhost:8080/",
          "height": 53
        }
      },
      "cell_type": "code",
      "source": [
        "ar.reshape(-1,2,5)  # 2행5열 (2 X 5) 행렬"
      ],
      "execution_count": 124,
      "outputs": [
        {
          "output_type": "execute_result",
          "data": {
            "text/plain": [
              "array([[[ 1,  2,  3,  4,  5],\n",
              "        [ 6,  7,  8,  9, 10]]])"
            ]
          },
          "metadata": {
            "tags": []
          },
          "execution_count": 124
        }
      ]
    },
    {
      "metadata": {
        "id": "IDL6FddMEqJ0",
        "colab_type": "code",
        "outputId": "b0f63ef7-0381-4718-855c-48dec5dc7a8d",
        "colab": {
          "base_uri": "https://localhost:8080/",
          "height": 53
        }
      },
      "cell_type": "code",
      "source": [
        "ar.reshape((2,5))"
      ],
      "execution_count": 125,
      "outputs": [
        {
          "output_type": "execute_result",
          "data": {
            "text/plain": [
              "array([[ 1,  2,  3,  4,  5],\n",
              "       [ 6,  7,  8,  9, 10]])"
            ]
          },
          "metadata": {
            "tags": []
          },
          "execution_count": 125
        }
      ]
    },
    {
      "metadata": {
        "id": "HPksuy_tpfp8",
        "colab_type": "text"
      },
      "cell_type": "markdown",
      "source": [
        "### reshape of a list"
      ]
    },
    {
      "metadata": {
        "id": "4iLyPjA4pjzs",
        "colab_type": "code",
        "outputId": "b8105182-6dab-49f2-aad2-359b0ed4692a",
        "colab": {
          "base_uri": "https://localhost:8080/",
          "height": 35
        }
      },
      "cell_type": "code",
      "source": [
        "alist = list(ar)\n",
        "alist"
      ],
      "execution_count": 126,
      "outputs": [
        {
          "output_type": "execute_result",
          "data": {
            "text/plain": [
              "[1, 2, 3, 4, 5, 6, 7, 8, 9, 10]"
            ]
          },
          "metadata": {
            "tags": []
          },
          "execution_count": 126
        }
      ]
    },
    {
      "metadata": {
        "id": "RPI9NxHbpvr8",
        "colab_type": "code",
        "outputId": "a731785c-53d7-405f-bffe-ae2aeca7b6d3",
        "colab": {
          "base_uri": "https://localhost:8080/",
          "height": 53
        }
      },
      "cell_type": "code",
      "source": [
        "ar.reshape(-1,2,5)"
      ],
      "execution_count": 127,
      "outputs": [
        {
          "output_type": "execute_result",
          "data": {
            "text/plain": [
              "array([[[ 1,  2,  3,  4,  5],\n",
              "        [ 6,  7,  8,  9, 10]]])"
            ]
          },
          "metadata": {
            "tags": []
          },
          "execution_count": 127
        }
      ]
    },
    {
      "metadata": {
        "id": "JiYsB_Ewp2Zj",
        "colab_type": "code",
        "outputId": "9cb06d60-1cd5-4e27-8be1-afe2b19daed3",
        "colab": {
          "base_uri": "https://localhost:8080/",
          "height": 172
        }
      },
      "cell_type": "code",
      "source": [
        "alist.reshape(-1,2,5) # list는 reshape이 적용이 안된다."
      ],
      "execution_count": 128,
      "outputs": [
        {
          "output_type": "error",
          "ename": "AttributeError",
          "evalue": "ignored",
          "traceback": [
            "\u001b[0;31m---------------------------------------------------------------------------\u001b[0m",
            "\u001b[0;31mAttributeError\u001b[0m                            Traceback (most recent call last)",
            "\u001b[0;32m<ipython-input-128-79f0fbef28c3>\u001b[0m in \u001b[0;36m<module>\u001b[0;34m()\u001b[0m\n\u001b[0;32m----> 1\u001b[0;31m \u001b[0malist\u001b[0m\u001b[0;34m.\u001b[0m\u001b[0mreshape\u001b[0m\u001b[0;34m(\u001b[0m\u001b[0;34m-\u001b[0m\u001b[0;36m1\u001b[0m\u001b[0;34m,\u001b[0m\u001b[0;36m2\u001b[0m\u001b[0;34m,\u001b[0m\u001b[0;36m5\u001b[0m\u001b[0;34m)\u001b[0m \u001b[0;31m# list는 reshape이 적용이 안된다.\u001b[0m\u001b[0;34m\u001b[0m\u001b[0;34m\u001b[0m\u001b[0m\n\u001b[0m",
            "\u001b[0;31mAttributeError\u001b[0m: 'list' object has no attribute 'reshape'"
          ]
        }
      ]
    },
    {
      "metadata": {
        "id": "DN18xgjrvC8W",
        "colab_type": "text"
      },
      "cell_type": "markdown",
      "source": [
        ">  list는 reshape()를 지원하지 않는다."
      ]
    },
    {
      "metadata": {
        "id": "jwyvCD44jric",
        "colab_type": "text"
      },
      "cell_type": "markdown",
      "source": [
        "\n",
        "\n",
        "---\n",
        "\n"
      ]
    },
    {
      "metadata": {
        "id": "xrAsEwcLTcdo",
        "colab_type": "text"
      },
      "cell_type": "markdown",
      "source": [
        "### 2차원 배열(2-d array)"
      ]
    },
    {
      "metadata": {
        "id": "gI9X6eFNTga4",
        "colab_type": "code",
        "outputId": "8d6f92a3-35c1-4974-ee1d-9f270b3cab22",
        "colab": {
          "base_uri": "https://localhost:8080/",
          "height": 35
        }
      },
      "cell_type": "code",
      "source": [
        "br = np.arange(1,101)\n",
        "br.shape"
      ],
      "execution_count": 129,
      "outputs": [
        {
          "output_type": "execute_result",
          "data": {
            "text/plain": [
              "(100,)"
            ]
          },
          "metadata": {
            "tags": []
          },
          "execution_count": 129
        }
      ]
    },
    {
      "metadata": {
        "id": "DVs9l6VAToY3",
        "colab_type": "code",
        "outputId": "2221d213-48d2-4a2e-fb7a-96a18cd51d8c",
        "colab": {
          "base_uri": "https://localhost:8080/",
          "height": 35
        }
      },
      "cell_type": "code",
      "source": [
        "br2 = br.reshape(-1,5)\n",
        "br2.shape"
      ],
      "execution_count": 130,
      "outputs": [
        {
          "output_type": "execute_result",
          "data": {
            "text/plain": [
              "(20, 5)"
            ]
          },
          "metadata": {
            "tags": []
          },
          "execution_count": 130
        }
      ]
    },
    {
      "metadata": {
        "id": "AWZF2J_QTzYg",
        "colab_type": "code",
        "outputId": "5ad2dcdb-27a6-4dc2-c331-fe70f683f2c5",
        "colab": {
          "base_uri": "https://localhost:8080/",
          "height": 377
        }
      },
      "cell_type": "code",
      "source": [
        "br2"
      ],
      "execution_count": 131,
      "outputs": [
        {
          "output_type": "execute_result",
          "data": {
            "text/plain": [
              "array([[  1,   2,   3,   4,   5],\n",
              "       [  6,   7,   8,   9,  10],\n",
              "       [ 11,  12,  13,  14,  15],\n",
              "       [ 16,  17,  18,  19,  20],\n",
              "       [ 21,  22,  23,  24,  25],\n",
              "       [ 26,  27,  28,  29,  30],\n",
              "       [ 31,  32,  33,  34,  35],\n",
              "       [ 36,  37,  38,  39,  40],\n",
              "       [ 41,  42,  43,  44,  45],\n",
              "       [ 46,  47,  48,  49,  50],\n",
              "       [ 51,  52,  53,  54,  55],\n",
              "       [ 56,  57,  58,  59,  60],\n",
              "       [ 61,  62,  63,  64,  65],\n",
              "       [ 66,  67,  68,  69,  70],\n",
              "       [ 71,  72,  73,  74,  75],\n",
              "       [ 76,  77,  78,  79,  80],\n",
              "       [ 81,  82,  83,  84,  85],\n",
              "       [ 86,  87,  88,  89,  90],\n",
              "       [ 91,  92,  93,  94,  95],\n",
              "       [ 96,  97,  98,  99, 100]])"
            ]
          },
          "metadata": {
            "tags": []
          },
          "execution_count": 131
        }
      ]
    },
    {
      "metadata": {
        "id": "pXLUC19U2TZ8",
        "colab_type": "code",
        "outputId": "d2950d91-9a2a-42d2-de35-fcff0e5f851a",
        "colab": {
          "base_uri": "https://localhost:8080/",
          "height": 197
        }
      },
      "cell_type": "code",
      "source": [
        "br.reshape(-1,20)"
      ],
      "execution_count": 132,
      "outputs": [
        {
          "output_type": "execute_result",
          "data": {
            "text/plain": [
              "array([[  1,   2,   3,   4,   5,   6,   7,   8,   9,  10,  11,  12,  13,\n",
              "         14,  15,  16,  17,  18,  19,  20],\n",
              "       [ 21,  22,  23,  24,  25,  26,  27,  28,  29,  30,  31,  32,  33,\n",
              "         34,  35,  36,  37,  38,  39,  40],\n",
              "       [ 41,  42,  43,  44,  45,  46,  47,  48,  49,  50,  51,  52,  53,\n",
              "         54,  55,  56,  57,  58,  59,  60],\n",
              "       [ 61,  62,  63,  64,  65,  66,  67,  68,  69,  70,  71,  72,  73,\n",
              "         74,  75,  76,  77,  78,  79,  80],\n",
              "       [ 81,  82,  83,  84,  85,  86,  87,  88,  89,  90,  91,  92,  93,\n",
              "         94,  95,  96,  97,  98,  99, 100]])"
            ]
          },
          "metadata": {
            "tags": []
          },
          "execution_count": 132
        }
      ]
    },
    {
      "metadata": {
        "id": "VogQ62Cvuqek",
        "colab_type": "text"
      },
      "cell_type": "markdown",
      "source": [
        "## 응용: 손글씨 데이터 처리"
      ]
    },
    {
      "metadata": {
        "id": "mit7a1JN6Ul8",
        "colab_type": "text"
      },
      "cell_type": "markdown",
      "source": [
        "### Upload data of 100 hand-wriiten digits (digits100.csv)\n",
        "\n",
        "> colab의 왼쪽 가변탭의 \"파일\" 메뉴를 이용해서 파일 업로드를 할 수 있다."
      ]
    },
    {
      "metadata": {
        "id": "oErUTDEOul1d",
        "colab_type": "code",
        "colab": {}
      },
      "cell_type": "code",
      "source": [
        "# from google.colab import files\n",
        "\n",
        "# uploaded = files.upload()\n",
        "\n",
        "# for fn in uploaded.keys():\n",
        "#   print('User uploaded file \"{name}\" with length {length} bytes'.format(\n",
        "#       name=fn, length=len(uploaded[fn])))"
      ],
      "execution_count": 0,
      "outputs": []
    },
    {
      "metadata": {
        "id": "E4eNMvh06fV8",
        "colab_type": "code",
        "outputId": "9dc6751b-eb73-430f-f620-550ac0ad075d",
        "colab": {
          "base_uri": "https://localhost:8080/",
          "height": 35
        }
      },
      "cell_type": "code",
      "source": [
        "import pandas as pd\n",
        "df=pd.read_csv('digits100.csv', sep=',') #, index_col=False) #,header=None)\n",
        "df.shape"
      ],
      "execution_count": 134,
      "outputs": [
        {
          "output_type": "execute_result",
          "data": {
            "text/plain": [
              "(100, 784)"
            ]
          },
          "metadata": {
            "tags": []
          },
          "execution_count": 134
        }
      ]
    },
    {
      "metadata": {
        "id": "ZOoM35Ks75Qk",
        "colab_type": "code",
        "outputId": "be905cfe-db9f-4023-b4b6-3c749b59b482",
        "colab": {
          "base_uri": "https://localhost:8080/",
          "height": 143
        }
      },
      "cell_type": "code",
      "source": [
        "digits = df.values # Convert dataframe to ndarray\n",
        "df.values"
      ],
      "execution_count": 135,
      "outputs": [
        {
          "output_type": "execute_result",
          "data": {
            "text/plain": [
              "array([[0, 0, 0, ..., 0, 0, 0],\n",
              "       [0, 0, 0, ..., 0, 0, 0],\n",
              "       [0, 0, 0, ..., 0, 0, 0],\n",
              "       ...,\n",
              "       [0, 0, 0, ..., 0, 0, 0],\n",
              "       [0, 0, 0, ..., 0, 0, 0],\n",
              "       [0, 0, 0, ..., 0, 0, 0]])"
            ]
          },
          "metadata": {
            "tags": []
          },
          "execution_count": 135
        }
      ]
    },
    {
      "metadata": {
        "id": "Q5FJVAOv_dh2",
        "colab_type": "code",
        "outputId": "365641ad-205c-4822-c406-9ea296b3ac87",
        "colab": {
          "base_uri": "https://localhost:8080/",
          "height": 35
        }
      },
      "cell_type": "code",
      "source": [
        "digits[15].shape,digits.shape"
      ],
      "execution_count": 136,
      "outputs": [
        {
          "output_type": "execute_result",
          "data": {
            "text/plain": [
              "((784,), (100, 784))"
            ]
          },
          "metadata": {
            "tags": []
          },
          "execution_count": 136
        }
      ]
    },
    {
      "metadata": {
        "id": "HVmKVrN-CCBN",
        "colab_type": "text"
      },
      "cell_type": "markdown",
      "source": [
        "### 행벡터(1X784)를 이미지 배열 (28X28)로 재구성"
      ]
    },
    {
      "metadata": {
        "id": "i4Cd9SfBAnaT",
        "colab_type": "code",
        "outputId": "5a1cb9d0-95f1-410d-94df-0dee197ac916",
        "colab": {
          "base_uri": "https://localhost:8080/",
          "height": 1529
        }
      },
      "cell_type": "code",
      "source": [
        "digits[15].reshape(28,28)"
      ],
      "execution_count": 137,
      "outputs": [
        {
          "output_type": "execute_result",
          "data": {
            "text/plain": [
              "array([[  0,   0,   0,   0,   0,   0,   0,   0,   0,   0,   0,   0,   0,\n",
              "          0,   0,   0,   0,   0,   0,   0,   0,   0,   0,   0,   0,   0,\n",
              "          0,   0],\n",
              "       [  0,   0,   0,   0,   0,   0,   0,   0,   0,   0,   0,   0,   0,\n",
              "          0,   0,   0,   0,   0,   0,   0,   0,   0,   0,   0,   0,   0,\n",
              "          0,   0],\n",
              "       [  0,   0,   0,   0,   0,   0,   0,   0,   0,   0,   0,   0,   0,\n",
              "          0,   0,   0,   0,   0,   0,   0,   0,   0,   0,   0,   0,   0,\n",
              "          0,   0],\n",
              "       [  0,   0,   0,   0,   0,   0,   0,   0,   0,   0,   0,   0,   0,\n",
              "          0,   0,   0,   0,   0,   0,   0,   0,   0,   0,   0,   0,   0,\n",
              "          0,   0],\n",
              "       [  0,   0,   0,   0,   0,   0,   0,   0,   0,   0,   0,   0,   0,\n",
              "          0,   0,   0,   0,   0,   0,   0,   0,   0,   0,   0,   0,   0,\n",
              "          0,   0],\n",
              "       [  0,   0,   0,   0,   0,   0,   0,   0,   0,   0,   0,   0,   0,\n",
              "          0,   0, 111, 191,   0,   0,   0,   0,   0,   0,   0,   0,   0,\n",
              "          0,   0],\n",
              "       [  0,   0,   0,   0,   0,   0,   0,   0,   0,   0,   0,   0,   0,\n",
              "          0,  38, 234, 252,   0,   0,   0,   0,   0,   0,   0,   0,   0,\n",
              "          0,   0],\n",
              "       [  0,   0,   0,   0,   0,   0,   0,   0,   0,   0,   0,   0,   0,\n",
              "          0,  95, 252, 214,   0,   0,   0,   0,   0,   0,   0,   0,   0,\n",
              "          0,   0],\n",
              "       [  0,   0,   0,   0,   0,   0,   0,   0,   0,   0,   0,   0,   0,\n",
              "          0, 169, 252, 139,   0,   0,   0,   0,   0,   0,   0,   0,   0,\n",
              "          0,   0],\n",
              "       [  0,   0,   0,   0,   0,   0,   0,   0,   0,   0,   0,   0,   0,\n",
              "          0, 170, 253, 140,   0,   0,   0,   0,   0,   0,   0,   0,   0,\n",
              "          0,   0],\n",
              "       [  0,   0,   0,   0,   0,   0,   0,   0,   0,   0,   0,   0,   0,\n",
              "          0, 169, 252,  65,   0,   0,   0,   0,   0,   0,   0,   0,   0,\n",
              "          0,   0],\n",
              "       [  0,   0,   0,   0,   0,   0,   0,   0,   0,   0,   0,   0,   0,\n",
              "         23, 234, 252,  78,   0,   0,   0,   0,   0,   0,   0,   0,   0,\n",
              "          0,   0],\n",
              "       [  0,   0,   0,   0,   0,   0,   0,   0,   0,   0,   0,   0,   0,\n",
              "         29, 252, 214,  15,   0,   0,   0,   0,   0,   0,   0,   0,   0,\n",
              "          0,   0],\n",
              "       [  0,   0,   0,   0,   0,   0,   0,   0,   0,   0,   0,   0,   0,\n",
              "        141, 253, 168,   0,   0,   0,   0,   0,   0,   0,   0,   0,   0,\n",
              "          0,   0],\n",
              "       [  0,   0,   0,   0,   0,   0,   0,   0,   0,   0,   0,   0,   0,\n",
              "        141, 252, 168,   0,   0,   0,   0,   0,   0,   0,   0,   0,   0,\n",
              "          0,   0],\n",
              "       [  0,   0,   0,   0,   0,   0,   0,   0,   0,   0,   0,   0,   0,\n",
              "        229, 252, 130,   0,   0,   0,   0,   0,   0,   0,   0,   0,   0,\n",
              "          0,   0],\n",
              "       [  0,   0,   0,   0,   0,   0,   0,   0,   0,   0,   0,   0,   0,\n",
              "        253, 252,  56,   0,   0,   0,   0,   0,   0,   0,   0,   0,   0,\n",
              "          0,   0],\n",
              "       [  0,   0,   0,   0,   0,   0,   0,   0,   0,   0,   0,   0,   0,\n",
              "        255, 253,  56,   0,   0,   0,   0,   0,   0,   0,   0,   0,   0,\n",
              "          0,   0],\n",
              "       [  0,   0,   0,   0,   0,   0,   0,   0,   0,   0,   0,   0,   0,\n",
              "        253, 214,  19,   0,   0,   0,   0,   0,   0,   0,   0,   0,   0,\n",
              "          0,   0],\n",
              "       [  0,   0,   0,   0,   0,   0,   0,   0,   0,   0,   0,   0,  38,\n",
              "        253, 196,   0,   0,   0,   0,   0,   0,   0,   0,   0,   0,   0,\n",
              "          0,   0],\n",
              "       [  0,   0,   0,   0,   0,   0,   0,   0,   0,   0,   0,   0,  63,\n",
              "        253, 145,   0,   0,   0,   0,   0,   0,   0,   0,   0,   0,   0,\n",
              "          0,   0],\n",
              "       [  0,   0,   0,   0,   0,   0,   0,   0,   0,   0,   0,   0, 114,\n",
              "        255, 197,   0,   0,   0,   0,   0,   0,   0,   0,   0,   0,   0,\n",
              "          0,   0],\n",
              "       [  0,   0,   0,   0,   0,   0,   0,   0,   0,   0,   0,   0,  38,\n",
              "        253, 196,   0,   0,   0,   0,   0,   0,   0,   0,   0,   0,   0,\n",
              "          0,   0],\n",
              "       [  0,   0,   0,   0,   0,   0,   0,   0,   0,   0,   0,   0,   0,\n",
              "        253, 196,   0,   0,   0,   0,   0,   0,   0,   0,   0,   0,   0,\n",
              "          0,   0],\n",
              "       [  0,   0,   0,   0,   0,   0,   0,   0,   0,   0,   0,   0,   0,\n",
              "        241,  59,   0,   0,   0,   0,   0,   0,   0,   0,   0,   0,   0,\n",
              "          0,   0],\n",
              "       [  0,   0,   0,   0,   0,   0,   0,   0,   0,   0,   0,   0,   0,\n",
              "          0,   0,   0,   0,   0,   0,   0,   0,   0,   0,   0,   0,   0,\n",
              "          0,   0],\n",
              "       [  0,   0,   0,   0,   0,   0,   0,   0,   0,   0,   0,   0,   0,\n",
              "          0,   0,   0,   0,   0,   0,   0,   0,   0,   0,   0,   0,   0,\n",
              "          0,   0],\n",
              "       [  0,   0,   0,   0,   0,   0,   0,   0,   0,   0,   0,   0,   0,\n",
              "          0,   0,   0,   0,   0,   0,   0,   0,   0,   0,   0,   0,   0,\n",
              "          0,   0]])"
            ]
          },
          "metadata": {
            "tags": []
          },
          "execution_count": 137
        }
      ]
    },
    {
      "metadata": {
        "id": "GOKjD6xLoExh",
        "colab_type": "text"
      },
      "cell_type": "markdown",
      "source": [
        "[mnist data sample](https://cdn-images-1.medium.com/max/1000/1*6UcQdP-1yFoUotb-QnDWsg.gif)"
      ]
    },
    {
      "metadata": {
        "id": "CrNmce2SC_zE",
        "colab_type": "code",
        "colab": {}
      },
      "cell_type": "code",
      "source": [
        "# 맷플롯립 설정\n",
        "%matplotlib inline\n",
        "import matplotlib\n",
        "import matplotlib.pyplot as plt"
      ],
      "execution_count": 0,
      "outputs": []
    },
    {
      "metadata": {
        "id": "NKD---s58stM",
        "colab_type": "code",
        "outputId": "246f699b-075f-4f78-fc6d-a0c181a0a5dd",
        "colab": {
          "base_uri": "https://localhost:8080/",
          "height": 265
        }
      },
      "cell_type": "code",
      "source": [
        "# 맷플롯립의 imshow()로 숫자 이미지 보기\n",
        "some_digit = digits[77]\n",
        "some_digit_image = some_digit.reshape(28,28)\n",
        "plt.imshow(some_digit_image, cmap=matplotlib.cm.binary, interpolation=\"nearest\")\n",
        "plt.axis(\"off\")\n",
        "plt.show()"
      ],
      "execution_count": 139,
      "outputs": [
        {
          "output_type": "display_data",
          "data": {
            "image/png": "[encoded data removed]",
            "text/plain": [
              "<matplotlib.figure.Figure at 0x7fd6c89ecfd0>"
            ]
          },
          "metadata": {
            "tags": []
          }
        }
      ]
    },
    {
      "metadata": {
        "id": "dOel4Jb_ECE0",
        "colab_type": "text"
      },
      "cell_type": "markdown",
      "source": [
        "### 모든 숫자 보기"
      ]
    },
    {
      "metadata": {
        "id": "pfsd9h8t_U-d",
        "colab_type": "code",
        "colab": {}
      },
      "cell_type": "code",
      "source": [
        "# 숫자 그림을 위한 추가 함수\n",
        "def plot_digits(instances, images_per_row=10, **options): # images_per_row: 한 줄에 표시할 개수\n",
        "    size = 28\n",
        "    images_per_row = min(len(instances), images_per_row)\n",
        "    images = [instance.reshape(size,size) for instance in instances]\n",
        "    n_rows = (len(instances) - 1) // images_per_row + 1\n",
        "    row_images = []\n",
        "    n_empty = n_rows * images_per_row - len(instances)\n",
        "    images.append(np.zeros((size, size * n_empty)))\n",
        "    for row in range(n_rows):\n",
        "        rimages = images[row * images_per_row : (row + 1) * images_per_row]\n",
        "        row_images.append(np.concatenate(rimages, axis=1))\n",
        "    image = np.concatenate(row_images, axis=0)\n",
        "    plt.imshow(image, cmap = matplotlib.cm.binary, **options)\n",
        "    plt.axis(\"off\")"
      ],
      "execution_count": 0,
      "outputs": []
    },
    {
      "metadata": {
        "id": "Ww1wqyJFEK38",
        "colab_type": "code",
        "outputId": "580514d3-a2f3-4c9f-ddaa-1615067882a8",
        "colab": {
          "base_uri": "https://localhost:8080/",
          "height": 191
        }
      },
      "cell_type": "code",
      "source": [
        "plt.figure(figsize=(10,10))\n",
        "plot_digits(digits, images_per_row=20)\n",
        "plt.show()"
      ],
      "execution_count": 141,
      "outputs": [
        {
          "output_type": "display_data",
          "data": {
            "image/png": "[encoded data removed]",
            "text/plain": [
              "<matplotlib.figure.Figure at 0x7fd6c94c2748>"
            ]
          },
          "metadata": {
            "tags": []
          }
        }
      ]
    },
    {
      "metadata": {
        "id": "rTCgpxdSoaNq",
        "colab_type": "text"
      },
      "cell_type": "markdown",
      "source": [
        "\n",
        "\n",
        "---\n",
        "\n"
      ]
    },
    {
      "metadata": {
        "id": "V49cQs9hoPob",
        "colab_type": "text"
      },
      "cell_type": "markdown",
      "source": [
        "[mnist 데이터에 대한 분석 예](https://www.pyimagesearch.com/wp-content/uploads/2016/06/lenet_animation.gif)"
      ]
    },
    {
      "metadata": {
        "id": "PwUtuiwQqLWB",
        "colab_type": "text"
      },
      "cell_type": "markdown",
      "source": [
        "\n",
        "\n",
        "---\n",
        "\n"
      ]
    },
    {
      "metadata": {
        "id": "FwUZkIJlqM9K",
        "colab_type": "text"
      },
      "cell_type": "markdown",
      "source": [
        "##  [wk12] Homework\n",
        "\n",
        "> 1. Google colab에서 제공하는 sample_data/mnist_train_small.csv 를 로드한다. (np.loadtxt() 이용)\n",
        "\n",
        "> 2. 데이터의 구조를 파악한다. => 20000X785 중 data[:,0] 이 target(label, 즉 숫자 값)\n",
        "\n",
        "> 3. 0번 열을 제외한 나머지가 20000 개의 숫자 이미지데이터를 구성(ndata)\n",
        "\n",
        "> 4. 행벡터(1X784)를 이미지 배열 (28X28)로 재구성\n",
        "\n",
        "> 5. 처음부터 50 개의 숫자 이미지를5X10 (5행 10열) 로 출력\n",
        "\n",
        "> 6. mnist_test.csv 에 대하여 위의 [1-5] 단계를 적용해서 처음부터 50 개의 숫자 이미지를 출력\n",
        "\n",
        "#### github 업로드 파일명: Summary_mnist_data_pynn.ipynb\n",
        "\n",
        "#### ================== 마감: 2018.11.25(일). 24:00"
      ]
    },
    {
      "metadata": {
        "id": "2SY3A-bB1COw",
        "colab_type": "code",
        "colab": {}
      },
      "cell_type": "code",
      "source": [
        "import numpy as np\n",
        "# 맷플롯립 설정\n",
        "%matplotlib inline\n",
        "import matplotlib\n",
        "import matplotlib.pyplot as plt"
      ],
      "execution_count": 0,
      "outputs": []
    },
    {
      "metadata": {
        "id": "qU47Gc_CEWa0",
        "colab_type": "code",
        "colab": {}
      },
      "cell_type": "code",
      "source": [
        "# sample_data/mnist_train_small.csv를 로드\n",
        "data = np.loadtxt('sample_data/mnist_train_small.csv', delimiter=',', dtype=np.float32)"
      ],
      "execution_count": 0,
      "outputs": []
    },
    {
      "metadata": {
        "id": "laX7VblWhmUh",
        "colab_type": "code",
        "outputId": "c16615b7-b804-49bc-fa93-10cc9161f352",
        "colab": {
          "base_uri": "https://localhost:8080/",
          "height": 143
        }
      },
      "cell_type": "code",
      "source": [
        "# 데이터 구조를 파악\n",
        "data.shape, data"
      ],
      "execution_count": 144,
      "outputs": [
        {
          "output_type": "execute_result",
          "data": {
            "text/plain": [
              "((20000, 785), array([[6., 0., 0., ..., 0., 0., 0.],\n",
              "        [5., 0., 0., ..., 0., 0., 0.],\n",
              "        [7., 0., 0., ..., 0., 0., 0.],\n",
              "        ...,\n",
              "        [2., 0., 0., ..., 0., 0., 0.],\n",
              "        [9., 0., 0., ..., 0., 0., 0.],\n",
              "        [5., 0., 0., ..., 0., 0., 0.]], dtype=float32))"
            ]
          },
          "metadata": {
            "tags": []
          },
          "execution_count": 144
        }
      ]
    },
    {
      "metadata": {
        "id": "CyDdBiDHiF6X",
        "colab_type": "code",
        "outputId": "c12fea5a-c61c-4658-ec03-4be99d86f410",
        "colab": {
          "base_uri": "https://localhost:8080/",
          "height": 35
        }
      },
      "cell_type": "code",
      "source": [
        "# 20000개의 숫자 이미지데이터 구성\n",
        "ndata=data[:,0]\n",
        "ndata.shape"
      ],
      "execution_count": 145,
      "outputs": [
        {
          "output_type": "execute_result",
          "data": {
            "text/plain": [
              "(20000,)"
            ]
          },
          "metadata": {
            "tags": []
          },
          "execution_count": 145
        }
      ]
    },
    {
      "metadata": {
        "id": "OAvVoN_Ywtf0",
        "colab_type": "code",
        "outputId": "18b1c348-366e-461a-ae8e-bc9c93fe3aae",
        "colab": {
          "base_uri": "https://localhost:8080/",
          "height": 1547
        }
      },
      "cell_type": "code",
      "source": [
        "# 1X784를 28X28로 재구성\n",
        "rdata = data[0,1:]\n",
        "rdata.shape, rdata.reshape(28,28)"
      ],
      "execution_count": 146,
      "outputs": [
        {
          "output_type": "execute_result",
          "data": {
            "text/plain": [
              "((784,),\n",
              " array([[  0.,   0.,   0.,   0.,   0.,   0.,   0.,   0.,   0.,   0.,   0.,\n",
              "           0.,   0.,   0.,   0.,   0.,   0.,   0.,   0.,   0.,   0.,   0.,\n",
              "           0.,   0.,   0.,   0.,   0.,   0.],\n",
              "        [  0.,   0.,   0.,   0.,   0.,   0.,   0.,   0.,   0.,   0.,   0.,\n",
              "           0.,   0.,   0.,   0.,   0.,   0.,   0.,   0.,   0.,   0.,   0.,\n",
              "           0.,   0.,   0.,   0.,   0.,   0.],\n",
              "        [  0.,   0.,   0.,   0.,   0.,   0.,   0.,   0.,   0.,   0.,   0.,\n",
              "           0.,   0.,   0.,   0.,   0.,   0.,   0.,   0.,   0.,   0.,   0.,\n",
              "           0.,   0.,   0.,   0.,   0.,   0.],\n",
              "        [  0.,   0.,   0.,   0.,   0.,   0.,   0.,   0.,   0.,   0.,   0.,\n",
              "           0.,   0.,   0.,   0.,   0.,   0.,   0.,   0.,   0.,   0.,   0.,\n",
              "           0.,   0.,   0.,   0.,   0.,   0.],\n",
              "        [  0.,   0.,   0.,   0.,   0.,   0.,   0.,   0.,   0.,   0.,  24.,\n",
              "          67.,  67.,  18.,   0.,   0.,   0.,   0.,   0.,   0.,   0.,   0.,\n",
              "           0.,   0.,   0.,   0.,   0.,   0.],\n",
              "        [  0.,   0.,   0.,   0.,   0.,   0.,   0.,   0.,   0.,   0., 131.,\n",
              "         252., 252.,  66.,   0.,   0.,   0.,   0.,   0.,   0.,   0.,   0.,\n",
              "           0.,   0.,   0.,   0.,   0.,   0.],\n",
              "        [  0.,   0.,   0.,   0.,   0.,   0.,   0.,   0.,   0., 159., 250.,\n",
              "         232.,  30.,  32.,   0.,   0.,   0.,   0.,   0.,   0.,   0.,   0.,\n",
              "           0.,   0.,   0.,   0.,   0.,   0.],\n",
              "        [  0.,   0.,   0.,   0.,   0.,   0.,   0.,   0.,  15., 222., 252.,\n",
              "         108.,   0.,   0.,   0.,   0.,   0.,   0.,   0.,   0.,   0.,   0.,\n",
              "           0.,   0.,   0.,   0.,   0.,   0.],\n",
              "        [  0.,   0.,   0.,   0.,   0.,   0.,   0.,   0., 147., 252., 183.,\n",
              "           5.,   0.,   0.,   0.,   0.,   0.,   0.,   0.,  20.,  89.,  89.,\n",
              "          73.,   0.,   0.,   0.,   0.,   0.],\n",
              "        [  0.,   0.,   0.,   0.,   0.,   0.,   0.,  48., 247., 252., 159.,\n",
              "           0.,   0.,   0.,   0.,   0.,   0.,   0.,  79., 236., 252., 252.,\n",
              "         249., 198.,  16.,   0.,   0.,   0.],\n",
              "        [  0.,   0.,   0.,   0.,   0.,   0.,  41., 193., 252., 199.,  22.,\n",
              "           0.,   0.,   0.,   0.,   0.,  12., 135., 248., 252., 252., 252.,\n",
              "         252., 252., 100.,   0.,   0.,   0.],\n",
              "        [  0.,   0.,   0.,   0.,   0.,   0., 100., 252., 252.,  88.,   0.,\n",
              "           0.,   0.,   0.,   0.,  11., 171., 252., 252., 235., 175., 178.,\n",
              "         252., 252., 224.,   0.,   0.,   0.],\n",
              "        [  0.,   0.,   0.,   0.,   0.,  15., 209., 252., 233.,  12.,   0.,\n",
              "           0.,   0.,   0.,  49., 177., 252., 252.,  89.,  26.,   0.,   2.,\n",
              "         166., 252., 252.,   0.,   0.,   0.],\n",
              "        [  0.,   0.,   0.,   0.,   0.,  96., 253., 253.,  59.,   0.,   0.,\n",
              "           0.,   0.,  11., 177., 255., 253.,  92.,   0.,   0.,   0.,   0.,\n",
              "         155., 253., 128.,   0.,   0.,   0.],\n",
              "        [  0.,   0.,   0.,   0.,   0., 143., 252., 252.,  10.,   0.,   0.,\n",
              "           0.,  12., 171., 252., 216., 110.,  13.,   0.,   0.,   0.,   3.,\n",
              "         180., 232.,  24.,   0.,   0.,   0.],\n",
              "        [  0.,   0.,   0.,   0.,   0., 143., 252., 170.,   2.,   0.,   0.,\n",
              "           0., 135., 252., 209.,  19.,   0.,   0.,   0.,   0.,   0.,  12.,\n",
              "         252., 132.,   0.,   0.,   0.,   0.],\n",
              "        [  0.,   0.,   0.,   0.,   0., 249., 252.,  96.,   0.,   0.,   0.,\n",
              "          21., 248., 246.,  34.,   0.,   0.,   0.,   0.,   5.,  61., 234.,\n",
              "         152.,   3.,   0.,   0.,   0.,   0.],\n",
              "        [  0.,   0.,   0.,   0.,   0., 253., 252.,  44.,   0.,   0.,   0.,\n",
              "         145., 252., 104.,   0.,   0.,   0.,  46., 114., 184., 252., 149.,\n",
              "          34.,   0.,   0.,   0.,   0.,   0.],\n",
              "        [  0.,   0.,   0.,   0.,   0., 253., 252.,  82.,   0.,   0.,  31.,\n",
              "         239., 252.,  66.,  39.,  89., 165., 243., 252., 233., 126.,   5.,\n",
              "           0.,   0.,   0.,   0.,   0.,   0.],\n",
              "        [  0.,   0.,   0.,   0.,   0., 249., 252., 244., 126.,  98., 143.,\n",
              "         252., 252., 237., 240., 253., 252., 243., 174.,  17.,   0.,   0.,\n",
              "           0.,   0.,   0.,   0.,   0.,   0.],\n",
              "        [  0.,   0.,   0.,   0.,   0., 119., 239., 252., 252., 252., 252.,\n",
              "         252., 252., 252., 252., 228., 179.,  17.,   0.,   0.,   0.,   0.,\n",
              "           0.,   0.,   0.,   0.,   0.,   0.],\n",
              "        [  0.,   0.,   0.,   0.,   0.,   0.,  46.,  66.,  66.,  66.,  66.,\n",
              "          66.,  66.,  66.,  66.,  29.,   0.,   0.,   0.,   0.,   0.,   0.,\n",
              "           0.,   0.,   0.,   0.,   0.,   0.],\n",
              "        [  0.,   0.,   0.,   0.,   0.,   0.,   0.,   0.,   0.,   0.,   0.,\n",
              "           0.,   0.,   0.,   0.,   0.,   0.,   0.,   0.,   0.,   0.,   0.,\n",
              "           0.,   0.,   0.,   0.,   0.,   0.],\n",
              "        [  0.,   0.,   0.,   0.,   0.,   0.,   0.,   0.,   0.,   0.,   0.,\n",
              "           0.,   0.,   0.,   0.,   0.,   0.,   0.,   0.,   0.,   0.,   0.,\n",
              "           0.,   0.,   0.,   0.,   0.,   0.],\n",
              "        [  0.,   0.,   0.,   0.,   0.,   0.,   0.,   0.,   0.,   0.,   0.,\n",
              "           0.,   0.,   0.,   0.,   0.,   0.,   0.,   0.,   0.,   0.,   0.,\n",
              "           0.,   0.,   0.,   0.,   0.,   0.],\n",
              "        [  0.,   0.,   0.,   0.,   0.,   0.,   0.,   0.,   0.,   0.,   0.,\n",
              "           0.,   0.,   0.,   0.,   0.,   0.,   0.,   0.,   0.,   0.,   0.,\n",
              "           0.,   0.,   0.,   0.,   0.,   0.],\n",
              "        [  0.,   0.,   0.,   0.,   0.,   0.,   0.,   0.,   0.,   0.,   0.,\n",
              "           0.,   0.,   0.,   0.,   0.,   0.,   0.,   0.,   0.,   0.,   0.,\n",
              "           0.,   0.,   0.,   0.,   0.,   0.],\n",
              "        [  0.,   0.,   0.,   0.,   0.,   0.,   0.,   0.,   0.,   0.,   0.,\n",
              "           0.,   0.,   0.,   0.,   0.,   0.,   0.,   0.,   0.,   0.,   0.,\n",
              "           0.,   0.,   0.,   0.,   0.,   0.]], dtype=float32))"
            ]
          },
          "metadata": {
            "tags": []
          },
          "execution_count": 146
        }
      ]
    },
    {
      "metadata": {
        "id": "TFCw_wQjxwkq",
        "colab_type": "code",
        "colab": {}
      },
      "cell_type": "code",
      "source": [
        "def plot_data(instances, images_per_row=10, **options): # images_per_row: 한 줄에 표시할 개수\n",
        "    size = 28\n",
        "    images_per_row = min(len(instances), images_per_row)\n",
        "    images = [instance.reshape(size,size) for instance in instances]\n",
        "    n_rows = (len(instances) - 1) // images_per_row + 1\n",
        "    row_images = []\n",
        "    n_empty = n_rows * images_per_row - len(instances)\n",
        "    images.append(np.zeros((size, size * n_empty)))\n",
        "    for row in range(n_rows):\n",
        "        rimages = images[row * images_per_row : (row + 1) * images_per_row]\n",
        "        row_images.append(np.concatenate(rimages, axis=1))\n",
        "    image = np.concatenate(row_images, axis=0)\n",
        "    plt.imshow(image, cmap = matplotlib.cm.binary, **options)\n",
        "    plt.axis(\"off\")"
      ],
      "execution_count": 0,
      "outputs": []
    },
    {
      "metadata": {
        "id": "KhSel85W3Jer",
        "colab_type": "code",
        "outputId": "76aa37be-765f-4ce4-8b79-32e94f68028b",
        "colab": {
          "base_uri": "https://localhost:8080/",
          "height": 191
        }
      },
      "cell_type": "code",
      "source": [
        "plt.figure(figsize=(5,10))\n",
        "plot_data(data[0:50, :784], images_per_row=10)\n",
        "plt.show()"
      ],
      "execution_count": 148,
      "outputs": [
        {
          "output_type": "display_data",
          "data": {
            "image/png": "[encoded data removed]",
            "text/plain": [
              "<matplotlib.figure.Figure at 0x7fd6c7c63ef0>"
            ]
          },
          "metadata": {
            "tags": []
          }
        }
      ]
    },
    {
      "metadata": {
        "id": "jCiy4ZtyFsjR",
        "colab_type": "text"
      },
      "cell_type": "markdown",
      "source": [
        "--------------------mnist_test.csv를 이용-------------------"
      ]
    },
    {
      "metadata": {
        "id": "lx5T9LHh3RwM",
        "colab_type": "code",
        "colab": {}
      },
      "cell_type": "code",
      "source": [
        "# mnist_test.csv를 로드\n",
        "data1 = np.loadtxt('sample_data/mnist_test.csv', delimiter=',', dtype=np.float32)"
      ],
      "execution_count": 0,
      "outputs": []
    },
    {
      "metadata": {
        "id": "3T3NS5bDGW14",
        "colab_type": "code",
        "outputId": "bd8142a3-5eae-4c2d-b321-62062ddc1b42",
        "colab": {
          "base_uri": "https://localhost:8080/",
          "height": 143
        }
      },
      "cell_type": "code",
      "source": [
        "# 데이터 구조를 파악\n",
        "data1.shape, data1"
      ],
      "execution_count": 150,
      "outputs": [
        {
          "output_type": "execute_result",
          "data": {
            "text/plain": [
              "((10000, 785), array([[7., 0., 0., ..., 0., 0., 0.],\n",
              "        [2., 0., 0., ..., 0., 0., 0.],\n",
              "        [1., 0., 0., ..., 0., 0., 0.],\n",
              "        ...,\n",
              "        [4., 0., 0., ..., 0., 0., 0.],\n",
              "        [5., 0., 0., ..., 0., 0., 0.],\n",
              "        [6., 0., 0., ..., 0., 0., 0.]], dtype=float32))"
            ]
          },
          "metadata": {
            "tags": []
          },
          "execution_count": 150
        }
      ]
    },
    {
      "metadata": {
        "id": "Y1xZ9yEJJ2Wj",
        "colab_type": "code",
        "outputId": "c5516938-3190-4909-b167-9a3f719b6a8b",
        "colab": {
          "base_uri": "https://localhost:8080/",
          "height": 35
        }
      },
      "cell_type": "code",
      "source": [
        "# 10000개의 숫자 이미지데이터 구성\n",
        "ndata1=data1[:,0]\n",
        "ndata1.shape"
      ],
      "execution_count": 151,
      "outputs": [
        {
          "output_type": "execute_result",
          "data": {
            "text/plain": [
              "(10000,)"
            ]
          },
          "metadata": {
            "tags": []
          },
          "execution_count": 151
        }
      ]
    },
    {
      "metadata": {
        "id": "dlJ775BkJ7aN",
        "colab_type": "code",
        "outputId": "79010d96-c369-4d4b-f3ef-063362bc8e79",
        "colab": {
          "base_uri": "https://localhost:8080/",
          "height": 1547
        }
      },
      "cell_type": "code",
      "source": [
        "# 1X784를 28X28로 재구성\n",
        "rdata1 = data1[0,1:]\n",
        "rdata1.shape, rdata1.reshape(28,28)"
      ],
      "execution_count": 152,
      "outputs": [
        {
          "output_type": "execute_result",
          "data": {
            "text/plain": [
              "((784,),\n",
              " array([[  0.,   0.,   0.,   0.,   0.,   0.,   0.,   0.,   0.,   0.,   0.,\n",
              "           0.,   0.,   0.,   0.,   0.,   0.,   0.,   0.,   0.,   0.,   0.,\n",
              "           0.,   0.,   0.,   0.,   0.,   0.],\n",
              "        [  0.,   0.,   0.,   0.,   0.,   0.,   0.,   0.,   0.,   0.,   0.,\n",
              "           0.,   0.,   0.,   0.,   0.,   0.,   0.,   0.,   0.,   0.,   0.,\n",
              "           0.,   0.,   0.,   0.,   0.,   0.],\n",
              "        [  0.,   0.,   0.,   0.,   0.,   0.,   0.,   0.,   0.,   0.,   0.,\n",
              "           0.,   0.,   0.,   0.,   0.,   0.,   0.,   0.,   0.,   0.,   0.,\n",
              "           0.,   0.,   0.,   0.,   0.,   0.],\n",
              "        [  0.,   0.,   0.,   0.,   0.,   0.,   0.,   0.,   0.,   0.,   0.,\n",
              "           0.,   0.,   0.,   0.,   0.,   0.,   0.,   0.,   0.,   0.,   0.,\n",
              "           0.,   0.,   0.,   0.,   0.,   0.],\n",
              "        [  0.,   0.,   0.,   0.,   0.,   0.,   0.,   0.,   0.,   0.,   0.,\n",
              "           0.,   0.,   0.,   0.,   0.,   0.,   0.,   0.,   0.,   0.,   0.,\n",
              "           0.,   0.,   0.,   0.,   0.,   0.],\n",
              "        [  0.,   0.,   0.,   0.,   0.,   0.,   0.,   0.,   0.,   0.,   0.,\n",
              "           0.,   0.,   0.,   0.,   0.,   0.,   0.,   0.,   0.,   0.,   0.,\n",
              "           0.,   0.,   0.,   0.,   0.,   0.],\n",
              "        [  0.,   0.,   0.,   0.,   0.,   0.,   0.,   0.,   0.,   0.,   0.,\n",
              "           0.,   0.,   0.,   0.,   0.,   0.,   0.,   0.,   0.,   0.,   0.,\n",
              "           0.,   0.,   0.,   0.,   0.,   0.],\n",
              "        [  0.,   0.,   0.,   0.,   0.,   0.,  84., 185., 159., 151.,  60.,\n",
              "          36.,   0.,   0.,   0.,   0.,   0.,   0.,   0.,   0.,   0.,   0.,\n",
              "           0.,   0.,   0.,   0.,   0.,   0.],\n",
              "        [  0.,   0.,   0.,   0.,   0.,   0., 222., 254., 254., 254., 254.,\n",
              "         241., 198., 198., 198., 198., 198., 198., 198., 198., 170.,  52.,\n",
              "           0.,   0.,   0.,   0.,   0.,   0.],\n",
              "        [  0.,   0.,   0.,   0.,   0.,   0.,  67., 114.,  72., 114., 163.,\n",
              "         227., 254., 225., 254., 254., 254., 250., 229., 254., 254., 140.,\n",
              "           0.,   0.,   0.,   0.,   0.,   0.],\n",
              "        [  0.,   0.,   0.,   0.,   0.,   0.,   0.,   0.,   0.,   0.,   0.,\n",
              "          17.,  66.,  14.,  67.,  67.,  67.,  59.,  21., 236., 254., 106.,\n",
              "           0.,   0.,   0.,   0.,   0.,   0.],\n",
              "        [  0.,   0.,   0.,   0.,   0.,   0.,   0.,   0.,   0.,   0.,   0.,\n",
              "           0.,   0.,   0.,   0.,   0.,   0.,   0.,  83., 253., 209.,  18.,\n",
              "           0.,   0.,   0.,   0.,   0.,   0.],\n",
              "        [  0.,   0.,   0.,   0.,   0.,   0.,   0.,   0.,   0.,   0.,   0.,\n",
              "           0.,   0.,   0.,   0.,   0.,   0.,  22., 233., 255.,  83.,   0.,\n",
              "           0.,   0.,   0.,   0.,   0.,   0.],\n",
              "        [  0.,   0.,   0.,   0.,   0.,   0.,   0.,   0.,   0.,   0.,   0.,\n",
              "           0.,   0.,   0.,   0.,   0.,   0., 129., 254., 238.,  44.,   0.,\n",
              "           0.,   0.,   0.,   0.,   0.,   0.],\n",
              "        [  0.,   0.,   0.,   0.,   0.,   0.,   0.,   0.,   0.,   0.,   0.,\n",
              "           0.,   0.,   0.,   0.,   0.,  59., 249., 254.,  62.,   0.,   0.,\n",
              "           0.,   0.,   0.,   0.,   0.,   0.],\n",
              "        [  0.,   0.,   0.,   0.,   0.,   0.,   0.,   0.,   0.,   0.,   0.,\n",
              "           0.,   0.,   0.,   0.,   0., 133., 254., 187.,   5.,   0.,   0.,\n",
              "           0.,   0.,   0.,   0.,   0.,   0.],\n",
              "        [  0.,   0.,   0.,   0.,   0.,   0.,   0.,   0.,   0.,   0.,   0.,\n",
              "           0.,   0.,   0.,   0.,   9., 205., 248.,  58.,   0.,   0.,   0.,\n",
              "           0.,   0.,   0.,   0.,   0.,   0.],\n",
              "        [  0.,   0.,   0.,   0.,   0.,   0.,   0.,   0.,   0.,   0.,   0.,\n",
              "           0.,   0.,   0.,   0., 126., 254., 182.,   0.,   0.,   0.,   0.,\n",
              "           0.,   0.,   0.,   0.,   0.,   0.],\n",
              "        [  0.,   0.,   0.,   0.,   0.,   0.,   0.,   0.,   0.,   0.,   0.,\n",
              "           0.,   0.,   0.,  75., 251., 240.,  57.,   0.,   0.,   0.,   0.,\n",
              "           0.,   0.,   0.,   0.,   0.,   0.],\n",
              "        [  0.,   0.,   0.,   0.,   0.,   0.,   0.,   0.,   0.,   0.,   0.,\n",
              "           0.,   0.,  19., 221., 254., 166.,   0.,   0.,   0.,   0.,   0.,\n",
              "           0.,   0.,   0.,   0.,   0.,   0.],\n",
              "        [  0.,   0.,   0.,   0.,   0.,   0.,   0.,   0.,   0.,   0.,   0.,\n",
              "           0.,   3., 203., 254., 219.,  35.,   0.,   0.,   0.,   0.,   0.,\n",
              "           0.,   0.,   0.,   0.,   0.,   0.],\n",
              "        [  0.,   0.,   0.,   0.,   0.,   0.,   0.,   0.,   0.,   0.,   0.,\n",
              "           0.,  38., 254., 254.,  77.,   0.,   0.,   0.,   0.,   0.,   0.,\n",
              "           0.,   0.,   0.,   0.,   0.,   0.],\n",
              "        [  0.,   0.,   0.,   0.,   0.,   0.,   0.,   0.,   0.,   0.,   0.,\n",
              "          31., 224., 254., 115.,   1.,   0.,   0.,   0.,   0.,   0.,   0.,\n",
              "           0.,   0.,   0.,   0.,   0.,   0.],\n",
              "        [  0.,   0.,   0.,   0.,   0.,   0.,   0.,   0.,   0.,   0.,   0.,\n",
              "         133., 254., 254.,  52.,   0.,   0.,   0.,   0.,   0.,   0.,   0.,\n",
              "           0.,   0.,   0.,   0.,   0.,   0.],\n",
              "        [  0.,   0.,   0.,   0.,   0.,   0.,   0.,   0.,   0.,   0.,  61.,\n",
              "         242., 254., 254.,  52.,   0.,   0.,   0.,   0.,   0.,   0.,   0.,\n",
              "           0.,   0.,   0.,   0.,   0.,   0.],\n",
              "        [  0.,   0.,   0.,   0.,   0.,   0.,   0.,   0.,   0.,   0., 121.,\n",
              "         254., 254., 219.,  40.,   0.,   0.,   0.,   0.,   0.,   0.,   0.,\n",
              "           0.,   0.,   0.,   0.,   0.,   0.],\n",
              "        [  0.,   0.,   0.,   0.,   0.,   0.,   0.,   0.,   0.,   0., 121.,\n",
              "         254., 207.,  18.,   0.,   0.,   0.,   0.,   0.,   0.,   0.,   0.,\n",
              "           0.,   0.,   0.,   0.,   0.,   0.],\n",
              "        [  0.,   0.,   0.,   0.,   0.,   0.,   0.,   0.,   0.,   0.,   0.,\n",
              "           0.,   0.,   0.,   0.,   0.,   0.,   0.,   0.,   0.,   0.,   0.,\n",
              "           0.,   0.,   0.,   0.,   0.,   0.]], dtype=float32))"
            ]
          },
          "metadata": {
            "tags": []
          },
          "execution_count": 152
        }
      ]
    },
    {
      "metadata": {
        "id": "n73FFpjnMUX1",
        "colab_type": "code",
        "colab": {}
      },
      "cell_type": "code",
      "source": [
        "def plot_data1(instances, images_per_row=10, **options): # images_per_row: 한 줄에 표시할 개수\n",
        "    size = 28\n",
        "    images_per_row = min(len(instances), images_per_row)\n",
        "    images = [instance.reshape(size,size) for instance in instances]\n",
        "    n_rows = (len(instances) - 1) // images_per_row + 1\n",
        "    row_images = []\n",
        "    n_empty = n_rows * images_per_row - len(instances)\n",
        "    images.append(np.zeros((size, size * n_empty)))\n",
        "    for row in range(n_rows):\n",
        "        rimages = images[row * images_per_row : (row + 1) * images_per_row]\n",
        "        row_images.append(np.concatenate(rimages, axis=1))\n",
        "    image = np.concatenate(row_images, axis=0)\n",
        "    plt.imshow(image, cmap = matplotlib.cm.binary, **options)\n",
        "    plt.axis(\"off\")"
      ],
      "execution_count": 0,
      "outputs": []
    },
    {
      "metadata": {
        "id": "ILF4r1hfMkel",
        "colab_type": "code",
        "outputId": "f7506add-3c08-497e-d4eb-fad723e8fab1",
        "colab": {
          "base_uri": "https://localhost:8080/",
          "height": 191
        }
      },
      "cell_type": "code",
      "source": [
        "plt.figure(figsize=(5,10))\n",
        "plot_data1(data1[0:50, :784], images_per_row=10)\n",
        "plt.show()"
      ],
      "execution_count": 154,
      "outputs": [
        {
          "output_type": "display_data",
          "data": {
            "image/png": "[encoded data removed]",
            "text/plain": [
              "<matplotlib.figure.Figure at 0x7fd6c4c7a748>"
            ]
          },
          "metadata": {
            "tags": []
          }
        }
      ]
    },
    {
      "metadata": {
        "id": "vMAttR2OMpug",
        "colab_type": "code",
        "colab": {}
      },
      "cell_type": "code",
      "source": [
        ""
      ],
      "execution_count": 0,
      "outputs": []
    }
  ]
}
