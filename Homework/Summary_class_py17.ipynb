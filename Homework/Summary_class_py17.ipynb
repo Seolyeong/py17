{
  "nbformat": 4,
  "nbformat_minor": 0,
  "metadata": {
    "colab": {
      "name": "Summary_class_py17.ipynb",
      "version": "0.3.2",
      "provenance": [],
      "collapsed_sections": [],
      "include_colab_link": true
    },
    "kernelspec": {
      "name": "python3",
      "display_name": "Python 3"
    }
  },
  "cells": [
    {
      "cell_type": "markdown",
      "metadata": {
        "id": "view-in-github",
        "colab_type": "text"
      },
      "source": [
        "[View in Colaboratory](https://colab.research.google.com/github/Seolyeong/py17/blob/master/Summary_class_py17.ipynb)"
      ]
    },
    {
      "metadata": {
        "id": "6at4ZBNiKP8m",
        "colab_type": "text"
      },
      "cell_type": "markdown",
      "source": [
        "# Python - 클래스(class)"
      ]
    },
    {
      "metadata": {
        "id": "-mOr2473KZCq",
        "colab_type": "text"
      },
      "cell_type": "markdown",
      "source": [
        "class 클래스이름:\n",
        "\n",
        "-   def __init__(self, 인수, ...):   # 생성자\n",
        "-   def 메서드이름(self, 인수, ...) # 메서드\n"
      ]
    },
    {
      "metadata": {
        "id": "git6Y22CJxnz",
        "colab_type": "code",
        "colab": {}
      },
      "cell_type": "code",
      "source": [
        "class Person:\n",
        "  \n",
        "  count = 0   # class variable\n",
        "  \n",
        "  def __init__(self, name):  # __init__ 메서드가 생성자 역할 수행, 인스턴스가 만들어 질 때 한번만 호출\n",
        "    self.name = name\n",
        "    Person.count += 1   # class 변수 count 증가, \"클래스명.클래스 변수명\"\n",
        "    print(self.name + \" is initialized\")\n",
        "    \n",
        "  def work(self, company):   # self를 반드시 기술\n",
        "    print(self.name + \" is working in \" + company)\n",
        "    \n",
        "  def sleep(self):\n",
        "    print(self.name + \" is sleeping\")\n",
        "    \n",
        "  @classmethod   # 클래스 메서드는 메서드 앞에 @classmethod 표기\n",
        "  def getCount(cls):\n",
        "     # 클래스 메서드는 객체 인스턴스를 의미하는 self 대신 cls라는 클래스를 의미하는 피라미터를 인수로 전달받음\n",
        "    return cls.count\n",
        "   \n",
        "    \n",
        "# Person instance 2개 생성\n",
        "obj1 = Person(\"PARK\")\n",
        "obj2 = Person(\"KIM\")\n",
        "\n",
        "# method call\n",
        "obj1.work(\"ABCDEF\")\n",
        "obj2.sleep()\n",
        "\n",
        "# 속성에 직접 접근, 기본적으로 python에서는 모두 public\n",
        "print(\"current person object is \", obj1.name, \", \", obj2.name)\n",
        "\n",
        "# class method 호출\n",
        "print(\"Person count ==\", Person.getCount())\n",
        "\n",
        "# class variable direct access\n",
        "print(Person.count)"
      ],
      "execution_count": 0,
      "outputs": []
    },
    {
      "metadata": {
        "id": "gky9Z7YYe0Kl",
        "colab_type": "text"
      },
      "cell_type": "markdown",
      "source": [
        "Python은 기본적으로 모든 멤버가 public이기 때문에, 외부에서 직접 접근 가능"
      ]
    },
    {
      "metadata": {
        "id": "uQwoa_6lPIas",
        "colab_type": "code",
        "colab": {}
      },
      "cell_type": "code",
      "source": [
        "class PrivateMemberTest:\n",
        "  \n",
        "  def __init__(self, name1, name2):\n",
        "    \n",
        "    self.name1 = name 1\n",
        "    self.__name2 = name2   # private member variable \n",
        "    #__멤버변수 형태로 선언하면 private\n",
        "    print(\"initalized with \" + name1 + \" ,\" + name2)\n",
        "    \n",
        "  def getNames(self):\n",
        "    self.__printNames()\n",
        "    return self.name1, self.__name2\n",
        "  \n",
        "  def __printNames(self):   # private member method\n",
        "    #__멤버메서드 형태로 선언하면 private\n",
        "    print(self.name1, self.__name2)\n",
        "    \n",
        "# 인스턴스 생성\n",
        "obj  = PrivateMemberTest(\"PARK\", \"KIM\")\n",
        "\n",
        "print(obj.name1)\n",
        "print(obj.getNames())\n",
        "print(obj.__printNames())   # error 발생\n",
        "print(obj.__name2)   # error 발생"
      ],
      "execution_count": 0,
      "outputs": []
    },
    {
      "metadata": {
        "id": "P7U2KEHIjhCs",
        "colab_type": "code",
        "colab": {}
      },
      "cell_type": "code",
      "source": [
        "# 외부함수와 클래스 method name이 같은경우 => self를 붙이지 않으면 동일한 이름의 외부 함수 호출됨\n",
        "def print_name(name):\n",
        "  print(\"[def] \", name)\n",
        "class SameTest:\n",
        "  \n",
        "  def __init__(self):\n",
        "    # 아무것도 안하기 때문에 pass\n",
        "    pass\n",
        "  \n",
        "  # 외부 함수와 동일한 이름으로 method 정의\n",
        "  def print_name(self, name)\n",
        "    print(\"[SameTest] \", name)\n",
        "  \n",
        "  def call_test(self):\n",
        "    \n",
        "    # 외부 함수 호출\n",
        "    print_name(\"KIM\")\n",
        "    \n",
        "    # 클래스 내부 method 호출\n",
        "    self.print_name(\"KIM\")\n",
        "    \n",
        "# create SameTest object\n",
        "obj = SameTest()\n",
        "\n",
        "# call function print_name\n",
        "print_name(\"LEE\")\n",
        "\n",
        "# call method print_name\n",
        "obj.print_name(\"LEE\")\n",
        "\n",
        "# call method call_test\n",
        "obj.call_test()"
      ],
      "execution_count": 0,
      "outputs": []
    },
    {
      "metadata": {
        "id": "LzSUxN7voVS9",
        "colab_type": "text"
      },
      "cell_type": "markdown",
      "source": [
        "# Python - 예외처리(exception)"
      ]
    },
    {
      "metadata": {
        "id": "eUK-NkEkosu6",
        "colab_type": "text"
      },
      "cell_type": "markdown",
      "source": [
        "- Python exception은 try ...except문을 사용 (try 블록에서 에러가 발생하면 except문으로 이동하여 예외처리 수행)\n",
        "\n",
        "- 발생된 exception을 그냥 무시하기 위해서는 보통 pass문을 사용, 개발자가 에러를 던지기 위해서는 raise문을 사용\n",
        "\n",
        "- try문은 finally문을 가질 수도 있는데, finally 블럭은 try 블럭이 정상적으로 실행되든, 에러가 발생하여 except이 실행되든 항상 마지막에 실행"
      ]
    },
    {
      "metadata": {
        "id": "kzKuRH7ToktD",
        "colab_type": "code",
        "colab": {}
      },
      "cell_type": "code",
      "source": [
        "def calc(list_data):\n",
        "  \n",
        "  sum = 0\n",
        "  \n",
        "  try:\n",
        "    sum = list_data[0] + list_data[1] + list_data[2]\n",
        "    \n",
        "    if sum < 0:\n",
        "      raise Exception(\"Sum is minus\")\n",
        "      \n",
        "  except IndexError as err:\n",
        "    print(str(err))\n",
        "  except Exception as err:\n",
        "    print(str(err))\n",
        "  finally:\n",
        "    print(sum)"
      ],
      "execution_count": 0,
      "outputs": []
    },
    {
      "metadata": {
        "id": "dAVtZLVsqDWP",
        "colab_type": "text"
      },
      "cell_type": "markdown",
      "source": [
        "# Python - with 구문"
      ]
    },
    {
      "metadata": {
        "id": "zFfaUeUtqHkZ",
        "colab_type": "text"
      },
      "cell_type": "markdown",
      "source": [
        "- 일반적으로 파일(file) 또는 세션(session)을 사용하는 순서는 open() => read() 또는 write() => close()\n",
        "\n",
        "- Python에서 with 구문을 사용하면 명시적으로 리소스 close()를 해주지 않아도 자동으로 close() 해줌.\n",
        "\n",
        "- with 블록을 벗어나는 순간 파일(file)이나 세션(session) 등의 리소스를 자동으로 close 시킴.\n",
        "\n",
        "=> 딥러닝 프레임워크인 TensorFlow의 session 사용시 자주 사용"
      ]
    },
    {
      "metadata": {
        "id": "vDZ1e-j7q71m",
        "colab_type": "code",
        "colab": {}
      },
      "cell_type": "code",
      "source": [
        "# 일반적인 방법\n",
        "\n",
        "f = open(\",/file_test\", 'w')\n",
        "\n",
        "f.write(\"Hello, Python!\")\n",
        "\n",
        "f.close()"
      ],
      "execution_count": 0,
      "outputs": []
    },
    {
      "metadata": {
        "id": "SLZhLShjrKL1",
        "colab_type": "code",
        "colab": {}
      },
      "cell_type": "code",
      "source": [
        "# with 구문을 사용하는 방법\n",
        "# with 블록을 벗어나는 순간 파일 객체 f가 자동으로 close됨\n",
        "\n",
        "with open(\"./file_test\", 'w') as f:\n",
        "  f.write(\"Hello, Python!\")"
      ],
      "execution_count": 0,
      "outputs": []
    }
  ]
}
