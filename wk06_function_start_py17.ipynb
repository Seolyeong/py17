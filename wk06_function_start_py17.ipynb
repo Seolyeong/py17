{
  "nbformat": 4,
  "nbformat_minor": 0,
  "metadata": {
    "colab": {
      "name": "wk06_function_start_py17.ipynb",
      "version": "0.3.2",
      "provenance": [],
      "collapsed_sections": [
        "emTbIFBcPMYj",
        "jRugU9ONPMYt",
        "-mN-4dy9PMY8",
        "GcbGJCS9PMZQ",
        "NMJ6w__wPMZW",
        "7BlKk_21PMZa",
        "RBVafmR7PMZh",
        "FPhPtLsqPMaB",
        "rdJrYFkTPMaN",
        "xhRX41s0PMad",
        "ZnHLqHIWzo1_",
        "gTIF5d1Hzo2C",
        "ZrlvfQrPPMal"
      ],
      "include_colab_link": true
    },
    "kernelspec": {
      "display_name": "Python 3",
      "language": "python",
      "name": "python3"
    }
  },
  "cells": [
    {
      "cell_type": "markdown",
      "metadata": {
        "id": "view-in-github",
        "colab_type": "text"
      },
      "source": [
        "[View in Colaboratory](https://colab.research.google.com/github/Seolyeong/py17/blob/master/wk06_function_start_py17.ipynb)"
      ]
    },
    {
      "metadata": {
        "id": "hIHlLTQmPMXl",
        "colab_type": "text"
      },
      "cell_type": "markdown",
      "source": [
        "## 파이썬과 함수형 프로그래밍 (Ch.5-1)"
      ]
    },
    {
      "metadata": {
        "id": "AsEsLQPuPMXp",
        "colab_type": "text"
      },
      "cell_type": "markdown",
      "source": [
        "## 함수형 프로그래밍이란 무엇인가"
      ]
    },
    {
      "metadata": {
        "id": "FdtPTyabPMXq",
        "colab_type": "code",
        "colab": {
          "base_uri": "https://localhost:8080/",
          "height": 35
        },
        "outputId": "21a4bf7c-545f-4ab3-be6c-b359a6ddbdd4"
      },
      "cell_type": "code",
      "source": [
        "# 리스트의 메쏘드를 사용한 처리\n",
        "# reverse() 메쏘드를 사용한 회문 판정\n",
        "orig_str = \"아좋다좋아\"\n",
        "str_list = list(orig_str)     # 문자열을 리스트로 변환\n",
        "str_list.reverse()            # 리스트를 뒤집음(반전)\n",
        "# 공백 문자열에 뒤집은 문자열을 추가\n",
        "# ''.join                           # ''. 하고 tab을 누르면 그 객체에 사용가능한 함수를 나타냄\n",
        "''.join(str_list) == orig_str # 리스트를 문자열로 바꾸어 회문 판정"
      ],
      "execution_count": 1,
      "outputs": [
        {
          "output_type": "execute_result",
          "data": {
            "text/plain": [
              "True"
            ]
          },
          "metadata": {
            "tags": []
          },
          "execution_count": 1
        }
      ]
    },
    {
      "metadata": {
        "id": "nweWWLWHPMXw",
        "colab_type": "code",
        "colab": {
          "base_uri": "https://localhost:8080/",
          "height": 35
        },
        "outputId": "6da355e8-cb3e-441f-e03c-a0a195e3c659"
      },
      "cell_type": "code",
      "source": [
        "# 함수를 사용한 처리 (list() 사용 안함!)\n",
        "# reversed()를 사용한 회문 판정\n",
        "# 함수/메쏘드 호출 연산자와 비교 연산자를 포함하는 식 등\n",
        "orig_str = \"아좋다좋아\"\n",
        "\"\".join(reversed(orig_str)) == orig_str"
      ],
      "execution_count": 2,
      "outputs": [
        {
          "output_type": "execute_result",
          "data": {
            "text/plain": [
              "True"
            ]
          },
          "metadata": {
            "tags": []
          },
          "execution_count": 2
        }
      ]
    },
    {
      "metadata": {
        "id": "64KwndrjPMX1",
        "colab_type": "text"
      },
      "cell_type": "markdown",
      "source": [
        "[reversed() function (w3schools.com)](https://www.w3schools.com/python/ref_func_reversed.asp)"
      ]
    },
    {
      "metadata": {
        "id": "vTKRFHezPMX3",
        "colab_type": "code",
        "colab": {
          "base_uri": "https://localhost:8080/",
          "height": 35
        },
        "outputId": "05792c6e-336e-4cf3-a9ce-ed86028cccce"
      },
      "cell_type": "code",
      "source": [
        "# 참고로 문자열을 반전만 한다면 슬라이스의 단계 수를 사용하는 것이\n",
        "# 가장 쉽다\n",
        "\n",
        "orig_str = \"아좋다좋아\"  # 문자열은 자동 리스트!\n",
        "orig_str == orig_str[::-1]   # orig_str[전체데이터의 길이: 0 :-1] \n",
        "\n",
        "# 슬라이스도 함수형적인 작업이라고 말할 수 있을지도..."
      ],
      "execution_count": 3,
      "outputs": [
        {
          "output_type": "execute_result",
          "data": {
            "text/plain": [
              "True"
            ]
          },
          "metadata": {
            "tags": []
          },
          "execution_count": 3
        }
      ]
    },
    {
      "metadata": {
        "id": "emKQFl7qPMX9",
        "colab_type": "code",
        "colab": {
          "base_uri": "https://localhost:8080/",
          "height": 35
        },
        "outputId": "afe49915-74ca-47fc-8872-1d44b11fe30a"
      },
      "cell_type": "code",
      "source": [
        "orig_str = \"아좋다좋아크\"\n",
        "orig_str[::-1]   # 거꾸로 출력"
      ],
      "execution_count": 6,
      "outputs": [
        {
          "output_type": "execute_result",
          "data": {
            "text/plain": [
              "'크아좋다좋아'"
            ]
          },
          "metadata": {
            "tags": []
          },
          "execution_count": 6
        }
      ]
    },
    {
      "metadata": {
        "id": "SDlaNdwdCAc6",
        "colab_type": "code",
        "colab": {
          "base_uri": "https://localhost:8080/",
          "height": 35
        },
        "outputId": "6e91b869-19ae-4869-ea64-0ef0030cbf6c"
      },
      "cell_type": "code",
      "source": [
        "orig_str[-1:0:-1]"
      ],
      "execution_count": 8,
      "outputs": [
        {
          "output_type": "execute_result",
          "data": {
            "text/plain": [
              "'크아좋다좋'"
            ]
          },
          "metadata": {
            "tags": []
          },
          "execution_count": 8
        }
      ]
    },
    {
      "metadata": {
        "id": "SCkguVP7Bw6o",
        "colab_type": "code",
        "colab": {
          "base_uri": "https://localhost:8080/",
          "height": 35
        },
        "outputId": "696aaa38-d206-4acd-87c9-9132d2c43d25"
      },
      "cell_type": "code",
      "source": [
        "orig_str[0:-1:1]"
      ],
      "execution_count": 9,
      "outputs": [
        {
          "output_type": "execute_result",
          "data": {
            "text/plain": [
              "'아좋다좋아'"
            ]
          },
          "metadata": {
            "tags": []
          },
          "execution_count": 9
        }
      ]
    },
    {
      "metadata": {
        "id": "YHpZiDC2PMYD",
        "colab_type": "text"
      },
      "cell_type": "markdown",
      "source": [
        "[Reverse string by slicing (w3schools.com)](https://www.w3schools.com/python/python_howto_reverse_string.asp)"
      ]
    },
    {
      "metadata": {
        "id": "qaEsTlMOPMYF",
        "colab_type": "text"
      },
      "cell_type": "markdown",
      "source": [
        "> 함수형 프로그래밍이란 -> 함수를 이용한 처리"
      ]
    },
    {
      "metadata": {
        "id": "J5X_NOoGPMYH",
        "colab_type": "code",
        "colab": {}
      },
      "cell_type": "code",
      "source": [
        "# Python의 식\n",
        "print(\"\".join(reversed(\"아좋다좋아크\")))"
      ],
      "execution_count": 0,
      "outputs": []
    },
    {
      "metadata": {
        "id": "6Zaf49C-PMYK",
        "colab_type": "text"
      },
      "cell_type": "markdown",
      "source": [
        "### 파이썬의 문장과 식"
      ]
    },
    {
      "metadata": {
        "id": "NW9oglXzPMYK",
        "colab_type": "code",
        "colab": {
          "base_uri": "https://localhost:8080/",
          "height": 35
        },
        "outputId": "ca83ca24-cfaa-4448-cd31-8ac6f8ea53cb"
      },
      "cell_type": "code",
      "source": [
        "# 파이썬의 문장\n",
        "\n",
        "# if문, for문, def문과 같이 '~ 문장'이라는 기능\n",
        "# '문장'은 줄 바꿈을 필요하다\n",
        "if \"\":\n",
        "    print(\"이 블록은 실행되지 않습니다\")\n",
        "else:\n",
        "    print(\"파이썬에서는 빈 문자열은 거짓이라고 판정됩니다\")\n",
        "       "
      ],
      "execution_count": 10,
      "outputs": [
        {
          "output_type": "stream",
          "text": [
            "파이썬에서는 빈 문자열은 거짓이라고 판정됩니다\n"
          ],
          "name": "stdout"
        }
      ]
    },
    {
      "metadata": {
        "id": "zucoAPl3PMYN",
        "colab_type": "text"
      },
      "cell_type": "markdown",
      "source": [
        "# lambda식 : 익명 함수 또는 무명 함수"
      ]
    },
    {
      "metadata": {
        "id": "ACiQ4jIrPMYO",
        "colab_type": "code",
        "colab": {}
      },
      "cell_type": "code",
      "source": [
        "# function square(x)\n",
        "def square(x): \n",
        "    return x*x"
      ],
      "execution_count": 0,
      "outputs": []
    },
    {
      "metadata": {
        "id": "0O4kH1-IPMYQ",
        "colab_type": "code",
        "colab": {
          "base_uri": "https://localhost:8080/",
          "height": 35
        },
        "outputId": "8198e125-982e-4b06-a637-35431467daef"
      },
      "cell_type": "code",
      "source": [
        "# Call square(5) \n",
        "print(square(5))"
      ],
      "execution_count": 12,
      "outputs": [
        {
          "output_type": "stream",
          "text": [
            "25\n"
          ],
          "name": "stdout"
        }
      ]
    },
    {
      "metadata": {
        "id": "Lk5sGeZBPMYU",
        "colab_type": "code",
        "colab": {}
      },
      "cell_type": "code",
      "source": [
        "square1 = lambda x: x*x "
      ],
      "execution_count": 0,
      "outputs": []
    },
    {
      "metadata": {
        "id": "7VcMQCQxPMYW",
        "colab_type": "code",
        "colab": {
          "base_uri": "https://localhost:8080/",
          "height": 35
        },
        "outputId": "ea782df8-0054-4955-dd52-54ed55ae543d"
      },
      "cell_type": "code",
      "source": [
        "# Call square1(5) \n",
        "print(square1(5))"
      ],
      "execution_count": 14,
      "outputs": [
        {
          "output_type": "stream",
          "text": [
            "25\n"
          ],
          "name": "stdout"
        }
      ]
    },
    {
      "metadata": {
        "id": "BND-dEp1PMYZ",
        "colab_type": "text"
      },
      "cell_type": "markdown",
      "source": [
        "### lambda식 정리 (Youtube video)"
      ]
    },
    {
      "metadata": {
        "id": "7fKkqnyKPMYa",
        "colab_type": "code",
        "colab": {}
      },
      "cell_type": "code",
      "source": [
        "from IPython.lib.display import YouTubeVideo\n",
        "YouTubeVideo('oL6LIuw_p94')"
      ],
      "execution_count": 0,
      "outputs": []
    },
    {
      "metadata": {
        "id": "zfb-Cx9wPMYd",
        "colab_type": "text"
      },
      "cell_type": "markdown",
      "source": [
        "## function"
      ]
    },
    {
      "metadata": {
        "id": "F8dVZVjePMYe",
        "colab_type": "code",
        "colab": {}
      },
      "cell_type": "code",
      "source": [
        "def print_name(name, count=2):\n",
        "    for i in range(count):\n",
        "        print(\"name = \", name)"
      ],
      "execution_count": 0,
      "outputs": []
    },
    {
      "metadata": {
        "id": "hssQfUZHPMYg",
        "colab_type": "code",
        "colab": {
          "base_uri": "https://localhost:8080/",
          "height": 53
        },
        "outputId": "6d02507b-1e4b-4527-b64b-84fa999a809e"
      },
      "cell_type": "code",
      "source": [
        "print_name(\"HCit\")"
      ],
      "execution_count": 16,
      "outputs": [
        {
          "output_type": "stream",
          "text": [
            "name =  HCit\n",
            "name =  HCit\n"
          ],
          "name": "stdout"
        }
      ]
    },
    {
      "metadata": {
        "id": "OkKZhxEEF-cx",
        "colab_type": "code",
        "colab": {
          "base_uri": "https://localhost:8080/",
          "height": 107
        },
        "outputId": "eb852725-caa0-4216-fefa-acb101ae38ea"
      },
      "cell_type": "code",
      "source": [
        "print_name(\"HCit\", 5)"
      ],
      "execution_count": 17,
      "outputs": [
        {
          "output_type": "stream",
          "text": [
            "name =  HCit\n",
            "name =  HCit\n",
            "name =  HCit\n",
            "name =  HCit\n",
            "name =  HCit\n"
          ],
          "name": "stdout"
        }
      ]
    },
    {
      "metadata": {
        "id": "emTbIFBcPMYj",
        "colab_type": "text"
      },
      "cell_type": "markdown",
      "source": [
        "### mutable vs. immutable parameter in function"
      ]
    },
    {
      "metadata": {
        "id": "UIrG74jAPMYk",
        "colab_type": "code",
        "colab": {}
      },
      "cell_type": "code",
      "source": [
        "# mutable은 list로써 값이 변한다.\n",
        "# immutable은 정수로써 값이 변하지 않는다.\n",
        "def mutable_immutable_func(int_x, input_list):\n",
        "    int_x += 1\n",
        "    input_list.append(100)"
      ],
      "execution_count": 0,
      "outputs": []
    },
    {
      "metadata": {
        "id": "42c7LcgAPMYm",
        "colab_type": "code",
        "colab": {}
      },
      "cell_type": "code",
      "source": [
        "x = 1 #immutable\n",
        "test_list = [1,2,3] # mutable"
      ],
      "execution_count": 0,
      "outputs": []
    },
    {
      "metadata": {
        "id": "7yOrxwOGPMYq",
        "colab_type": "code",
        "colab": {
          "base_uri": "https://localhost:8080/",
          "height": 35
        },
        "outputId": "3e01c6ef-f847-4a24-d018-35c49f1586a8"
      },
      "cell_type": "code",
      "source": [
        "mutable_immutable_func(x, test_list)\n",
        "print(\"x = \", x, \", test_list = \", test_list)"
      ],
      "execution_count": 20,
      "outputs": [
        {
          "output_type": "stream",
          "text": [
            "x =  1 , test_list =  [1, 2, 3, 100]\n"
          ],
          "name": "stdout"
        }
      ]
    },
    {
      "metadata": {
        "id": "jRugU9ONPMYt",
        "colab_type": "text"
      },
      "cell_type": "markdown",
      "source": [
        "### lambda function **중요!**"
      ]
    },
    {
      "metadata": {
        "id": "xw1ZrCOnPMYt",
        "colab_type": "code",
        "colab": {}
      },
      "cell_type": "code",
      "source": [
        "f = lambda x: x + 100"
      ],
      "execution_count": 0,
      "outputs": []
    },
    {
      "metadata": {
        "id": "aDzyBfo2PMYw",
        "colab_type": "code",
        "colab": {
          "base_uri": "https://localhost:8080/",
          "height": 71
        },
        "outputId": "fcec9354-b1c4-47ab-bc88-63cc8f889937"
      },
      "cell_type": "code",
      "source": [
        "for i in range(3):\n",
        "    print(f(i))"
      ],
      "execution_count": 22,
      "outputs": [
        {
          "output_type": "stream",
          "text": [
            "100\n",
            "101\n",
            "102\n"
          ],
          "name": "stdout"
        }
      ]
    },
    {
      "metadata": {
        "id": "89l7SzQtPMYz",
        "colab_type": "text"
      },
      "cell_type": "markdown",
      "source": [
        "> lambda 함수는 입력값(매개변수)를 반드시 사용할 필요 없음."
      ]
    },
    {
      "metadata": {
        "id": "X0k6dgyLPMY0",
        "colab_type": "code",
        "colab": {}
      },
      "cell_type": "code",
      "source": [
        "def print_hello():\n",
        "    print(\"Hello python!\")\n",
        "    \n",
        "def test_lambda(s, t):\n",
        "    print(\"input1 = \", s, \", input2 = \", t)\n",
        "    "
      ],
      "execution_count": 0,
      "outputs": []
    },
    {
      "metadata": {
        "id": "8a4LLcaaPMY2",
        "colab_type": "code",
        "colab": {}
      },
      "cell_type": "code",
      "source": [
        "s = 100\n",
        "t = 200\n",
        "fx = lambda x,y: test_lambda(s, t)  # fx(x,y) = test_lambda(s,t)\n",
        "fy = lambda x,y: print_hello()      # fy(x,y) = print_hello()"
      ],
      "execution_count": 0,
      "outputs": []
    },
    {
      "metadata": {
        "id": "lcWN7Za-PMY5",
        "colab_type": "code",
        "colab": {
          "base_uri": "https://localhost:8080/",
          "height": 53
        },
        "outputId": "22a4b6aa-743c-4faf-8c14-494cd3fcb672"
      },
      "cell_type": "code",
      "source": [
        "fx(500, 1000)  # lambda 함수는 입력값(매개변수)를 반드시 사용할 필요 없음.\n",
        "fy(300, 600)"
      ],
      "execution_count": 25,
      "outputs": [
        {
          "output_type": "stream",
          "text": [
            "input1 =  100 , input2 =  200\n",
            "Hello python!\n"
          ],
          "name": "stdout"
        }
      ]
    },
    {
      "metadata": {
        "id": "psFylblCPMY7",
        "colab_type": "text"
      },
      "cell_type": "markdown",
      "source": [
        "***"
      ]
    },
    {
      "metadata": {
        "id": "-mN-4dy9PMY8",
        "colab_type": "text"
      },
      "cell_type": "markdown",
      "source": [
        "### lambda 함수의 응용"
      ]
    },
    {
      "metadata": {
        "id": "jLrMgtMYPMY-",
        "colab_type": "code",
        "colab": {
          "base_uri": "https://localhost:8080/",
          "height": 107
        },
        "outputId": "2fdbfef8-191e-471f-97ea-05d8e68c2cf7"
      },
      "cell_type": "code",
      "source": [
        "# 정렬 순서 지정에 lambda식을 사용한다.\n",
        "tank_data = [(\"IV호 전차\", 38, 80, 75), (\"LT-38\", 42, 50, 37),\n",
        "             (\"89식 중전차\", 20, 17, 57), (\"III호 돌격포\", 40, 50, 75),\n",
        "             (\"M3 중전차\", 39, 51, 75)]  # list이지만 안에는 tuple\n",
        "# def evaluate_tankdata(tup):\n",
        "#     # 전차의 제원을 더해 반환하는 함수\n",
        "#     return tup[1]+tup[2]+tup[3]\n",
        "\n",
        "tank_data.sort(key=lambda tup: sum(tup[1:4]), reverse=True) # 성능이 좋은 순서대로 정렬하여 출력\n",
        "tank_data"
      ],
      "execution_count": 26,
      "outputs": [
        {
          "output_type": "execute_result",
          "data": {
            "text/plain": [
              "[('IV호 전차', 38, 80, 75),\n",
              " ('III호 돌격포', 40, 50, 75),\n",
              " ('M3 중전차', 39, 51, 75),\n",
              " ('LT-38', 42, 50, 37),\n",
              " ('89식 중전차', 20, 17, 57)]"
            ]
          },
          "metadata": {
            "tags": []
          },
          "execution_count": 26
        }
      ]
    },
    {
      "metadata": {
        "id": "tlm9FTfYPMZA",
        "colab_type": "code",
        "colab": {
          "base_uri": "https://localhost:8080/",
          "height": 107
        },
        "outputId": "87114c35-6b5f-4ce4-8588-f6953cafed76"
      },
      "cell_type": "code",
      "source": [
        "# sorted() 함수에 의한 바꾸기\n",
        "r = sorted(tank_data, key=lambda tup: sum(tup[1:4]), reverse=True)\n",
        "r"
      ],
      "execution_count": 27,
      "outputs": [
        {
          "output_type": "execute_result",
          "data": {
            "text/plain": [
              "[('IV호 전차', 38, 80, 75),\n",
              " ('III호 돌격포', 40, 50, 75),\n",
              " ('M3 중전차', 39, 51, 75),\n",
              " ('LT-38', 42, 50, 37),\n",
              " ('89식 중전차', 20, 17, 57)]"
            ]
          },
          "metadata": {
            "tags": []
          },
          "execution_count": 27
        }
      ]
    },
    {
      "metadata": {
        "id": "rw2zHyxbPMZF",
        "colab_type": "code",
        "colab": {
          "base_uri": "https://localhost:8080/",
          "height": 35
        },
        "outputId": "5842b853-f938-4119-c07a-b30ede2dcb64"
      },
      "cell_type": "code",
      "source": [
        "# 소수 찾기 함수를 하나의 행으로 정의\n",
        "primelist = lambda n : [x for x in range(2, n) if not 0 in map(lambda z : x % z, range(2,x))]\n",
        "# \n",
        "primelist(50)  # 30까지의 소수를 찾기"
      ],
      "execution_count": 28,
      "outputs": [
        {
          "output_type": "execute_result",
          "data": {
            "text/plain": [
              "[2, 3, 5, 7, 11, 13, 17, 19, 23, 29, 31, 37, 41, 43, 47]"
            ]
          },
          "metadata": {
            "tags": []
          },
          "execution_count": 28
        }
      ]
    },
    {
      "metadata": {
        "id": "tYyZn97FPMZI",
        "colab_type": "code",
        "colab": {
          "base_uri": "https://localhost:8080/",
          "height": 35
        },
        "outputId": "2a799254-7874-455b-bb46-de8030c67031"
      },
      "cell_type": "code",
      "source": [
        "x=9  # check when x = 4, 5, 6 \n",
        "map(lambda z : x % z, range(2,x))  # use list()"
      ],
      "execution_count": 33,
      "outputs": [
        {
          "output_type": "execute_result",
          "data": {
            "text/plain": [
              "<map at 0x7fc14940ed30>"
            ]
          },
          "metadata": {
            "tags": []
          },
          "execution_count": 33
        }
      ]
    },
    {
      "metadata": {
        "id": "HUrrQr6tPMZK",
        "colab_type": "code",
        "colab": {
          "base_uri": "https://localhost:8080/",
          "height": 35
        },
        "outputId": "481088ce-78c7-43ec-ec7f-9bc69fdbd74f"
      },
      "cell_type": "code",
      "source": [
        "list(map(lambda z : x % z, range(2,x)))"
      ],
      "execution_count": 34,
      "outputs": [
        {
          "output_type": "execute_result",
          "data": {
            "text/plain": [
              "[1, 0, 1, 4, 3, 2, 1]"
            ]
          },
          "metadata": {
            "tags": []
          },
          "execution_count": 34
        }
      ]
    },
    {
      "metadata": {
        "id": "TNZ2GQuMPMZO",
        "colab_type": "text"
      },
      "cell_type": "markdown",
      "source": [
        "> lambda식 \n",
        "\n",
        "- '식'은 줄 바꿈 없이 얼마든지 계속할 수 있다\n",
        "- 하지만 하나의 행이 너무 길면 읽기 어려워지므로 주의"
      ]
    },
    {
      "metadata": {
        "id": "DY6XufI_PMZP",
        "colab_type": "text"
      },
      "cell_type": "markdown",
      "source": [
        "## 내포 표기(Comprehension) (Ch.5-2)"
      ]
    },
    {
      "metadata": {
        "id": "GcbGJCS9PMZQ",
        "colab_type": "text"
      },
      "cell_type": "markdown",
      "source": [
        "### 리스트 내포 표기란?"
      ]
    },
    {
      "metadata": {
        "id": "UbVRuYaXPMZR",
        "colab_type": "code",
        "colab": {
          "base_uri": "https://localhost:8080/",
          "height": 35
        },
        "outputId": "fcb17e57-90ee-443e-ce29-fec229a80859"
      },
      "cell_type": "code",
      "source": [
        "# 리스트 내포 표기의 예\n",
        "monk_fish_team = [158, 157, 163, 157, 145]\n",
        "\n",
        "total = sum(monk_fish_team)    # 리스트의 합계\n",
        "length = len(monk_fish_team)   # 리스트의 요소 수(길이)\n",
        "mean = total/length            # 평균을 구함\n",
        "\n",
        "# variance = 0\n",
        "# for height in monk_fish_team:\n",
        "#     variance = variance+(height-mean)**2\n",
        "#\n",
        "# variance = variance/length\n",
        "\n",
        "# 리스트 내포 표기\n",
        "variance = sum([(h-mean)**2 for h in monk_fish_team])/length\n",
        "\n",
        "variance"
      ],
      "execution_count": 35,
      "outputs": [
        {
          "output_type": "execute_result",
          "data": {
            "text/plain": [
              "35.2"
            ]
          },
          "metadata": {
            "tags": []
          },
          "execution_count": 35
        }
      ]
    },
    {
      "metadata": {
        "id": "6Xqd3_bwPMZT",
        "colab_type": "code",
        "colab": {
          "base_uri": "https://localhost:8080/",
          "height": 35
        },
        "outputId": "d2ad4025-3061-4b79-b772-2469b210adf0"
      },
      "cell_type": "code",
      "source": [
        "variance = 0\n",
        "for height in monk_fish_team:\n",
        "    variance = variance+(height-mean)**2\n",
        "\n",
        "variance = variance/length\n",
        "variance"
      ],
      "execution_count": 36,
      "outputs": [
        {
          "output_type": "execute_result",
          "data": {
            "text/plain": [
              "35.2"
            ]
          },
          "metadata": {
            "tags": []
          },
          "execution_count": 36
        }
      ]
    },
    {
      "metadata": {
        "id": "NMJ6w__wPMZW",
        "colab_type": "text"
      },
      "cell_type": "markdown",
      "source": [
        "### 리스트 내포 표기의 상세 (details)"
      ]
    },
    {
      "metadata": {
        "id": "1_Mx2g7ePMZX",
        "colab_type": "code",
        "colab": {
          "base_uri": "https://localhost:8080/",
          "height": 35
        },
        "outputId": "3c606047-f640-4f64-e673-c2dccda77172"
      },
      "cell_type": "code",
      "source": [
        "# 리스트 내포표기가 돌려주는 리스트\n",
        "[(h-mean)**2 for h in monk_fish_team]"
      ],
      "execution_count": 37,
      "outputs": [
        {
          "output_type": "execute_result",
          "data": {
            "text/plain": [
              "[4.0, 1.0, 49.0, 1.0, 121.0]"
            ]
          },
          "metadata": {
            "tags": []
          },
          "execution_count": 37
        }
      ]
    },
    {
      "metadata": {
        "id": "gGBglVrDPMZZ",
        "colab_type": "code",
        "colab": {
          "base_uri": "https://localhost:8080/",
          "height": 35
        },
        "outputId": "e599bd2b-efb5-4221-8087-d845643ef592"
      },
      "cell_type": "code",
      "source": [
        "# 리스트 내포 표기로 바꾼 코드\n",
        "str_speeds = \"38 42 20 40 39\"\n",
        "speeds = [int(s) for s in str_speeds.split()]\n",
        "speeds"
      ],
      "execution_count": 38,
      "outputs": [
        {
          "output_type": "execute_result",
          "data": {
            "text/plain": [
              "[38, 42, 20, 40, 39]"
            ]
          },
          "metadata": {
            "tags": []
          },
          "execution_count": 38
        }
      ]
    },
    {
      "metadata": {
        "id": "7BlKk_21PMZa",
        "colab_type": "text"
      },
      "cell_type": "markdown",
      "source": [
        "### 리스트 내포 표기에서 이용하는 ‘if’"
      ]
    },
    {
      "metadata": {
        "id": "shMN9Rx4PMZb",
        "colab_type": "code",
        "colab": {
          "base_uri": "https://localhost:8080/",
          "height": 35
        },
        "outputId": "4e5b3ebc-65c5-4e97-a119-0158e6417f09"
      },
      "cell_type": "code",
      "source": [
        "# 숫자가 아닌 것을 걸러내서(배제해서) 리스트를 만드는 예\n",
        "str_speeds = \"38 42 20 40 a1 39 abc 49\"\n",
        "speeds = [int(s) for s in str_speeds.split()\n",
        "                              if s.isdigit()]\n",
        "speeds"
      ],
      "execution_count": 39,
      "outputs": [
        {
          "output_type": "execute_result",
          "data": {
            "text/plain": [
              "[38, 42, 20, 40, 39, 49]"
            ]
          },
          "metadata": {
            "tags": []
          },
          "execution_count": 39
        }
      ]
    },
    {
      "metadata": {
        "id": "MU_W28zkPMZd",
        "colab_type": "text"
      },
      "cell_type": "markdown",
      "source": [
        "### 딕셔너리 내포 표기"
      ]
    },
    {
      "metadata": {
        "id": "d6sfT035PMZd",
        "colab_type": "code",
        "colab": {
          "base_uri": "https://localhost:8080/",
          "height": 35
        },
        "outputId": "cedd6f25-d113-4242-86ff-8f63539fd42d"
      },
      "cell_type": "code",
      "source": [
        "# 구문 딕셔너리 내포 표기를 사용한다\n",
        "# 딕셔너리 내포 표기법을 사용하여 키와 값을 반전한 딕셔너리를 만듦\n",
        "# 시간대의 딕셔너리를 만듦\n",
        "tz = {\"GMT\":\"+000\", \"BST\":\"+100\",\n",
        "      \"EET\":\"+200\", \"KST\":\"+900\"}\n",
        "# 시간대와 시차를 반대로 한 딕셔너리를 만듦\n",
        "revtz = {off:zone for zone, off in tz.items()}  # 딕셔너리\n",
        "revtz"
      ],
      "execution_count": 40,
      "outputs": [
        {
          "output_type": "execute_result",
          "data": {
            "text/plain": [
              "{'+000': 'GMT', '+100': 'BST', '+200': 'EET', '+900': 'KST'}"
            ]
          },
          "metadata": {
            "tags": []
          },
          "execution_count": 40
        }
      ]
    },
    {
      "metadata": {
        "id": "jaZ4DHp4PMZf",
        "colab_type": "text"
      },
      "cell_type": "markdown",
      "source": [
        "### set 내포 표기"
      ]
    },
    {
      "metadata": {
        "id": "ihglINPpPMZg",
        "colab_type": "code",
        "colab": {
          "base_uri": "https://localhost:8080/",
          "height": 35
        },
        "outputId": "b119760e-0cc6-4d7c-be08-e36af5c87d50"
      },
      "cell_type": "code",
      "source": [
        "# set 내포 표기를 사용한다\n",
        "names = [\"BOB\", \"burton\", \"dave\", \"bob\"]  # 이름 리스트를 정의\n",
        "unames = {x.lower() for x in names}       # 이름을 소문자로 바꿔서 중복된 것 제거\n",
        "unames"
      ],
      "execution_count": 41,
      "outputs": [
        {
          "output_type": "execute_result",
          "data": {
            "text/plain": [
              "{'bob', 'burton', 'dave'}"
            ]
          },
          "metadata": {
            "tags": []
          },
          "execution_count": 41
        }
      ]
    },
    {
      "metadata": {
        "id": "Imx0HJorPMZh",
        "colab_type": "text"
      },
      "cell_type": "markdown",
      "source": [
        "## 이터레이터를 사용한다. (Ch.5-3)"
      ]
    },
    {
      "metadata": {
        "id": "RBVafmR7PMZh",
        "colab_type": "text"
      },
      "cell_type": "markdown",
      "source": [
        "### 이터레이터와 지연평가"
      ]
    },
    {
      "metadata": {
        "id": "dYt2en6iNek4",
        "colab_type": "code",
        "colab": {
          "resources": {
            "http://localhost:8080/nbextensions/google.colab/files.js": {
              "data": "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",
              "ok": true,
              "headers": [
                [
                  "content-type",
                  "application/javascript"
                ]
              ],
              "status": 200,
              "status_text": ""
            }
          },
          "base_uri": "https://localhost:8080/",
          "height": 94
        },
        "outputId": "5a4cf7e0-9095-408f-d403-fb02fc51c683"
      },
      "cell_type": "code",
      "source": [
        "from google.colab import files\n",
        "\n",
        "uploaded = files.upload()\n",
        "\n",
        "for fn in uploaded.keys():\n",
        "  print('User uploaded file \"{name}\" with length {length} bytes'.format(\n",
        "      name=fn, length=len(uploaded[fn])))"
      ],
      "execution_count": 42,
      "outputs": [
        {
          "output_type": "display_data",
          "data": {
            "text/html": [
              "\n",
              "     <input type=\"file\" id=\"files-e1062a7c-75bd-4f9f-af73-033029c4b7bb\" name=\"files[]\" multiple disabled />\n",
              "     <output id=\"result-e1062a7c-75bd-4f9f-af73-033029c4b7bb\">\n",
              "      Upload widget is only available when the cell has been executed in the\n",
              "      current browser session. Please rerun this cell to enable.\n",
              "      </output>\n",
              "      <script src=\"/nbextensions/google.colab/files.js\"></script> "
            ],
            "text/plain": [
              "<IPython.core.display.HTML object>"
            ]
          },
          "metadata": {
            "tags": []
          }
        },
        {
          "output_type": "stream",
          "text": [
            "Saving some.txt to some.txt\n",
            "User uploaded file \"some.txt\" with length 1541 bytes\n"
          ],
          "name": "stdout"
        }
      ]
    },
    {
      "metadata": {
        "id": "pmPJpFbTPMZi",
        "colab_type": "code",
        "colab": {
          "base_uri": "https://localhost:8080/",
          "height": 107
        },
        "outputId": "3ddac16d-77cc-4a7d-ef29-27baaf6448d3"
      },
      "cell_type": "code",
      "source": [
        "# read() 메쏘드로 파일 전체를 읽어 들인다\n",
        "# 파일에서 모두 읽어 들인 후 선두의 5행을 표시\n",
        "f = open('some.txt')           # フ파일 객체를 만듦\n",
        "body = f.read()                # 파일 전체를 읽어 들임\n",
        "lines = body.split('\\n')       # 파일을 줄 바꾸기(개행)로 분할\n",
        "print('\\n'.join(lines[:5]))    # 선두 5행을 표시"
      ],
      "execution_count": 43,
      "outputs": [
        {
          "output_type": "stream",
          "text": [
            "Some things in life are bad\n",
            "They can really make you mad\n",
            "Other things just make you swear and curse.\n",
            "When you're chewing on life's gristle\n",
            "Don't grumble, give a whistle\n"
          ],
          "name": "stdout"
        }
      ]
    },
    {
      "metadata": {
        "id": "8DH8NvUnPMZk",
        "colab_type": "code",
        "colab": {
          "base_uri": "https://localhost:8080/",
          "height": 55
        },
        "outputId": "910ae790-ae8b-4cdf-d6c5-8f60f6daefe3"
      },
      "cell_type": "code",
      "source": [
        "body"
      ],
      "execution_count": 44,
      "outputs": [
        {
          "output_type": "execute_result",
          "data": {
            "text/plain": [
              "\"Some things in life are bad\\nThey can really make you mad\\nOther things just make you swear and curse.\\nWhen you're chewing on life's gristle\\nDon't grumble, give a whistle\\nAnd this'll help things turn out for the best...\\n\\nAnd...always look on the bright side of life... \\nAlways look on the light side of life...\\n\\nIf life seems jolly rotten\\nThere's something you've forgotten\\nAnd that's to laugh and smile and dance and sing.\\nWhen you're feeling in the dumps\\nDon't be silly chumps\\nJust purse your lips and whistle - that's the thing.\\n\\nAnd...always look on the bright side of life... \\nAlways look on the light side of life...\\n\\nFor life is quite absurd\\nAnd death's the final word\\nYou must always face the curtain with a bow.\\nForget about your sin - give the audience a grin\\nEnjoy it - it's your last chance anyhow.\\n\\nSo always look on the bright side of death \\nJust before you draw your terminal breath\\n\\nLife's a piece of shit\\nWhen you look at it\\nLife's a laugh and death's a joke, it's true.\\nYou'll see it's all a show\\nKeep 'em laughing as you go\\nJust remember that the last laugh is on you.\\n\\nAnd always look on the bright side of life...\\nAlways look on the right side of life... \\n(Come on guys, cheer up!)\\nAlways look on the bright side of life...\\nAlways look on the bright side of life...\\n(Worse things happen at sea, you know.)\\nAlways look on the bright side of life...\\n(I mean - what have you got to lose?)\\n(You know, you come from nothing - you're going back to nothing.\\nWhat have you lost? Nothing!)\\nAlways look on the right side of life...\\n\""
            ]
          },
          "metadata": {
            "tags": []
          },
          "execution_count": 44
        }
      ]
    },
    {
      "metadata": {
        "id": "5BBWrLgSNtT4",
        "colab_type": "code",
        "colab": {
          "base_uri": "https://localhost:8080/",
          "height": 881
        },
        "outputId": "ebbd1a45-1444-440e-e7e2-af2f0e974809"
      },
      "cell_type": "code",
      "source": [
        "print(body)"
      ],
      "execution_count": 45,
      "outputs": [
        {
          "output_type": "stream",
          "text": [
            "Some things in life are bad\n",
            "They can really make you mad\n",
            "Other things just make you swear and curse.\n",
            "When you're chewing on life's gristle\n",
            "Don't grumble, give a whistle\n",
            "And this'll help things turn out for the best...\n",
            "\n",
            "And...always look on the bright side of life... \n",
            "Always look on the light side of life...\n",
            "\n",
            "If life seems jolly rotten\n",
            "There's something you've forgotten\n",
            "And that's to laugh and smile and dance and sing.\n",
            "When you're feeling in the dumps\n",
            "Don't be silly chumps\n",
            "Just purse your lips and whistle - that's the thing.\n",
            "\n",
            "And...always look on the bright side of life... \n",
            "Always look on the light side of life...\n",
            "\n",
            "For life is quite absurd\n",
            "And death's the final word\n",
            "You must always face the curtain with a bow.\n",
            "Forget about your sin - give the audience a grin\n",
            "Enjoy it - it's your last chance anyhow.\n",
            "\n",
            "So always look on the bright side of death \n",
            "Just before you draw your terminal breath\n",
            "\n",
            "Life's a piece of shit\n",
            "When you look at it\n",
            "Life's a laugh and death's a joke, it's true.\n",
            "You'll see it's all a show\n",
            "Keep 'em laughing as you go\n",
            "Just remember that the last laugh is on you.\n",
            "\n",
            "And always look on the bright side of life...\n",
            "Always look on the right side of life... \n",
            "(Come on guys, cheer up!)\n",
            "Always look on the bright side of life...\n",
            "Always look on the bright side of life...\n",
            "(Worse things happen at sea, you know.)\n",
            "Always look on the bright side of life...\n",
            "(I mean - what have you got to lose?)\n",
            "(You know, you come from nothing - you're going back to nothing.\n",
            "What have you lost? Nothing!)\n",
            "Always look on the right side of life...\n",
            "\n"
          ],
          "name": "stdout"
        }
      ]
    },
    {
      "metadata": {
        "id": "Pe-bRdcVPMZl",
        "colab_type": "code",
        "colab": {
          "base_uri": "https://localhost:8080/",
          "height": 125
        },
        "outputId": "7e876d25-041b-4b6d-ea86-719d06e33fb9"
      },
      "cell_type": "code",
      "source": [
        "# readline() 메쏘드로 1행씩 읽어 들인다\n",
        "# 루프 카운터를 사용하여 선두의 5행만 읽음\n",
        "f = open('some.txt')       # 파일 객체를 만듦\n",
        "lines = ''                 # 표시할 문자열을 초기화\n",
        "for i in range(5):         # 선두에서 5행 읽어 들임\n",
        "    lines += f.readline()\n",
        "print(lines)               # 선두 5행을 표시함"
      ],
      "execution_count": 46,
      "outputs": [
        {
          "output_type": "stream",
          "text": [
            "Some things in life are bad\n",
            "They can really make you mad\n",
            "Other things just make you swear and curse.\n",
            "When you're chewing on life's gristle\n",
            "Don't grumble, give a whistle\n",
            "\n"
          ],
          "name": "stdout"
        }
      ]
    },
    {
      "metadata": {
        "id": "H0pU3nnBPMZs",
        "colab_type": "code",
        "colab": {
          "base_uri": "https://localhost:8080/",
          "height": 107
        },
        "outputId": "f1f3a66c-252f-4eec-b658-3455badec953"
      },
      "cell_type": "code",
      "source": [
        "# 이터레이터를 사용한다\n",
        "# 파일 객체를 for문을 사용하여 5행만 읽음\n",
        "# 파일에서 한 줄씩 읽음\n",
        "for idx, line in enumerate(open('some.txt')):    # enumerate는 인덱스 값을 줌\n",
        "    print(line, end='')  # 행을 표시\n",
        "    if idx == 4:        # 5행을 표시하고서 루프를 빠져나감\n",
        "        break"
      ],
      "execution_count": 47,
      "outputs": [
        {
          "output_type": "stream",
          "text": [
            "Some things in life are bad\n",
            "They can really make you mad\n",
            "Other things just make you swear and curse.\n",
            "When you're chewing on life's gristle\n",
            "Don't grumble, give a whistle\n"
          ],
          "name": "stdout"
        }
      ]
    },
    {
      "metadata": {
        "id": "Z6whlvE7PMZu",
        "colab_type": "code",
        "colab": {
          "base_uri": "https://localhost:8080/",
          "height": 35
        },
        "outputId": "a3ae1e7e-a423-4465-a2f9-3b5a908fcad4"
      },
      "cell_type": "code",
      "source": [
        "enumerate(open('some.txt'))"
      ],
      "execution_count": 48,
      "outputs": [
        {
          "output_type": "execute_result",
          "data": {
            "text/plain": [
              "<enumerate at 0x7fc14941f360>"
            ]
          },
          "metadata": {
            "tags": []
          },
          "execution_count": 48
        }
      ]
    },
    {
      "metadata": {
        "id": "ksA1qZUiPMZx",
        "colab_type": "code",
        "colab": {
          "base_uri": "https://localhost:8080/",
          "height": 863
        },
        "outputId": "215afd7d-7a9e-41b1-fcb5-892f8faa3084"
      },
      "cell_type": "code",
      "source": [
        "list(enumerate(open('some.txt')))"
      ],
      "execution_count": 49,
      "outputs": [
        {
          "output_type": "execute_result",
          "data": {
            "text/plain": [
              "[(0, 'Some things in life are bad\\n'),\n",
              " (1, 'They can really make you mad\\n'),\n",
              " (2, 'Other things just make you swear and curse.\\n'),\n",
              " (3, \"When you're chewing on life's gristle\\n\"),\n",
              " (4, \"Don't grumble, give a whistle\\n\"),\n",
              " (5, \"And this'll help things turn out for the best...\\n\"),\n",
              " (6, '\\n'),\n",
              " (7, 'And...always look on the bright side of life... \\n'),\n",
              " (8, 'Always look on the light side of life...\\n'),\n",
              " (9, '\\n'),\n",
              " (10, 'If life seems jolly rotten\\n'),\n",
              " (11, \"There's something you've forgotten\\n\"),\n",
              " (12, \"And that's to laugh and smile and dance and sing.\\n\"),\n",
              " (13, \"When you're feeling in the dumps\\n\"),\n",
              " (14, \"Don't be silly chumps\\n\"),\n",
              " (15, \"Just purse your lips and whistle - that's the thing.\\n\"),\n",
              " (16, '\\n'),\n",
              " (17, 'And...always look on the bright side of life... \\n'),\n",
              " (18, 'Always look on the light side of life...\\n'),\n",
              " (19, '\\n'),\n",
              " (20, 'For life is quite absurd\\n'),\n",
              " (21, \"And death's the final word\\n\"),\n",
              " (22, 'You must always face the curtain with a bow.\\n'),\n",
              " (23, 'Forget about your sin - give the audience a grin\\n'),\n",
              " (24, \"Enjoy it - it's your last chance anyhow.\\n\"),\n",
              " (25, '\\n'),\n",
              " (26, 'So always look on the bright side of death \\n'),\n",
              " (27, 'Just before you draw your terminal breath\\n'),\n",
              " (28, '\\n'),\n",
              " (29, \"Life's a piece of shit\\n\"),\n",
              " (30, 'When you look at it\\n'),\n",
              " (31, \"Life's a laugh and death's a joke, it's true.\\n\"),\n",
              " (32, \"You'll see it's all a show\\n\"),\n",
              " (33, \"Keep 'em laughing as you go\\n\"),\n",
              " (34, 'Just remember that the last laugh is on you.\\n'),\n",
              " (35, '\\n'),\n",
              " (36, 'And always look on the bright side of life...\\n'),\n",
              " (37, 'Always look on the right side of life... \\n'),\n",
              " (38, '(Come on guys, cheer up!)\\n'),\n",
              " (39, 'Always look on the bright side of life...\\n'),\n",
              " (40, 'Always look on the bright side of life...\\n'),\n",
              " (41, '(Worse things happen at sea, you know.)\\n'),\n",
              " (42, 'Always look on the bright side of life...\\n'),\n",
              " (43, '(I mean - what have you got to lose?)\\n'),\n",
              " (44, \"(You know, you come from nothing - you're going back to nothing.\\n\"),\n",
              " (45, 'What have you lost? Nothing!)\\n'),\n",
              " (46, 'Always look on the right side of life...\\n')]"
            ]
          },
          "metadata": {
            "tags": []
          },
          "execution_count": 49
        }
      ]
    },
    {
      "metadata": {
        "id": "-wAafbNDPMZy",
        "colab_type": "text"
      },
      "cell_type": "markdown",
      "source": [
        "### Column : 파이썬 이터레이터 객체"
      ]
    },
    {
      "metadata": {
        "id": "JEwVNYJjPMZ0",
        "colab_type": "code",
        "colab": {
          "base_uri": "https://localhost:8080/",
          "height": 35
        },
        "outputId": "797977ab-9b24-462d-cb45-e495ce2b659a"
      },
      "cell_type": "code",
      "source": [
        "# iter()와 next() 함수의 예\n",
        "i = iter([1, 2])   # 리스트를 이터레이터 객체로 변환함\n",
        "next(i)   # 첫 요소를 추출"
      ],
      "execution_count": 50,
      "outputs": [
        {
          "output_type": "execute_result",
          "data": {
            "text/plain": [
              "1"
            ]
          },
          "metadata": {
            "tags": []
          },
          "execution_count": 50
        }
      ]
    },
    {
      "metadata": {
        "id": "L_xnG_3xPMZ1",
        "colab_type": "code",
        "colab": {
          "base_uri": "https://localhost:8080/",
          "height": 35
        },
        "outputId": "72731350-6257-48b1-e77e-84f300c0d034"
      },
      "cell_type": "code",
      "source": [
        "# 꺼낸 요소가 사라진 경우\n",
        "next(i)   # 다음의 요소를 추출"
      ],
      "execution_count": 51,
      "outputs": [
        {
          "output_type": "execute_result",
          "data": {
            "text/plain": [
              "2"
            ]
          },
          "metadata": {
            "tags": []
          },
          "execution_count": 51
        }
      ]
    },
    {
      "metadata": {
        "id": "bNFD4b2IPMZ4",
        "colab_type": "code",
        "colab": {
          "base_uri": "https://localhost:8080/",
          "height": 172
        },
        "outputId": "33419f4b-8a11-4e93-ff5c-e2c703f1696c"
      },
      "cell_type": "code",
      "source": [
        "next(i)   # 요소가 없어져서 StopIteration 오류가 발생"
      ],
      "execution_count": 52,
      "outputs": [
        {
          "output_type": "error",
          "ename": "StopIteration",
          "evalue": "ignored",
          "traceback": [
            "\u001b[0;31m---------------------------------------------------------------------------\u001b[0m",
            "\u001b[0;31mStopIteration\u001b[0m                             Traceback (most recent call last)",
            "\u001b[0;32m<ipython-input-52-18c7805ed977>\u001b[0m in \u001b[0;36m<module>\u001b[0;34m()\u001b[0m\n\u001b[0;32m----> 1\u001b[0;31m \u001b[0mnext\u001b[0m\u001b[0;34m(\u001b[0m\u001b[0mi\u001b[0m\u001b[0;34m)\u001b[0m   \u001b[0;31m# 요소가 없어져서 StopIteration 오류가 발생\u001b[0m\u001b[0;34m\u001b[0m\u001b[0m\n\u001b[0m",
            "\u001b[0;31mStopIteration\u001b[0m: "
          ]
        }
      ]
    },
    {
      "metadata": {
        "id": "OmLNe5X9PMZ5",
        "colab_type": "code",
        "colab": {
          "base_uri": "https://localhost:8080/",
          "height": 71
        },
        "outputId": "08060d55-2487-4dba-a850-20b843f0c38a"
      },
      "cell_type": "code",
      "source": [
        "# tuple 이터레이터\n",
        "mytuple = (\"apple\", \"banana\", \"cherry\")\n",
        "myit = iter(mytuple)   # mytuple을 이터레이터 구조로 변경\n",
        "\n",
        "print(next(myit))\n",
        "print(next(myit))\n",
        "print(next(myit))"
      ],
      "execution_count": 53,
      "outputs": [
        {
          "output_type": "stream",
          "text": [
            "apple\n",
            "banana\n",
            "cherry\n"
          ],
          "name": "stdout"
        }
      ]
    },
    {
      "metadata": {
        "id": "NMLk5l1xPMZ7",
        "colab_type": "code",
        "colab": {
          "base_uri": "https://localhost:8080/",
          "height": 125
        },
        "outputId": "ed5f8c99-3c38-43c3-b84b-6b161ad5398b"
      },
      "cell_type": "code",
      "source": [
        "# string 이터레이터\n",
        "mystr = \"banana\"\n",
        "myit = iter(mystr)\n",
        "\n",
        "print(next(myit))\n",
        "print(next(myit))\n",
        "print(next(myit))\n",
        "print(next(myit))\n",
        "print(next(myit))\n",
        "print(next(myit))"
      ],
      "execution_count": 54,
      "outputs": [
        {
          "output_type": "stream",
          "text": [
            "b\n",
            "a\n",
            "n\n",
            "a\n",
            "n\n",
            "a\n"
          ],
          "name": "stdout"
        }
      ]
    },
    {
      "metadata": {
        "id": "KKbfPPpMPMZ9",
        "colab_type": "code",
        "colab": {
          "base_uri": "https://localhost:8080/",
          "height": 71
        },
        "outputId": "9e53f16b-2d07-4639-ebdb-576464984962"
      },
      "cell_type": "code",
      "source": [
        "# loop through iterater \n",
        "mytuple = (\"apple\", \"banana\", \"cherry\")\n",
        "\n",
        "for x in mytuple:\n",
        "  print(x)"
      ],
      "execution_count": 55,
      "outputs": [
        {
          "output_type": "stream",
          "text": [
            "apple\n",
            "banana\n",
            "cherry\n"
          ],
          "name": "stdout"
        }
      ]
    },
    {
      "metadata": {
        "id": "K2nb9o4zPMZ-",
        "colab_type": "code",
        "colab": {
          "base_uri": "https://localhost:8080/",
          "height": 125
        },
        "outputId": "b02e45d0-c8e9-4605-cb1c-73f05eeb6067"
      },
      "cell_type": "code",
      "source": [
        "mystr = \"banana\"\n",
        "\n",
        "for x in mystr:\n",
        "  print(x)"
      ],
      "execution_count": 56,
      "outputs": [
        {
          "output_type": "stream",
          "text": [
            "b\n",
            "a\n",
            "n\n",
            "a\n",
            "n\n",
            "a\n"
          ],
          "name": "stdout"
        }
      ]
    },
    {
      "metadata": {
        "id": "dbzoIEC8PMaA",
        "colab_type": "text"
      },
      "cell_type": "markdown",
      "source": [
        "## 생성자를 사용한다. (Ch.5-4)"
      ]
    },
    {
      "metadata": {
        "id": "FPhPtLsqPMaB",
        "colab_type": "text"
      },
      "cell_type": "markdown",
      "source": [
        "### 생성자 함수를 정의한다"
      ]
    },
    {
      "metadata": {
        "id": "jBlkEkk0PMaC",
        "colab_type": "code",
        "colab": {}
      },
      "cell_type": "code",
      "source": [
        "# 소수를 돌려주는 생성자 함수의 정의\n",
        "def get_primes(x=2):\n",
        "    while True:\n",
        "        for i in range(2, x):\n",
        "            if x%i == 0: # 나누어지는 수를 찾음\n",
        "                break\n",
        "        else:\n",
        "            yield x      # 소수가 찾아지면 yield로 돌려줌\n",
        "        x += 1           # 수치를 증가"
      ],
      "execution_count": 0,
      "outputs": []
    },
    {
      "metadata": {
        "id": "2NjKL6ylPMaF",
        "colab_type": "code",
        "colab": {}
      },
      "cell_type": "code",
      "source": [
        "# 생성자 함수의 실행\n",
        "i = get_primes()       # 생성자 함수로부터 이터레이터를 취득\n",
        "for c in range(10):    # 소수를 10개 표시\n",
        "    print(next(i))"
      ],
      "execution_count": 0,
      "outputs": []
    },
    {
      "metadata": {
        "id": "y-W7_8K3PMaH",
        "colab_type": "code",
        "colab": {}
      },
      "cell_type": "code",
      "source": [
        "i"
      ],
      "execution_count": 0,
      "outputs": []
    },
    {
      "metadata": {
        "id": "JpqIfYtqPMaK",
        "colab_type": "code",
        "colab": {}
      },
      "cell_type": "code",
      "source": [
        "range(2,3)  # What are in this?"
      ],
      "execution_count": 0,
      "outputs": []
    },
    {
      "metadata": {
        "id": "3xFENArxPMaN",
        "colab_type": "code",
        "colab": {}
      },
      "cell_type": "code",
      "source": [
        "list(range(2,3))"
      ],
      "execution_count": 0,
      "outputs": []
    },
    {
      "metadata": {
        "id": "rdJrYFkTPMaN",
        "colab_type": "text"
      },
      "cell_type": "markdown",
      "source": [
        "### 생성자 표현식(generator expression)"
      ]
    },
    {
      "metadata": {
        "id": "vUSy3Iv2PMaP",
        "colab_type": "code",
        "colab": {}
      },
      "cell_type": "code",
      "source": [
        "# 리스트 내포 표기의 예\n",
        "# 리스트 내포 표기는 요소가 완벽하게 갖추어 진 리스트를 반환\n",
        "[x**2 for x in range(1, 10)]   # 1에서 9까지의 제곱 리스트"
      ],
      "execution_count": 0,
      "outputs": []
    },
    {
      "metadata": {
        "id": "roMS1mcVPMaR",
        "colab_type": "code",
        "colab": {}
      },
      "cell_type": "code",
      "source": [
        "# 생성자식의 예\n",
        "# 생성자식은 이터레이터를 반환\n",
        "i = (x**2 for x in range(1, 10))\n",
        "print(next(i))\n",
        "print(next(i))\n",
        "print(next(i))"
      ],
      "execution_count": 0,
      "outputs": []
    },
    {
      "metadata": {
        "id": "Z2U7BMEcPMaU",
        "colab_type": "code",
        "colab": {}
      },
      "cell_type": "code",
      "source": [
        "i = (x**2 for x in range(1, 10))\n",
        "i"
      ],
      "execution_count": 0,
      "outputs": []
    },
    {
      "metadata": {
        "id": "sHGUkBI0PMaW",
        "colab_type": "code",
        "colab": {}
      },
      "cell_type": "code",
      "source": [
        "list(i)"
      ],
      "execution_count": 0,
      "outputs": []
    },
    {
      "metadata": {
        "id": "K-Q_dreFPMaa",
        "colab_type": "text"
      },
      "cell_type": "markdown",
      "source": [
        "***"
      ]
    },
    {
      "metadata": {
        "id": "YCz2wr0fPMaa",
        "colab_type": "text"
      },
      "cell_type": "markdown",
      "source": [
        "> 여기까지 중간고사 필기 범위.  미래를 위해 시간과 노력을 투자하세요!"
      ]
    },
    {
      "metadata": {
        "id": "bVgDBP31PMab",
        "colab_type": "text"
      },
      "cell_type": "markdown",
      "source": [
        "***"
      ]
    },
    {
      "metadata": {
        "id": "SDyrwxv9PMab",
        "colab_type": "text"
      },
      "cell_type": "markdown",
      "source": [
        "## 고차 함수와 데코레이터. (Ch.5-5)"
      ]
    },
    {
      "metadata": {
        "id": "xhRX41s0PMad",
        "colab_type": "text"
      },
      "cell_type": "markdown",
      "source": [
        "### 고차 함수(higher-order functions)란?"
      ]
    },
    {
      "metadata": {
        "id": "GpT34w9tPMad",
        "colab_type": "code",
        "colab": {}
      },
      "cell_type": "code",
      "source": [
        "# 함수를 받아서 실행하는 함수를 정의한다\n",
        "def execute(func, arg):\n",
        "    return func(arg)        # 인수로 받은 함수를 실행함\n",
        "\n",
        "print(execute(int, \"100\"))  # 함수를 인수로 전달하여 실행"
      ],
      "execution_count": 0,
      "outputs": []
    },
    {
      "metadata": {
        "id": "ZnHLqHIWzo1_",
        "colab_type": "text"
      },
      "cell_type": "markdown",
      "source": [
        "### 함수로 인수 리스트를 받기"
      ]
    },
    {
      "metadata": {
        "id": "QOBrXdIkzo1_",
        "colab_type": "code",
        "colab": {}
      },
      "cell_type": "code",
      "source": [
        "# 함수로 인수 리스트를 받기\n",
        "def foo(a, b, *vals):   # *인수를 갖는 함수를 정의\n",
        "    print(a, b, vals)\n",
        "foo(1, 2, 3, 4, 5)      # 5개의 값을 인수로 지정하여 호출"
      ],
      "execution_count": 0,
      "outputs": []
    },
    {
      "metadata": {
        "id": "gTIF5d1Hzo2C",
        "colab_type": "text"
      },
      "cell_type": "markdown",
      "source": [
        "### 함수로 키워드 인수 받기"
      ]
    },
    {
      "metadata": {
        "id": "LyPvlT28zo2C",
        "colab_type": "code",
        "colab": {}
      },
      "cell_type": "code",
      "source": [
        "# 정의되지 않은 키워드 인수\n",
        "def bar(a, b, **args):    # **인수를 갖는 함수를 정의\n",
        "    print(a, b, args)\n",
        "\n",
        "bar(1, 2, c=3, d=4)       # 정의하지 않은 키워드 인수를 정의"
      ],
      "execution_count": 0,
      "outputs": []
    },
    {
      "metadata": {
        "id": "oD0p7rasPMai",
        "colab_type": "code",
        "colab": {}
      },
      "cell_type": "code",
      "source": [
        "# 함수를 받아 실행하는 함수를 정의한다\n",
        "def logger(func):\n",
        "    def inner(*args):\n",
        "        print(\"인수:\", args)  # 인수 리스트를 표시\n",
        "        return func(*args)   # 함수를 호출함\n",
        "    return inner"
      ],
      "execution_count": 0,
      "outputs": []
    },
    {
      "metadata": {
        "id": "8mfQ0ztlPMai",
        "colab_type": "code",
        "colab": {}
      },
      "cell_type": "code",
      "source": [
        "# 2개의 값을 더하는 함수를 정의한다\n",
        "def accumulate(a, b):\n",
        "    return a+b\n",
        "\n",
        "print(accumulate(1, 2))   # 함수를 호출함"
      ],
      "execution_count": 0,
      "outputs": []
    },
    {
      "metadata": {
        "id": "FUKC6UoYPMaj",
        "colab_type": "code",
        "colab": {}
      },
      "cell_type": "code",
      "source": [
        "# logger를 사용해서 accumulate를 변환\n",
        "newfunc = logger(accumulate)\n",
        "print(newfunc(1, 2))      # 고차 함수로 만든 함수를 호출"
      ],
      "execution_count": 0,
      "outputs": []
    },
    {
      "metadata": {
        "id": "ZrlvfQrPPMal",
        "colab_type": "text"
      },
      "cell_type": "markdown",
      "source": [
        "### 데코레이터(decorator)"
      ]
    },
    {
      "metadata": {
        "id": "ESW6yK_QPMal",
        "colab_type": "code",
        "colab": {}
      },
      "cell_type": "code",
      "source": [
        "# 데코레이터에 따른 지정 예\n",
        "# 고차 함수와 데코레이터를 결합\n",
        "@logger\n",
        "def accumulate(a, b):\n",
        "    return a+b"
      ],
      "execution_count": 0,
      "outputs": []
    },
    {
      "metadata": {
        "id": "Quy6ArNOPMam",
        "colab_type": "code",
        "colab": {}
      },
      "cell_type": "code",
      "source": [
        "# accumulate() 함수의 실행\n",
        "print(accumulate(1, 2))"
      ],
      "execution_count": 0,
      "outputs": []
    },
    {
      "metadata": {
        "id": "PHvx7apqPMap",
        "colab_type": "code",
        "colab": {}
      },
      "cell_type": "code",
      "source": [
        "# %%time    # 실행 시간을 측정\n",
        "# lru_cache함수를 데코레이터로 사용한다\n",
        "# functools의 lru_cache를 사용\n",
        "\n",
        "# lru_cache을 사용하여 피보나치 수를 계산하는 함수\n",
        "from functools import lru_cache\n",
        "@lru_cache(maxsize=None)\n",
        "def fib(n):\n",
        "    if n < 2:\n",
        "        return n\n",
        "    return fib(n-1) + fib(n-2)"
      ],
      "execution_count": 0,
      "outputs": []
    },
    {
      "metadata": {
        "id": "MOqnIN4sPMaq",
        "colab_type": "code",
        "colab": {}
      },
      "cell_type": "code",
      "source": [
        "# 피보나치 수의 표시\n",
        "# 실행 시간을 측정\n",
        "%time [fib(n) for n in range(16)]"
      ],
      "execution_count": 0,
      "outputs": []
    },
    {
      "metadata": {
        "id": "QdCd9WY8PMar",
        "colab_type": "code",
        "colab": {}
      },
      "cell_type": "code",
      "source": [
        "# %%time    # 실행 시간을 측정\n",
        "#  lru_cache를 사용하지 않고 피보나치 수를 계산하는 함수\n",
        "def fib_nc(n):\n",
        "    if n < 2:\n",
        "        return n\n",
        "    return fib_nc(n-1) + fib_nc(n-2)"
      ],
      "execution_count": 0,
      "outputs": []
    },
    {
      "metadata": {
        "id": "Lw8ez2KfPMat",
        "colab_type": "code",
        "colab": {}
      },
      "cell_type": "code",
      "source": [
        "# 피보나치 수의 표시\n",
        "# 실행 시간을 측정\n",
        "%time [fib_nc(n) for n in range(16)]"
      ],
      "execution_count": 0,
      "outputs": []
    },
    {
      "metadata": {
        "id": "s22774r1PMav",
        "colab_type": "code",
        "colab": {}
      },
      "cell_type": "code",
      "source": [
        ""
      ],
      "execution_count": 0,
      "outputs": []
    }
  ]
}