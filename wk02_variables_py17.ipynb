{
  "nbformat": 4,
  "nbformat_minor": 0,
  "metadata": {
    "colab": {
      "name": "wk02_variables.ipynb의 사본",
      "version": "0.3.2",
      "provenance": [],
      "include_colab_link": true
    },
    "kernelspec": {
      "name": "python3",
      "display_name": "Python 3"
    }
  },
  "cells": [
    {
      "cell_type": "markdown",
      "metadata": {
        "id": "view-in-github",
        "colab_type": "text"
      },
      "source": [
        "[View in Colaboratory](https://colab.research.google.com/github/Seolyeong/py17/blob/master/wk02_variables_py17.ipynb)"
      ]
    },
    {
      "metadata": {
        "id": "EzIxff-R71d5",
        "colab_type": "toc"
      },
      "cell_type": "markdown",
      "source": [
        ">[변수 (variables)](#updateTitle=true&folderId=1kIAJLHdd3Cz4F7rN3epUcAuBj2BeNmo7&scrollTo=-HgD0ExHqbdB)\n",
        "\n",
        ">[동적 변수 (dynamic typing)](#updateTitle=true&folderId=1kIAJLHdd3Cz4F7rN3epUcAuBj2BeNmo7&scrollTo=_tHg6Gp9sDzR)\n",
        "\n",
        ">[문자열](#updateTitle=true&folderId=1kIAJLHdd3Cz4F7rN3epUcAuBj2BeNmo7&scrollTo=g0_wm6SqssEh)\n",
        "\n",
        ">[여러 행 문자열(\"\"\"\"~~\"\"\"\")](#updateTitle=true&folderId=1kIAJLHdd3Cz4F7rN3epUcAuBj2BeNmo7&scrollTo=sz2dc2nUtbkB)\n",
        "\n",
        ">[숫자 처리](#updateTitle=true&folderId=1kIAJLHdd3Cz4F7rN3epUcAuBj2BeNmo7&scrollTo=6cwjPAkJuCE5)\n",
        "\n",
        ">[숫자와 문자열 처리](#updateTitle=true&folderId=1kIAJLHdd3Cz4F7rN3epUcAuBj2BeNmo7&scrollTo=rdD6pDCDuT_c)\n",
        "\n",
        ">[변수 type](#updateTitle=true&folderId=1kIAJLHdd3Cz4F7rN3epUcAuBj2BeNmo7&scrollTo=IDY8jGkOvUn4)\n",
        "\n",
        ">[문자열을 숫자로 변환: int(),float()](#updateTitle=true&folderId=1kIAJLHdd3Cz4F7rN3epUcAuBj2BeNmo7&scrollTo=xSbOnMBIwnwB)\n",
        "\n",
        ">[예약어 (keywords)](#updateTitle=true&folderId=1kIAJLHdd3Cz4F7rN3epUcAuBj2BeNmo7&scrollTo=NW1vOG4ixczR)\n",
        "\n",
        ">[User input](#updateTitle=true&folderId=1kIAJLHdd3Cz4F7rN3epUcAuBj2BeNmo7&scrollTo=M6M4QW-B1wwJ)\n",
        "\n",
        ">[Code block & Indentation(들여쓰기)](#updateTitle=true&folderId=1kIAJLHdd3Cz4F7rN3epUcAuBj2BeNmo7&scrollTo=eFKr8r022AJB)\n",
        "\n",
        ">[Indentation error](#updateTitle=true&folderId=1kIAJLHdd3Cz4F7rN3epUcAuBj2BeNmo7&scrollTo=hDhKOuN63HeR)\n",
        "\n",
        ">[도전 코딩1. BMI = M/H**/2, M(kg),H(m)](#updateTitle=true&folderId=1kIAJLHdd3Cz4F7rN3epUcAuBj2BeNmo7&scrollTo=2Dbim0tM3hHQ)\n",
        "\n",
        ">[도전 코딩2. Burning fat by jogging](#updateTitle=true&folderId=1kIAJLHdd3Cz4F7rN3epUcAuBj2BeNmo7&scrollTo=5Y-9yjB85OPR)\n",
        "\n"
      ]
    },
    {
      "metadata": {
        "id": "-HgD0ExHqbdB",
        "colab_type": "text"
      },
      "cell_type": "markdown",
      "source": [
        "# 변수 (variables)"
      ]
    },
    {
      "metadata": {
        "id": "UCdeRY5WqKFq",
        "colab_type": "code",
        "colab": {
          "base_uri": "https://localhost:8080/",
          "height": 35
        },
        "outputId": "df2c51e2-6a1f-4638-dd28-6553e7f48b11"
      },
      "cell_type": "code",
      "source": [
        "5-5+1+9"
      ],
      "execution_count": 0,
      "outputs": [
        {
          "output_type": "execute_result",
          "data": {
            "text/plain": [
              "10"
            ]
          },
          "metadata": {
            "tags": []
          },
          "execution_count": 1
        }
      ]
    },
    {
      "metadata": {
        "id": "mkP7mfpDqyqI",
        "colab_type": "code",
        "colab": {
          "base_uri": "https://localhost:8080/",
          "height": 35
        },
        "outputId": "1b520f82-36d1-44be-98e6-4a6ebd4383f1"
      },
      "cell_type": "code",
      "source": [
        "5/5/3+9"
      ],
      "execution_count": 0,
      "outputs": [
        {
          "output_type": "execute_result",
          "data": {
            "text/plain": [
              "9.333333333333334"
            ]
          },
          "metadata": {
            "tags": []
          },
          "execution_count": 2
        }
      ]
    },
    {
      "metadata": {
        "id": "OFIMUzKrrDoC",
        "colab_type": "code",
        "colab": {
          "base_uri": "https://localhost:8080/",
          "height": 35
        },
        "outputId": "6653e4fc-c3e0-416d-9c03-46cc4f5feccb"
      },
      "cell_type": "code",
      "source": [
        "5/(5/3)+9"
      ],
      "execution_count": 0,
      "outputs": [
        {
          "output_type": "execute_result",
          "data": {
            "text/plain": [
              "12.0"
            ]
          },
          "metadata": {
            "tags": []
          },
          "execution_count": 4
        }
      ]
    },
    {
      "metadata": {
        "id": "NlEHRFFFrPQb",
        "colab_type": "code",
        "colab": {
          "base_uri": "https://localhost:8080/",
          "height": 35
        },
        "outputId": "da2492e6-db9c-48f7-dcc2-9ae52243a0bc"
      },
      "cell_type": "code",
      "source": [
        "5/5*1+9"
      ],
      "execution_count": 0,
      "outputs": [
        {
          "output_type": "execute_result",
          "data": {
            "text/plain": [
              "10.0"
            ]
          },
          "metadata": {
            "tags": []
          },
          "execution_count": 5
        }
      ]
    },
    {
      "metadata": {
        "id": "yO5uiuXrrdXI",
        "colab_type": "code",
        "colab": {
          "base_uri": "https://localhost:8080/",
          "height": 35
        },
        "outputId": "8b43fda1-c32e-4834-a813-b7efcda237ab"
      },
      "cell_type": "code",
      "source": [
        "5/5*(1+9)"
      ],
      "execution_count": 0,
      "outputs": [
        {
          "output_type": "execute_result",
          "data": {
            "text/plain": [
              "10.0"
            ]
          },
          "metadata": {
            "tags": []
          },
          "execution_count": 6
        }
      ]
    },
    {
      "metadata": {
        "id": "_tHg6Gp9sDzR",
        "colab_type": "text"
      },
      "cell_type": "markdown",
      "source": [
        "# 동적 변수 (dynamic typing)"
      ]
    },
    {
      "metadata": {
        "id": "v_WSVNf8sVGJ",
        "colab_type": "code",
        "colab": {}
      },
      "cell_type": "code",
      "source": [
        "some_var=100"
      ],
      "execution_count": 0,
      "outputs": []
    },
    {
      "metadata": {
        "id": "VCUXuTLdrkky",
        "colab_type": "code",
        "colab": {}
      },
      "cell_type": "code",
      "source": [
        "some_var='강남스타일'"
      ],
      "execution_count": 0,
      "outputs": []
    },
    {
      "metadata": {
        "id": "pullgTnXsgiC",
        "colab_type": "code",
        "colab": {
          "base_uri": "https://localhost:8080/",
          "height": 35
        },
        "outputId": "7dcf5c88-043f-42b0-e78a-4d5c02ad756c"
      },
      "cell_type": "code",
      "source": [
        "some_var"
      ],
      "execution_count": 0,
      "outputs": [
        {
          "output_type": "execute_result",
          "data": {
            "text/plain": [
              "'강남스타일'"
            ]
          },
          "metadata": {
            "tags": []
          },
          "execution_count": 9
        }
      ]
    },
    {
      "metadata": {
        "id": "g0_wm6SqssEh",
        "colab_type": "text"
      },
      "cell_type": "markdown",
      "source": [
        "# 문자열"
      ]
    },
    {
      "metadata": {
        "id": "abyEn4pEsirr",
        "colab_type": "code",
        "colab": {}
      },
      "cell_type": "code",
      "source": [
        "psy = '오빤 강남스타일 '"
      ],
      "execution_count": 0,
      "outputs": []
    },
    {
      "metadata": {
        "id": "Rvzp3MOfs67X",
        "colab_type": "code",
        "colab": {
          "base_uri": "https://localhost:8080/",
          "height": 35
        },
        "outputId": "46d83164-7302-4b10-fc6d-d111e5742361"
      },
      "cell_type": "code",
      "source": [
        "psy = '오빤 강남스타일 '\n",
        "psy = psy+'오, 강남스타일'\n",
        "psy"
      ],
      "execution_count": 0,
      "outputs": [
        {
          "output_type": "execute_result",
          "data": {
            "text/plain": [
              "'오빤 강남스타일 오, 강남스타일'"
            ]
          },
          "metadata": {
            "tags": []
          },
          "execution_count": 13
        }
      ]
    },
    {
      "metadata": {
        "id": "sz2dc2nUtbkB",
        "colab_type": "text"
      },
      "cell_type": "markdown",
      "source": [
        "# 여러 행 문자열(\"\"\"\"~~\"\"\"\")"
      ]
    },
    {
      "metadata": {
        "id": "JcZRNrLvtLEb",
        "colab_type": "code",
        "colab": {
          "base_uri": "https://localhost:8080/",
          "height": 35
        },
        "outputId": "fbe4f6c5-34f4-4bed-80fa-7262720129ac"
      },
      "cell_type": "code",
      "source": [
        "psy = \"\"\"낮에는 따사로운 인간적인 여자\n",
        "커피 한잔의 여유를 아는 품격있는 여자\n",
        "밤이 오면 심장이 뜨거워지는 여자\"\"\"\n",
        "psy"
      ],
      "execution_count": 0,
      "outputs": [
        {
          "output_type": "execute_result",
          "data": {
            "text/plain": [
              "'낮에는 따사로운 인간적인 여자\\n커피 한잔의 여유를 아는 품격있는 여자\\n밤이 오면 심장이 뜨거워지는 여자'"
            ]
          },
          "metadata": {
            "tags": []
          },
          "execution_count": 14
        }
      ]
    },
    {
      "metadata": {
        "id": "r5HpnRNTt6lS",
        "colab_type": "code",
        "colab": {
          "base_uri": "https://localhost:8080/",
          "height": 71
        },
        "outputId": "00a0a56c-905e-419b-c164-5db42779f085"
      },
      "cell_type": "code",
      "source": [
        "print(psy)"
      ],
      "execution_count": 0,
      "outputs": [
        {
          "output_type": "stream",
          "text": [
            "낮에는 따사로운 인간적인 여자\n",
            "커피 한잔의 여유를 아는 품격있는 여자\n",
            "밤이 오면 심장이 뜨거워지는 여자\n"
          ],
          "name": "stdout"
        }
      ]
    },
    {
      "metadata": {
        "id": "6cwjPAkJuCE5",
        "colab_type": "text"
      },
      "cell_type": "markdown",
      "source": [
        "# 숫자 처리"
      ]
    },
    {
      "metadata": {
        "id": "6IGhxAcFt_u1",
        "colab_type": "code",
        "colab": {
          "base_uri": "https://localhost:8080/",
          "height": 35
        },
        "outputId": "afd25f4d-4839-4336-f09a-30e5afb986eb"
      },
      "cell_type": "code",
      "source": [
        "sum = 10+20+\\\n",
        "30+40\n",
        "sum"
      ],
      "execution_count": 0,
      "outputs": [
        {
          "output_type": "execute_result",
          "data": {
            "text/plain": [
              "100"
            ]
          },
          "metadata": {
            "tags": []
          },
          "execution_count": 16
        }
      ]
    },
    {
      "metadata": {
        "id": "rdD6pDCDuT_c",
        "colab_type": "text"
      },
      "cell_type": "markdown",
      "source": [
        "# 숫자와 문자열 처리"
      ]
    },
    {
      "metadata": {
        "id": "czpgeAvcuSbZ",
        "colab_type": "code",
        "colab": {
          "base_uri": "https://localhost:8080/",
          "height": 208
        },
        "outputId": "7bff4e12-0474-4882-ef83-f0e40ee14fb7"
      },
      "cell_type": "code",
      "source": [
        "day=3\n",
        "date= day+'일'    #정수와 문자열을 더할수 없다.\n",
        "print(date)"
      ],
      "execution_count": 0,
      "outputs": [
        {
          "output_type": "error",
          "ename": "TypeError",
          "evalue": "ignored",
          "traceback": [
            "\u001b[0;31m---------------------------------------------------------------------------\u001b[0m",
            "\u001b[0;31mTypeError\u001b[0m                                 Traceback (most recent call last)",
            "\u001b[0;32m<ipython-input-17-ac3be0b17920>\u001b[0m in \u001b[0;36m<module>\u001b[0;34m()\u001b[0m\n\u001b[1;32m      1\u001b[0m \u001b[0mday\u001b[0m\u001b[0;34m=\u001b[0m\u001b[0;36m3\u001b[0m\u001b[0;34m\u001b[0m\u001b[0m\n\u001b[0;32m----> 2\u001b[0;31m \u001b[0mdate\u001b[0m\u001b[0;34m=\u001b[0m \u001b[0mday\u001b[0m\u001b[0;34m+\u001b[0m\u001b[0;34m'일'\u001b[0m    \u001b[0;31m#정수와 문자열을 더할수 없다.\u001b[0m\u001b[0;34m\u001b[0m\u001b[0m\n\u001b[0m\u001b[1;32m      3\u001b[0m \u001b[0mprint\u001b[0m\u001b[0;34m(\u001b[0m\u001b[0mdate\u001b[0m\u001b[0;34m)\u001b[0m\u001b[0;34m\u001b[0m\u001b[0m\n",
            "\u001b[0;31mTypeError\u001b[0m: unsupported operand type(s) for +: 'int' and 'str'"
          ]
        }
      ]
    },
    {
      "metadata": {
        "id": "8bBoHJoruvIr",
        "colab_type": "code",
        "colab": {
          "base_uri": "https://localhost:8080/",
          "height": 35
        },
        "outputId": "fcbd2d9e-f58a-491d-e57f-e592229ed83f"
      },
      "cell_type": "code",
      "source": [
        "date = str(day)+' 일'\n",
        "print(date)"
      ],
      "execution_count": 0,
      "outputs": [
        {
          "output_type": "stream",
          "text": [
            "3 일\n"
          ],
          "name": "stdout"
        }
      ]
    },
    {
      "metadata": {
        "id": "rRVCyTFRu3uo",
        "colab_type": "code",
        "colab": {
          "base_uri": "https://localhost:8080/",
          "height": 35
        },
        "outputId": "d95b1806-6466-497a-e623-f0c5b1590c16"
      },
      "cell_type": "code",
      "source": [
        "day=3\n",
        "str_day=str(day)\n",
        "date = str_day+' 일'\n",
        "print(date)"
      ],
      "execution_count": 0,
      "outputs": [
        {
          "output_type": "stream",
          "text": [
            "3 일\n"
          ],
          "name": "stdout"
        }
      ]
    },
    {
      "metadata": {
        "id": "IDY8jGkOvUn4",
        "colab_type": "text"
      },
      "cell_type": "markdown",
      "source": [
        "# 변수 type"
      ]
    },
    {
      "metadata": {
        "id": "zc3ocRFqvOgw",
        "colab_type": "code",
        "colab": {
          "base_uri": "https://localhost:8080/",
          "height": 35
        },
        "outputId": "9be62b0f-06f3-4090-c954-8a907396c4f6"
      },
      "cell_type": "code",
      "source": [
        "# 변수 type\n",
        "type(day)"
      ],
      "execution_count": 0,
      "outputs": [
        {
          "output_type": "execute_result",
          "data": {
            "text/plain": [
              "int"
            ]
          },
          "metadata": {
            "tags": []
          },
          "execution_count": 20
        }
      ]
    },
    {
      "metadata": {
        "id": "iAnkqG4PvcVy",
        "colab_type": "code",
        "colab": {
          "base_uri": "https://localhost:8080/",
          "height": 35
        },
        "outputId": "17df8208-85f0-44d0-d2f4-5bbf0a4a527d"
      },
      "cell_type": "code",
      "source": [
        "type(day),type(str_day),type(date)"
      ],
      "execution_count": 0,
      "outputs": [
        {
          "output_type": "execute_result",
          "data": {
            "text/plain": [
              "(int, str, str)"
            ]
          },
          "metadata": {
            "tags": []
          },
          "execution_count": 21
        }
      ]
    },
    {
      "metadata": {
        "id": "txcMGwy2vqZ8",
        "colab_type": "code",
        "colab": {
          "base_uri": "https://localhost:8080/",
          "height": 1277
        },
        "outputId": "48f956ee-cf1a-4f70-c39f-ccbb4dff6be4"
      },
      "cell_type": "code",
      "source": [
        "dir()"
      ],
      "execution_count": 0,
      "outputs": [
        {
          "output_type": "execute_result",
          "data": {
            "text/plain": [
              "['In',\n",
              " 'Out',\n",
              " '_',\n",
              " '_1',\n",
              " '_12',\n",
              " '_13',\n",
              " '_14',\n",
              " '_16',\n",
              " '_2',\n",
              " '_20',\n",
              " '_21',\n",
              " '_3',\n",
              " '_4',\n",
              " '_5',\n",
              " '_6',\n",
              " '_9',\n",
              " '_TensorFlowImportHook',\n",
              " '__',\n",
              " '___',\n",
              " '__builtin__',\n",
              " '__builtins__',\n",
              " '__doc__',\n",
              " '__loader__',\n",
              " '__name__',\n",
              " '__package__',\n",
              " '__spec__',\n",
              " '_dh',\n",
              " '_i',\n",
              " '_i1',\n",
              " '_i10',\n",
              " '_i11',\n",
              " '_i12',\n",
              " '_i13',\n",
              " '_i14',\n",
              " '_i15',\n",
              " '_i16',\n",
              " '_i17',\n",
              " '_i18',\n",
              " '_i19',\n",
              " '_i2',\n",
              " '_i20',\n",
              " '_i21',\n",
              " '_i22',\n",
              " '_i3',\n",
              " '_i4',\n",
              " '_i5',\n",
              " '_i6',\n",
              " '_i7',\n",
              " '_i8',\n",
              " '_i9',\n",
              " '_ih',\n",
              " '_ii',\n",
              " '_iii',\n",
              " '_oh',\n",
              " '_sh',\n",
              " 'date',\n",
              " 'datetime',\n",
              " 'day',\n",
              " 'exit',\n",
              " 'get_ipython',\n",
              " 'imp',\n",
              " 'logging',\n",
              " 'os',\n",
              " 'psy',\n",
              " 'quit',\n",
              " 'register_hook',\n",
              " 'some_var',\n",
              " 'str_day',\n",
              " 'sum',\n",
              " 'sys']"
            ]
          },
          "metadata": {
            "tags": []
          },
          "execution_count": 22
        }
      ]
    },
    {
      "metadata": {
        "id": "vEATbuliwDWI",
        "colab_type": "text"
      },
      "cell_type": "markdown",
      "source": [
        "Python data types\n",
        "\n",
        "  - String\n",
        "  - Number\n",
        "  - Boolean\n",
        "  - List\n",
        "  - Tuple\n",
        "  - Dictionary"
      ]
    },
    {
      "metadata": {
        "id": "xSbOnMBIwnwB",
        "colab_type": "text"
      },
      "cell_type": "markdown",
      "source": [
        "# 문자열을 숫자로 변환: int(),float()"
      ]
    },
    {
      "metadata": {
        "id": "jIgHa_H0vwTW",
        "colab_type": "code",
        "colab": {}
      },
      "cell_type": "code",
      "source": [
        "num = int('31')\n",
        "pi= float('3.141592')"
      ],
      "execution_count": 0,
      "outputs": []
    },
    {
      "metadata": {
        "id": "TAiJK-Pzw2Tx",
        "colab_type": "code",
        "colab": {
          "base_uri": "https://localhost:8080/",
          "height": 35
        },
        "outputId": "4f85e734-8577-47a6-d68d-98bf6ea2f431"
      },
      "cell_type": "code",
      "source": [
        "# num_pi\n",
        "num"
      ],
      "execution_count": 0,
      "outputs": [
        {
          "output_type": "execute_result",
          "data": {
            "text/plain": [
              "31"
            ]
          },
          "metadata": {
            "tags": []
          },
          "execution_count": 24
        }
      ]
    },
    {
      "metadata": {
        "id": "9jJKlHlvw7ik",
        "colab_type": "code",
        "colab": {
          "base_uri": "https://localhost:8080/",
          "height": 35
        },
        "outputId": "00529810-f737-4e40-b551-fdbba71f13eb"
      },
      "cell_type": "code",
      "source": [
        "pi,type(pi)"
      ],
      "execution_count": 0,
      "outputs": [
        {
          "output_type": "execute_result",
          "data": {
            "text/plain": [
              "(3.141592, float)"
            ]
          },
          "metadata": {
            "tags": []
          },
          "execution_count": 27
        }
      ]
    },
    {
      "metadata": {
        "id": "RBtCG_svxDXq",
        "colab_type": "code",
        "colab": {
          "base_uri": "https://localhost:8080/",
          "height": 35
        },
        "outputId": "9ed1062d-1a9b-4aa7-8eee-18fd9e49ff9b"
      },
      "cell_type": "code",
      "source": [
        "print('num = {}, pi = {}'.format(num,pi))"
      ],
      "execution_count": 0,
      "outputs": [
        {
          "output_type": "stream",
          "text": [
            "num = 31, pi = 3.141592\n"
          ],
          "name": "stdout"
        }
      ]
    },
    {
      "metadata": {
        "id": "NW1vOG4ixczR",
        "colab_type": "text"
      },
      "cell_type": "markdown",
      "source": [
        "# 예약어 (keywords)"
      ]
    },
    {
      "metadata": {
        "id": "nAozxwvU0jjo",
        "colab_type": "code",
        "colab": {
          "base_uri": "https://localhost:8080/",
          "height": 35
        },
        "outputId": "4dacb0ee-8960-4c34-e525-6359f32666fe"
      },
      "cell_type": "code",
      "source": [
        "import keyword\n",
        "\n",
        "# 파이선의 예약어 수\n",
        "\n",
        "len(keyword.kwlist)"
      ],
      "execution_count": 0,
      "outputs": [
        {
          "output_type": "execute_result",
          "data": {
            "text/plain": [
              "33"
            ]
          },
          "metadata": {
            "tags": []
          },
          "execution_count": 31
        }
      ]
    },
    {
      "metadata": {
        "id": "CJ0LmjFE0xmR",
        "colab_type": "code",
        "colab": {
          "base_uri": "https://localhost:8080/",
          "height": 35
        },
        "outputId": "9a88ec8f-c5ff-4754-b4f6-18bb23be5a55"
      },
      "cell_type": "code",
      "source": [
        "keyword"
      ],
      "execution_count": 0,
      "outputs": [
        {
          "output_type": "execute_result",
          "data": {
            "text/plain": [
              "<module 'keyword' from '/usr/lib/python3.6/keyword.py'>"
            ]
          },
          "metadata": {
            "tags": []
          },
          "execution_count": 32
        }
      ]
    },
    {
      "metadata": {
        "id": "6jWTxNfd0ult",
        "colab_type": "code",
        "colab": {
          "base_uri": "https://localhost:8080/",
          "height": 611
        },
        "outputId": "4445ff93-c138-4d0a-daa3-feef3d3a7bc7"
      },
      "cell_type": "code",
      "source": [
        "keyword.kwlist"
      ],
      "execution_count": 0,
      "outputs": [
        {
          "output_type": "execute_result",
          "data": {
            "text/plain": [
              "['False',\n",
              " 'None',\n",
              " 'True',\n",
              " 'and',\n",
              " 'as',\n",
              " 'assert',\n",
              " 'break',\n",
              " 'class',\n",
              " 'continue',\n",
              " 'def',\n",
              " 'del',\n",
              " 'elif',\n",
              " 'else',\n",
              " 'except',\n",
              " 'finally',\n",
              " 'for',\n",
              " 'from',\n",
              " 'global',\n",
              " 'if',\n",
              " 'import',\n",
              " 'in',\n",
              " 'is',\n",
              " 'lambda',\n",
              " 'nonlocal',\n",
              " 'not',\n",
              " 'or',\n",
              " 'pass',\n",
              " 'raise',\n",
              " 'return',\n",
              " 'try',\n",
              " 'while',\n",
              " 'with',\n",
              " 'yield']"
            ]
          },
          "metadata": {
            "tags": []
          },
          "execution_count": 33
        }
      ]
    },
    {
      "metadata": {
        "id": "lxoNfzW40_uw",
        "colab_type": "code",
        "colab": {
          "base_uri": "https://localhost:8080/",
          "height": 136
        },
        "outputId": "d96f875d-4813-4f20-ca2c-d5345c82a56f"
      },
      "cell_type": "code",
      "source": [
        "as = 'inje'    # 키워드는 변수로 사용할 수 없다"
      ],
      "execution_count": 0,
      "outputs": [
        {
          "output_type": "error",
          "ename": "SyntaxError",
          "evalue": "ignored",
          "traceback": [
            "\u001b[0;36m  File \u001b[0;32m\"<ipython-input-34-7ed0a8d5219d>\"\u001b[0;36m, line \u001b[0;32m1\u001b[0m\n\u001b[0;31m    as = 'inje'\u001b[0m\n\u001b[0m     ^\u001b[0m\n\u001b[0;31mSyntaxError\u001b[0m\u001b[0;31m:\u001b[0m invalid syntax\n"
          ]
        }
      ]
    },
    {
      "metadata": {
        "id": "nsn1uyuk1Pie",
        "colab_type": "code",
        "colab": {
          "base_uri": "https://localhost:8080/",
          "height": 35
        },
        "outputId": "5a3b2357-4b33-4b69-af57-76483d04bb35"
      },
      "cell_type": "code",
      "source": [
        "_as = 'inje'\n",
        "_as"
      ],
      "execution_count": 0,
      "outputs": [
        {
          "output_type": "execute_result",
          "data": {
            "text/plain": [
              "'inje'"
            ]
          },
          "metadata": {
            "tags": []
          },
          "execution_count": 35
        }
      ]
    },
    {
      "metadata": {
        "id": "cpF2VFSd1gOJ",
        "colab_type": "text"
      },
      "cell_type": "markdown",
      "source": [
        "**예약어는 변수 이름으로 사용할 수 없다.**"
      ]
    },
    {
      "metadata": {
        "id": "M6M4QW-B1wwJ",
        "colab_type": "text"
      },
      "cell_type": "markdown",
      "source": [
        "# User input"
      ]
    },
    {
      "metadata": {
        "id": "uXXtkNgk1c2o",
        "colab_type": "code",
        "colab": {
          "base_uri": "https://localhost:8080/",
          "height": 35
        },
        "outputId": "3cfe8214-8c84-478c-e3e6-66a8d90eab27"
      },
      "cell_type": "code",
      "source": [
        "name = input('Please write down your name here! ')"
      ],
      "execution_count": 0,
      "outputs": [
        {
          "output_type": "stream",
          "text": [
            "Please write down your name here! seolyeong\n"
          ],
          "name": "stdout"
        }
      ]
    },
    {
      "metadata": {
        "id": "e_Sev0J910cC",
        "colab_type": "code",
        "colab": {
          "base_uri": "https://localhost:8080/",
          "height": 35
        },
        "outputId": "4afa1382-cbeb-4b61-fee1-fce8c7628b84"
      },
      "cell_type": "code",
      "source": [
        "name"
      ],
      "execution_count": 0,
      "outputs": [
        {
          "output_type": "execute_result",
          "data": {
            "text/plain": [
              "'seolyeong'"
            ]
          },
          "metadata": {
            "tags": []
          },
          "execution_count": 37
        }
      ]
    },
    {
      "metadata": {
        "id": "eFKr8r022AJB",
        "colab_type": "text"
      },
      "cell_type": "markdown",
      "source": [
        "# Code block & Indentation(들여쓰기)"
      ]
    },
    {
      "metadata": {
        "id": "AXsrjefm142t",
        "colab_type": "code",
        "colab": {
          "base_uri": "https://localhost:8080/",
          "height": 71
        },
        "outputId": "df3862ac-6803-47cd-8047-2335a6ef5c81"
      },
      "cell_type": "code",
      "source": [
        "if(10>3):\n",
        "  print('inside if block')\n",
        "  print('still inside if block')\n",
        "  \n",
        "print('outside if block!')"
      ],
      "execution_count": 0,
      "outputs": [
        {
          "output_type": "stream",
          "text": [
            "inside if block\n",
            "still inside if block\n",
            "outside if block!\n"
          ],
          "name": "stdout"
        }
      ]
    },
    {
      "metadata": {
        "id": "hDhKOuN63HeR",
        "colab_type": "text"
      },
      "cell_type": "markdown",
      "source": [
        "# Indentation error"
      ]
    },
    {
      "metadata": {
        "id": "23g0kaAh2fek",
        "colab_type": "code",
        "colab": {}
      },
      "cell_type": "code",
      "source": [
        "if(10>3):\n",
        "  print('inside if block')\n",
        "   print('still inside if block')\n",
        "  \n",
        "print('outside if block!')"
      ],
      "execution_count": 0,
      "outputs": []
    },
    {
      "metadata": {
        "id": "2Dbim0tM3hHQ",
        "colab_type": "text"
      },
      "cell_type": "markdown",
      "source": [
        "# 도전 코딩1. BMI = M/H**/2, M(kg),H(m)"
      ]
    },
    {
      "metadata": {
        "id": "T6V5lHC54O20",
        "colab_type": "code",
        "colab": {
          "base_uri": "https://localhost:8080/",
          "height": 71
        },
        "outputId": "fad45e92-df0c-407e-8f6c-d31071ec3202"
      },
      "cell_type": "code",
      "source": [
        "height = float(input('Your height in meters: '))\n",
        "weight = float(input('Your weight in kilograms: '))\n",
        "bmi = round(weight/ (height * height))\n",
        "bmi"
      ],
      "execution_count": 0,
      "outputs": [
        {
          "output_type": "stream",
          "text": [
            "Your height in meters: 1.65\n",
            "Your weight in kilograms: 45.0\n"
          ],
          "name": "stdout"
        },
        {
          "output_type": "execute_result",
          "data": {
            "text/plain": [
              "17"
            ]
          },
          "metadata": {
            "tags": []
          },
          "execution_count": 49
        }
      ]
    },
    {
      "metadata": {
        "id": "5Y-9yjB85OPR",
        "colab_type": "text"
      },
      "cell_type": "markdown",
      "source": [
        "# 도전 코딩2. Burning fat by jogging"
      ]
    },
    {
      "metadata": {
        "id": "itU6dh-w4zvi",
        "colab_type": "code",
        "colab": {}
      },
      "cell_type": "code",
      "source": [
        "# 조깅에서 1kg 지방을 태우는 데 몇 시간 걸리는지를 계산\n",
        "\n",
        "cal_per_1kg_fat = 7200 # 지방 1kg 연소에 필요한 열량\n",
        "\n",
        "cal_per_1min_jog = 7.76 # 조깅 1 분에 의한 소비 칼로리"
      ],
      "execution_count": 0,
      "outputs": []
    },
    {
      "metadata": {
        "id": "Q7gfN_FM58F9",
        "colab_type": "code",
        "colab": {
          "base_uri": "https://localhost:8080/",
          "height": 35
        },
        "outputId": "79a19a4d-0dcd-4dee-f4a1-9562d21ba1c5"
      },
      "cell_type": "code",
      "source": [
        "# 조깅에서 1kg 체중 감소하는데 몇 분이 필요할까?\n",
        "\n",
        "min_to_lose1kg = cal_per_1kg_fat/cal_per_1min_jog\n",
        "\n",
        "hours_to_lose1kg = min_to_lose1kg/60 # 분을 시간으로 환산\n",
        "\n",
        "print(str(round(hours_to_lose1kg,1))+ ' 시간') # 변수의 내용을 표시"
      ],
      "execution_count": 0,
      "outputs": [
        {
          "output_type": "stream",
          "text": [
            "15.5 시간\n"
          ],
          "name": "stdout"
        }
      ]
    },
    {
      "metadata": {
        "id": "tGIhlRL86ZMo",
        "colab_type": "code",
        "colab": {
          "base_uri": "https://localhost:8080/",
          "height": 35
        },
        "outputId": "05c3ffec-41d5-4c82-a64f-8009ec87342c"
      },
      "cell_type": "code",
      "source": [
        "print('{ } 시간', format(round(hours_to_lose1kg,1)))"
      ],
      "execution_count": 0,
      "outputs": [
        {
          "output_type": "stream",
          "text": [
            "{} 시간 15.5\n"
          ],
          "name": "stdout"
        }
      ]
    },
    {
      "metadata": {
        "id": "XD6udSlu7bfE",
        "colab_type": "code",
        "colab": {}
      },
      "cell_type": "code",
      "source": [
        ""
      ],
      "execution_count": 0,
      "outputs": []
    }
  ]
}