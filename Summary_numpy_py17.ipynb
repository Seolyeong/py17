{
  "nbformat": 4,
  "nbformat_minor": 0,
  "metadata": {
    "colab": {
      "name": "Summary_numpy_py17.ipynb",
      "version": "0.3.2",
      "provenance": [],
      "collapsed_sections": [],
      "include_colab_link": true
    },
    "kernelspec": {
      "name": "python3",
      "display_name": "Python 3"
    }
  },
  "cells": [
    {
      "cell_type": "markdown",
      "metadata": {
        "id": "view-in-github",
        "colab_type": "text"
      },
      "source": [
        "<a href=\"https://colab.research.google.com/github/Seolyeong/py17/blob/master/Summary_numpy_py17.ipynb\" target=\"_parent\"><img src=\"https://colab.research.google.com/assets/colab-badge.svg\" alt=\"Open In Colab\"/></a>"
      ]
    },
    {
      "metadata": {
        "id": "97M1zSgrc275",
        "colab_type": "text"
      },
      "cell_type": "markdown",
      "source": [
        "# 라이브러리 - overview"
      ]
    },
    {
      "metadata": {
        "id": "aOzzc77H_Cjy",
        "colab_type": "code",
        "colab": {
          "base_uri": "https://localhost:8080/",
          "height": 35
        },
        "outputId": "691f9ad6-caef-49e9-c9ab-b61ddead7d13"
      },
      "cell_type": "code",
      "source": [
        "import numpy\n",
        "A = numpy.array([1,2])\n",
        "print(\"A ==\", A, \", type ==\", type(A))"
      ],
      "execution_count": 1,
      "outputs": [
        {
          "output_type": "stream",
          "text": [
            "A == [1 2] , type == <class 'numpy.ndarray'>\n"
          ],
          "name": "stdout"
        }
      ]
    },
    {
      "metadata": {
        "id": "THM3i8MFfdAL",
        "colab_type": "code",
        "colab": {
          "base_uri": "https://localhost:8080/",
          "height": 35
        },
        "outputId": "4069f9cb-9bf3-4e91-b478-cea9cdb91c01"
      },
      "cell_type": "code",
      "source": [
        "import numpy as np\n",
        "A = np.array([1,2])\n",
        "print(\"A ==\", A, \", type ==\", type(A))"
      ],
      "execution_count": 2,
      "outputs": [
        {
          "output_type": "stream",
          "text": [
            "A == [1 2] , type == <class 'numpy.ndarray'>\n"
          ],
          "name": "stdout"
        }
      ]
    },
    {
      "metadata": {
        "id": "tKbmfODGfydb",
        "colab_type": "code",
        "colab": {
          "base_uri": "https://localhost:8080/",
          "height": 35
        },
        "outputId": "e8ae3181-7d01-4671-dc8b-f4e09fb2fbc8"
      },
      "cell_type": "code",
      "source": [
        "from numpy import exp\n",
        "result = exp(1)\n",
        "print(\"result ==\", result, \", type ==\", type(result))"
      ],
      "execution_count": 3,
      "outputs": [
        {
          "output_type": "stream",
          "text": [
            "result == 2.718281828459045 , type == <class 'numpy.float64'>\n"
          ],
          "name": "stdout"
        }
      ]
    },
    {
      "metadata": {
        "id": "Zn61CgS_gIll",
        "colab_type": "code",
        "colab": {
          "base_uri": "https://localhost:8080/",
          "height": 35
        },
        "outputId": "b5e2802f-e32f-4d72-da95-5065666ea51c"
      },
      "cell_type": "code",
      "source": [
        "from numpy import *\n",
        "result = exp(1)+log(1.7)+sqrt(2)\n",
        "print(\"result ==\", result, \", type ==\", type(result))"
      ],
      "execution_count": 4,
      "outputs": [
        {
          "output_type": "stream",
          "text": [
            "result == 4.663123641894311 , type == <class 'numpy.float64'>\n"
          ],
          "name": "stdout"
        }
      ]
    },
    {
      "metadata": {
        "id": "DiXJnYUEg00L",
        "colab_type": "text"
      },
      "cell_type": "markdown",
      "source": [
        "- numpy는 머신러닝 코드 개발할 경우 자주 사용되는 벡터, 행렬 등을 표현하고 연산할 때 필요한 라이브러리\n",
        "- **numpy vs list**\n",
        "> - 머신러닝 실행에서 숫자, 사람, 동물 등의 인식을 하기 위해서는 이미지 데이터를 행렬로 변환하는 것이 중요하다.\n",
        "> - 행렬을 나타내기 위해서는 리스트를 사용할 수도 있지만 행렬은 연산이 직관적이지 않고 오류가 생길 가능성이 높기 때문에 **행렬 연산을 위해 numpy 사용은 필수이다.**\n",
        "\n",
        "\n"
      ]
    },
    {
      "metadata": {
        "id": "C7c6L6XJiWgl",
        "colab_type": "text"
      },
      "cell_type": "markdown",
      "source": [
        "# 라이브러리 - numpy vector (1차원 배열)"
      ]
    },
    {
      "metadata": {
        "id": "_K78Xgi8idgd",
        "colab_type": "text"
      },
      "cell_type": "markdown",
      "source": [
        "- 벡터 생성\n",
        "> - 벡터는 np.array([  ])를 사용하여 생성 (import numpy as np)\n",
        "> - 머신러닝 코드 구현 시, 연산을 위해 벡터, 행렬 등의 형상, 차원을 확인하는 것이 필요하다.\n",
        "\n",
        "- 벡터 산술연산\n",
        "> - 벡터 간의 산술 연산(+, -, *, /)은 벡터의 각각의 원소에 대해 행해진다."
      ]
    },
    {
      "metadata": {
        "id": "xFMJlYDdgY9a",
        "colab_type": "code",
        "colab": {
          "base_uri": "https://localhost:8080/",
          "height": 71
        },
        "outputId": "a048d9b5-3eb6-47c8-d540-7b005fa64d7f"
      },
      "cell_type": "code",
      "source": [
        "A = np.array([1, 2, 3])\n",
        "B = np.array([4, 5, 6])\n",
        "\n",
        "# vector A, B 출력\n",
        "print(\"A ==\", A, \"B ==\", B)\n",
        "\n",
        "# vector A, B 형상 출력 => shape\n",
        "print(\"A.shape ==\", A.shape, \", B.shape ==\", B.shape)\n",
        "\n",
        "# vector A, B 차원 출력 => ndim\n",
        "print(\"A.ndim ==\", A.ndim, \", B.ndim ==\", B.ndim)"
      ],
      "execution_count": 5,
      "outputs": [
        {
          "output_type": "stream",
          "text": [
            "A == [1 2 3] B == [4 5 6]\n",
            "A.shape == (3,) , B.shape == (3,)\n",
            "A.ndim == 1 , B.ndim == 1\n"
          ],
          "name": "stdout"
        }
      ]
    },
    {
      "metadata": {
        "id": "uXNVLiZLlbwZ",
        "colab_type": "code",
        "colab": {
          "base_uri": "https://localhost:8080/",
          "height": 89
        },
        "outputId": "4c3ecc0e-f38b-4dda-cb76-177c91fdd88e"
      },
      "cell_type": "code",
      "source": [
        "# vector 산술 연산\n",
        "print(\"A + B ==\", A+B)\n",
        "print(\"A - B ==\", A-B)\n",
        "print(\"A * B ==\", A*B)\n",
        "print(\"A / B ==\", A/B)"
      ],
      "execution_count": 6,
      "outputs": [
        {
          "output_type": "stream",
          "text": [
            "A + B == [5 7 9]\n",
            "A - B == [-3 -3 -3]\n",
            "A * B == [ 4 10 18]\n",
            "A / B == [0.25 0.4  0.5 ]\n"
          ],
          "name": "stdout"
        }
      ]
    },
    {
      "metadata": {
        "id": "ydN-vG_1l-KI",
        "colab_type": "text"
      },
      "cell_type": "markdown",
      "source": [
        "# 라이브러리 - numpy matrix (행렬)"
      ]
    },
    {
      "metadata": {
        "id": "NsPNcS0dmEHL",
        "colab_type": "text"
      },
      "cell_type": "markdown",
      "source": [
        "- 행렬 생성\n",
        "> - 행렬은 벡터와 마찬가지로 np.array([ [   ], [   ],   ])를 사용하여 생성 (import numpy as np)"
      ]
    },
    {
      "metadata": {
        "id": "6U3wgzuNl4LL",
        "colab_type": "code",
        "colab": {
          "base_uri": "https://localhost:8080/",
          "height": 53
        },
        "outputId": "99fc9de0-d7fe-4768-c04b-3baff90fb978"
      },
      "cell_type": "code",
      "source": [
        "A = np.array([ [1, 2, 3], [4, 5, 6] ])\n",
        "B = np.array([ [-1, -2, -3], [-4, -5, -6] ])\n",
        "\n",
        "# matrix A, B 형상 출력 => shape\n",
        "print(\"A.shape ==\", A.shape, \", B.shape ==\", B.shape)\n",
        "\n",
        "# matrix A, B 차원 출력 => ndim\n",
        "print(\"A.ndim ==\", A.ndim, \", B.ndim ==\", B.ndim)"
      ],
      "execution_count": 7,
      "outputs": [
        {
          "output_type": "stream",
          "text": [
            "A.shape == (2, 3) , B.shape == (2, 3)\n",
            "A.ndim == 2 , B.ndim == 2\n"
          ],
          "name": "stdout"
        }
      ]
    },
    {
      "metadata": {
        "id": "xCzpXDeznHdU",
        "colab_type": "text"
      },
      "cell_type": "markdown",
      "source": [
        "- **형 변환 (reshape)**\n",
        "> - 벡터를 행렬로 변경하거나 행렬을 다른 형상의 행렬로 변경하기 위해 reshape( )를 사용하여 행렬의 shape를 변경해야한다."
      ]
    },
    {
      "metadata": {
        "id": "z1sz8vfjnvF7",
        "colab_type": "code",
        "colab": {
          "base_uri": "https://localhost:8080/",
          "height": 53
        },
        "outputId": "11794317-9c47-46ba-ebf1-fe359f043d9e"
      },
      "cell_type": "code",
      "source": [
        "# vector 생성\n",
        "C = np.array([1, 2, 3])\n",
        "\n",
        "# vector C형상 출력 => shape\n",
        "print(\"C.shape ==\", C.shape)\n",
        "\n",
        "# vector를 (1, 3) 행렬로 형 변환\n",
        "C = C.reshape(1, 3)\n",
        "\n",
        "print(\"C.shape ==\", C.shape)"
      ],
      "execution_count": 8,
      "outputs": [
        {
          "output_type": "stream",
          "text": [
            "C.shape == (3,)\n",
            "C.shape == (1, 3)\n"
          ],
          "name": "stdout"
        }
      ]
    },
    {
      "metadata": {
        "id": "ytsQbOlfrlG_",
        "colab_type": "text"
      },
      "cell_type": "markdown",
      "source": [
        "# 라이브러리 - numpy 행렬 곱 (dot product)"
      ]
    },
    {
      "metadata": {
        "id": "gudRVEYWrzrD",
        "colab_type": "text"
      },
      "cell_type": "markdown",
      "source": [
        "- 행렬 곱 (dot product)\n",
        "> - A 행렬과 B 행렬의 행렬 곱은 np.dot(A, B)를 나타내며, 행렬 A의 열 벡터와 B 행렬의 행 벡터가 같아야 한다.\n",
        "> - 만약 같지 않다면 reshape 또는 전치행렬 (transpose)등을 사용하여 형 변환을 한 후에 행렬 곱을 실행해야한다."
      ]
    },
    {
      "metadata": {
        "id": "5JcjHpmcoHRS",
        "colab_type": "code",
        "colab": {
          "base_uri": "https://localhost:8080/",
          "height": 89
        },
        "outputId": "3d2aa0b6-7ae6-4bb6-c0bb-20f93a56facc"
      },
      "cell_type": "code",
      "source": [
        "A = np.array([ [1, 2, 3], [4, 5, 6] ])   # 2 X 3 행렬\n",
        "B = np.array([ [-1, -2], [-3, -4], [-5, -6] ])   # 3 X 2 행렬\n",
        "\n",
        "# (2 X 3) dot product (3 X 2) = (2 X 2) 행렬\n",
        "C = np.dot(A, B) # 행렬 곱 수행\n",
        "\n",
        "# matrix A, B 형상 출력 => shape\n",
        "print(\"A.shape ==\", A.shape, \", B.shape ==\", B.shape)\n",
        "print(\"C.shape ==\", C.shape)\n",
        "print(C)"
      ],
      "execution_count": 12,
      "outputs": [
        {
          "output_type": "stream",
          "text": [
            "A.shape == (2, 3) , B.shape == (3, 2)\n",
            "C.shape == (2, 2)\n",
            "[[-22 -28]\n",
            " [-49 -64]]\n"
          ],
          "name": "stdout"
        }
      ]
    },
    {
      "metadata": {
        "id": "nthQokoQuDGD",
        "colab_type": "text"
      },
      "cell_type": "markdown",
      "source": [
        "\n",
        "\n",
        "1.   행렬 곱 조건을 만족하는 다양한 크기의 행렬을 연속으로 만들고\n",
        "2.   행렬 곱을 연속으로 계산하면서\n",
        "3.   결과값을 만들 수 있기 때문에 머신러닝과 이미지 프로세싱 분야에서 자주 사용된다.\n",
        "\n",
        "행렬 곱을 사용하지 않고 산술연산만 가능하다면, 입력 행렬의 크기를 가지는 특성 값만을 사용해야 하기 때문에 **다양한 특성을 갖는 필터 개발이 불가능하다.**\n"
      ]
    },
    {
      "metadata": {
        "id": "2mtKg5Ef3DkG",
        "colab_type": "text"
      },
      "cell_type": "markdown",
      "source": [
        "# 라이브러리 - numpy broadcast"
      ]
    },
    {
      "metadata": {
        "id": "2ADrEmYP3IY9",
        "colab_type": "text"
      },
      "cell_type": "markdown",
      "source": [
        "- 행렬의 사칙연산은 기본적으로 두 개의 행렬  크기가 같은 경우에만 수행할 수 있다. 하지만 **numpy에서는 크기가 다른 두 행렬간에도 사칙연산(+, -, *, /)을 할 수 있는데 이를 브로드캐스트(broadcast)라고 지칭한다.**\n",
        "> => 차원이 작은 쪽이 큰 쪽의 행 단위로 반복적으로 크기를 맞춘 후에 계산한다."
      ]
    },
    {
      "metadata": {
        "id": "InNBpU6rtWTJ",
        "colab_type": "code",
        "colab": {
          "base_uri": "https://localhost:8080/",
          "height": 53
        },
        "outputId": "78e460f0-e559-4b77-957b-63978cadb4a5"
      },
      "cell_type": "code",
      "source": [
        "A = np.array([ [1, 2], [3, 4] ])\n",
        "b = 5\n",
        "\n",
        "print(A+b)"
      ],
      "execution_count": 14,
      "outputs": [
        {
          "output_type": "stream",
          "text": [
            "[[6 7]\n",
            " [8 9]]\n"
          ],
          "name": "stdout"
        }
      ]
    },
    {
      "metadata": {
        "id": "wDEXry_14A14",
        "colab_type": "code",
        "colab": {
          "base_uri": "https://localhost:8080/",
          "height": 53
        },
        "outputId": "2e09f3f7-076d-41a2-9770-72f90fd872f0"
      },
      "cell_type": "code",
      "source": [
        "C = np.array([ [1, 2], [3, 4] ])\n",
        "D = np.array([4, 5])\n",
        "\n",
        "print(C+D)"
      ],
      "execution_count": 16,
      "outputs": [
        {
          "output_type": "stream",
          "text": [
            "[[5 7]\n",
            " [7 9]]\n"
          ],
          "name": "stdout"
        }
      ]
    },
    {
      "metadata": {
        "id": "Z5YHzQOI5ZdL",
        "colab_type": "text"
      },
      "cell_type": "markdown",
      "source": [
        "# 라이브러리 - numpy 전치행렬 (transpose)"
      ]
    },
    {
      "metadata": {
        "id": "cB7W234v5kIA",
        "colab_type": "text"
      },
      "cell_type": "markdown",
      "source": [
        "- 전치행렬 (transpose)\n",
        "> => 어떤 행렬의 전치행렬은 원본 행렬의 열은 행으로, 행은 열로 바꾼 것으로서, 원본 행렬을 A라고 하면 전치행렬은 A.T로 나타낸다.\n",
        "> - 즉, 1행은 1열로 바꾸고 2행은 2열로, 3행은 3열로 바꾼 행렬을 의미한다."
      ]
    },
    {
      "metadata": {
        "id": "MHVwi2li45Va",
        "colab_type": "code",
        "colab": {
          "base_uri": "https://localhost:8080/",
          "height": 125
        },
        "outputId": "7f5b853d-edcb-4595-a191-431e5b342877"
      },
      "cell_type": "code",
      "source": [
        "A = np.array([ [1, 2], [3, 4], [5, 6] ])   # 3 X 2 행렬\n",
        "B = A.T   # A의 전치행렬, 2 X 3 행렬\n",
        "\n",
        "print(\"A.shape ==\", A.shape, \", B.shape ==\", B.shape)\n",
        "print(A)\n",
        "print(B)"
      ],
      "execution_count": 17,
      "outputs": [
        {
          "output_type": "stream",
          "text": [
            "A.shape == (3, 2) , B.shape == (2, 3)\n",
            "[[1 2]\n",
            " [3 4]\n",
            " [5 6]]\n",
            "[[1 3 5]\n",
            " [2 4 6]]\n"
          ],
          "name": "stdout"
        }
      ]
    },
    {
      "metadata": {
        "id": "PhWfdvh_6obM",
        "colab_type": "code",
        "colab": {
          "base_uri": "https://localhost:8080/",
          "height": 143
        },
        "outputId": "c364a516-588f-428c-d3b0-31416e95d97f"
      },
      "cell_type": "code",
      "source": [
        "# vector 전치행렬\n",
        "C = np.array([1, 2, 3, 4, 5])   # vector, matrix 아님\n",
        "D = C.T   # C는 vector이므로 transpose가 되지 않는다.\n",
        "\n",
        "E = C.reshape(1, 5)   # 1 X 5 matrix\n",
        "F = E.T   # E의 전치행렬\n",
        "\n",
        "print(\"C.shape ==\", C.shape, \", D.shape ==\", D.shape)\n",
        "print(\"E.shape ==\", E.shape, \", F.shape ==\", F.shape)\n",
        "print(F)"
      ],
      "execution_count": 18,
      "outputs": [
        {
          "output_type": "stream",
          "text": [
            "C.shape == (5,) , D.shape == (5,)\n",
            "E.shape == (1, 5) , F.shape == (5, 1)\n",
            "[[1]\n",
            " [2]\n",
            " [3]\n",
            " [4]\n",
            " [5]]\n"
          ],
          "name": "stdout"
        }
      ]
    },
    {
      "metadata": {
        "id": "J5s9SB_48mP2",
        "colab_type": "text"
      },
      "cell_type": "markdown",
      "source": [
        "# 라이브러리 - numpy 행렬 indexing / slicing"
      ]
    },
    {
      "metadata": {
        "id": "PPTk4Gh-8tq_",
        "colab_type": "text"
      },
      "cell_type": "markdown",
      "source": [
        "- 행렬 원소 접근 (|)\n",
        ">=> 행렬 원소를 명시적(explicit)으로 접근하기 위해서는 리스트(list)에서 처럼 , 인덱싱 / 슬라이싱 모두 사용가능하다."
      ]
    },
    {
      "metadata": {
        "id": "Xj7xf4xK8YKd",
        "colab_type": "code",
        "colab": {
          "base_uri": "https://localhost:8080/",
          "height": 89
        },
        "outputId": "f958639d-e83c-4646-87c0-ee41aa28a88f"
      },
      "cell_type": "code",
      "source": [
        "A = np.array([10, 20, 30, 40, 50, 60]).reshape(3, 2)\n",
        "\n",
        "print(\"A.shape ==\", A.shape)\n",
        "print(A)"
      ],
      "execution_count": 19,
      "outputs": [
        {
          "output_type": "stream",
          "text": [
            "A.shape == (3, 2)\n",
            "[[10 20]\n",
            " [30 40]\n",
            " [50 60]]\n"
          ],
          "name": "stdout"
        }
      ]
    },
    {
      "metadata": {
        "id": "Y9DtXNsF9ssj",
        "colab_type": "code",
        "colab": {
          "base_uri": "https://localhost:8080/",
          "height": 53
        },
        "outputId": "781e43d7-fcb8-42cc-a6d5-57f3f5e0c0f6"
      },
      "cell_type": "code",
      "source": [
        "print(\"A[0, 0] ==\", A[0, 0], \", A[0][0] ==\", A[0][0])   # 1행 1열\n",
        "print(\"A[2, 1] ==\", A[2, 1], \", A[2][1] ==\", A[2][1])   # 3행 2열"
      ],
      "execution_count": 20,
      "outputs": [
        {
          "output_type": "stream",
          "text": [
            "A[0, 0] == 10 , A[0][0] == 10\n",
            "A[2, 1] == 60 , A[2][1] == 60\n"
          ],
          "name": "stdout"
        }
      ]
    },
    {
      "metadata": {
        "id": "ACWnQ7gt-JmZ",
        "colab_type": "code",
        "colab": {
          "base_uri": "https://localhost:8080/",
          "height": 53
        },
        "outputId": "73d467ca-d2aa-4251-ab51-9a52fd871e98"
      },
      "cell_type": "code",
      "source": [
        "print(\"A[0:-1, 1:2] ==\", A[0:-1, 1:2])\n",
        "# 인덱스 0인 1행부터, 인덱스 -1-1=-2인 2행까지의 모든 데이터,\n",
        "# 그리고 인덱스 1인 2열부터 인덱스 2-1=1인 2열까지의 모든 데이터"
      ],
      "execution_count": 21,
      "outputs": [
        {
          "output_type": "stream",
          "text": [
            "A[0:-1, 1:2] == [[20]\n",
            " [40]]\n"
          ],
          "name": "stdout"
        }
      ]
    },
    {
      "metadata": {
        "id": "yhBhWpdG-RSa",
        "colab_type": "code",
        "colab": {
          "base_uri": "https://localhost:8080/",
          "height": 89
        },
        "outputId": "b5336a32-3f17-46bf-f6dd-06c7dbc5d7e1"
      },
      "cell_type": "code",
      "source": [
        "print(\"A[:, 0] ==\", A[:, 0])   # 모든 행 1열을 나타낸다.\n",
        "print(\"A[:, :] ==\", A[:, :])   # 모든 행, 모든 열을 나타낸다."
      ],
      "execution_count": 23,
      "outputs": [
        {
          "output_type": "stream",
          "text": [
            "A[:, 0] == [10 30 50]\n",
            "A[:, :] == [[10 20]\n",
            " [30 40]\n",
            " [50 60]]\n"
          ],
          "name": "stdout"
        }
      ]
    },
    {
      "metadata": {
        "id": "2yCmcb8R_usf",
        "colab_type": "text"
      },
      "cell_type": "markdown",
      "source": [
        "# 라이브러리 - numpy 행렬 iterator"
      ]
    },
    {
      "metadata": {
        "id": "jj76uXyCAGW-",
        "colab_type": "text"
      },
      "cell_type": "markdown",
      "source": [
        "- 행렬 원소 접근 (||)\n",
        "\n",
        ">=> 명시적(explicit) 인덱싱 / 슬라이싱 이외에, **행렬 모든 원소를 access 하는 경우에는 iterator 사용가능**\n",
        "\n",
        "> => numpy iterator는 C++, Java iterator처럼 next() 메서드를 통해 데이터 값을 처음부터 끝까지 순차적으로 읽어 들이는 방법을 제공한다."
      ]
    },
    {
      "metadata": {
        "id": "vcv_ezCZ-WUy",
        "colab_type": "code",
        "colab": {
          "base_uri": "https://localhost:8080/",
          "height": 251
        },
        "outputId": "ab5e74ad-32c2-43a9-933f-403044266608"
      },
      "cell_type": "code",
      "source": [
        "import numpy as np\n",
        "\n",
        "A = np.array([ [10, 20, 30, 40], [50, 60, 70, 80] ])\n",
        "\n",
        "print(A, \"\\n\")\n",
        "print(\"A.shape ==\", A.shape, \"\\n\")\n",
        "\n",
        "# 행렬 A의 iterator 생성\n",
        "it = np.nditer(A, flags=['multi_index'], op_flags=['readwrite'])\n",
        "\n",
        "while not it.finished:\n",
        "  idx = it.multi_index\n",
        "  \n",
        "  print(\"current value => \", A[idx])\n",
        "  \n",
        "  it.iternext()"
      ],
      "execution_count": 24,
      "outputs": [
        {
          "output_type": "stream",
          "text": [
            "[[10 20 30 40]\n",
            " [50 60 70 80]] \n",
            "\n",
            "A.shape == (2, 4) \n",
            "\n",
            "current value =>  10\n",
            "current value =>  20\n",
            "current value =>  30\n",
            "current value =>  40\n",
            "current value =>  50\n",
            "current value =>  60\n",
            "current value =>  70\n",
            "current value =>  80\n"
          ],
          "name": "stdout"
        }
      ]
    },
    {
      "metadata": {
        "id": "xlWPytAVCpPU",
        "colab_type": "code",
        "colab": {}
      },
      "cell_type": "code",
      "source": [
        ""
      ],
      "execution_count": 0,
      "outputs": []
    }
  ]
}